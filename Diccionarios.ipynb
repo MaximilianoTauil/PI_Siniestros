{
 "cells": [
  {
   "cell_type": "markdown",
   "metadata": {},
   "source": [
    "# Diccionarios"
   ]
  },
  {
   "cell_type": "markdown",
   "metadata": {},
   "source": [
    "Se entregan a disposición los diccionarios del Dataset utilizado."
   ]
  },
  {
   "cell_type": "markdown",
   "metadata": {},
   "source": [
    "### Diccionario de hechos"
   ]
  },
  {
   "cell_type": "markdown",
   "metadata": {},
   "source": [
    "| Variables               | Descripción                                                         |\n",
    "|-------------------------|---------------------------------------------------------------------|\n",
    "| ID                      | Identificador único del siniestro                                  |\n",
    "| N_VICTIMAS              | Cantidad de víctimas                                               |\n",
    "| FECHA                   | Fecha en formato dd/mm/aaaa                                        |\n",
    "| AAAA                    | Año                                                                 |\n",
    "| MM                      | Mes                                                                 |\n",
    "| DD                      | Día del mes                                                         |\n",
    "| HORA                    | Hora del siniestro                                                  |\n",
    "| HH                      | Franja horaria entera                                              |\n",
    "| LUGAR_DEL_HECHO         | Dirección del hecho                                                 |\n",
    "| TIPO_DE_CALLE           | Tipo de arteria. En el caso de intersecciones a nivel se clasifica según la de mayor jerarquía |\n",
    "| Calle                   | Nombre de la arteria donde se produjo el hecho                      |\n",
    "| Altura                  | Altura de la arteria donde se produjo el hecho                      |\n",
    "| Cruce                   | Cruce en caso de que sea una encrucijada                            |\n",
    "| Dirección Normalizada   | Dirección en formato normalizado USIG                                |\n",
    "| COMUNA                  | Comuna de la ciudad (1 a 15)                                        |\n",
    "| XY (CABA)               | Geocodificación plana                                               |\n",
    "| pos x                   | Longitud con separador punto. WGS84                                  |\n",
    "| pos y                   | Latitud con separador punto. WGS84                                  |\n",
    "| PARTICIPANTES           | Conjunción de víctima y acusado                                     |\n",
    "| VICTIMA                 | Vehículo que ocupaba quien haya fallecido o se haya lastimado a raíz del hecho, o peatón/a. Clasificación agregada del tipo de vehículos. |\n",
    "| ACUSADO                 | Vehículo que ocupaba quien resultó acusado/a del hecho, sin implicar culpabilidad legal |\n",
    "\n"
   ]
  },
  {
   "cell_type": "markdown",
   "metadata": {},
   "source": [
    "Continua debajo ya que en las otras variables se suma una columa llamada \"Valores\"."
   ]
  },
  {
   "cell_type": "markdown",
   "metadata": {},
   "source": [
    "| Variables             | Valores  | Descripción                                                         |\n",
    "|-----------------------|----------|---------------------------------------------------------------------|\n",
    "| TIPO_DE_CALLE         | calle    | Arteria cuya calzada tiene un ancho comprendido entre cinco (5) y trece (13) metros. Incluye pasajes.  |\n",
    "|                       | avenida  | Arteria cuya calzada tiene un ancho total de por lo menos trece (13) metros.  |\n",
    "|                       | autopista | Vía multicarril con calzadas para ambas manos separadas físicamente, sin cruces a nivel, con accesos controlados y sin ingreso directo desde los predios frentistas. Incluye AU 25 de mayo, AU Perito Moreno, AU Dellepiane, Av Lugones, Av. Cantilo, AU Frondizi, AU Buenos Aires - La Plata en el tramo que circula dentro de la Ciudad de Buenos Aires y Paseo del Bajo. Incluye ingresos y egresos de las mismas y distribuidores. |\n",
    "|                       | general paz | Avenida General Paz, ambos sentidos. Incluye ingresos y egresos de las mismas, distribuidores y calle colectora.  |\n",
    "| VICTIMA               | PEATON   | Víctima distinta de cualquier ocupante de un vehículo, ya sea un conductor/a o un pasajero/a. Se incluyen los ocupantes o personas que empujan o arrastran un coche de bebé o una silla de ruedas o cualquier otro vehículo sin motor de pequeñas dimensiones. Se incluyen también las personas que caminan empujando una bicicleta o un ciclomotor.  |\n",
    "|                       | MOTO     | Vehículo a motor no carrozado que incluye motocicleta, ciclomotor y cuatriciclo.  |\n",
    "|                       | AUTO     | Vehículo a motor destinado al transporte de personas, diferente de los motovehículos, y que tenga hasta nueve plazas (incluyendo al asiento del conductor) (Sedan, SUV, coupe, etc).  |\n",
    "|                       | CARGAS   | Vehículo a motor destinado al transporte de cargas, incluye camiones pesados (con o sin acoplado o semirremolque, etc., camión de recolección de residuos) y livianos (utilitarios, furgonetas, pick-ups, camioneta con caja de carga).  |\n",
    "|                       | BICICLETA | Vehículo con al menos dos ruedas, que generalmente es accionado por el esfuerzo muscular de las personas que lo ocupan, en particular mediante pedales o manivelas. Incluye bicicletas de pedaleo asistido y/o con motor.  |\n",
    "|                       | PASAJEROS | Personas lesionadas que se encuentran dentro, descendiendo o ascendiendo de las unidades de autotrasporte público de pasajeros/as y ómnibus de larga distancia.  |\n",
    "|                       | MOVIL    | Vehículos de emergencia: móviles policiales, ambulancias, autobombas.   |\n",
    "|                       | OTRO     | Otros vehículos.  |\n",
    "|                       | SD       | Sin datos sobre el tipo de víctima.  |\n",
    "| ACUSADO               | AUTO     | Vehículo a motor destinado al transporte de personas, diferente de los motovehículos, y que tenga hasta nueve plazas (incluyendo al asiento del conductor) (Sedan, SUV, coupe, etc).  |\n",
    "|                       | BICICLETA | Vehículo con al menos dos ruedas, que generalmente es accionado por el esfuerzo muscular de las personas que lo ocupan, en particular mediante pedales o manivelas. Incluye bicicletas de pedaleo asistido y/o con motor.  |\n",
    "|                       | CARGAS   | Vehículo a motor destinado al transporte de cargas, incluye camiones pesados (con o sin acoplado o semirremolque, etc., camión de recolección de residuos) y livianos (utilitarios, furgonetas, pick-ups, camioneta con caja de carga).  |\n",
    "|                       | MOTO     | Vehículo a motor no carrozado que incluye motocicleta, ciclomotor y cuatriciclo.  |\n",
    "|                       | OBJETO FIJO | Colisión contra objetos inmóviles fijados de manera permanente o semipermanente (columna, árbol, semáforo, etc.) o pérdidas de equilibrio de vehículos de dos ruedas que desencadenen la caída de sus ocupantes.  |\n",
    "|                       | PASAJEROS | Personas lesionadas que se encuentran dentro, descendiendo o ascendiendo de las unidades de autotrasporte público de pasajeros/as y ómnibus de larga distancia.  |\n",
    "|                       | TREN     | Equipo móvil que se desplaza exclusivamente sobre rieles.  |\n",
    "|                       | OTRO     | Otros vehículos.  |\n",
    "|                       | SD       | Sin datos sobre el vehículo participante.  |\n",
    "| PARTICIPANTES         | MULTIPLE | Cuando participan más de un vehículo como contraparte de la víctima.  |\n"
   ]
  },
  {
   "cell_type": "markdown",
   "metadata": {},
   "source": [
    "### Diccionario de Víctimas"
   ]
  },
  {
   "cell_type": "markdown",
   "metadata": {},
   "source": [
    "| Variable                | Descripción                                                         |\n",
    "|-------------------------|---------------------------------------------------------------------|\n",
    "| ID_hecho                | Identificador único del siniestro                                   |\n",
    "| FECHA                   | Fecha en formato dd/mm/aaaa                                         |\n",
    "| AAAA                    | Año                                                                 |\n",
    "| MM                      | Mes                                                                 |\n",
    "| DD                      | Día del mes                                                         |\n",
    "| ROL                     | Posición relativa al vehículo que presentaba la víctima en el momento del siniestro |\n",
    "| VICTIMA                 | Vehículo que ocupaba quien haya fallecido o se haya lastimado a raíz del hecho, o bien peatón/a. Clasificación agregada del tipo de vehículos. |\n",
    "| SEXO                    | Sexo informado por fuente policial de la víctima                    |\n",
    "| EDAD                    | Edad de la víctima al momento del siniestro                         |\n",
    "| FECHA_FALLECIMIENTO    | Fecha de fallecimiento de la víctima                                 |\n"
   ]
  },
  {
   "cell_type": "markdown",
   "metadata": {},
   "source": [
    "Continua debajo ya que en las otras variables se suma una columa llamada \"Valores\"."
   ]
  },
  {
   "cell_type": "markdown",
   "metadata": {},
   "source": [
    "| Variables | Valores    | Descripción                                                                                                                            |\n",
    "|-----------|------------|----------------------------------------------------------------------------------------------------------------------------------------|\n",
    "| VICTIMA   | PEATON     | Víctima distinta de cualquier ocupante de un vehículo, ya sea un conductor/a o un pasajero/a. Se incluyen los ocupantes o personas que empujan o arrastran un coche de bebé o una silla de ruedas o cualquier otro vehículo sin motor de pequeñas dimensiones. Se incluyen también las personas que caminan empujando una bicicleta o un ciclomotor. |\n",
    "|           | MOTO       | Vehículo a motor no carrozado que incluye motocicleta, ciclomotor y cuatriciclo.                                                        |\n",
    "|           | AUTO       | Vehículo a motor destinado al transporte de personas, diferente de los motovehículos, y que tenga hasta nueve plazas (incluyendo al asiento del conductor) (Sedan, SUV, coupe, etc).                     |\n",
    "|           | CARGAS     | Vehículo a motor destinado al transporte de cargas, incluye camiones pesados (con o sin acoplado o semirremolque, etc., camión de recolección de residuos) y livianos (utilitarios, furgonetas, pick-ups, camioneta con caja de carga).                   |\n",
    "|           | BICICLETA  | Vehículo con al menos dos ruedas, que generalmente es accionado por el esfuerzo muscular de las personas que lo ocupan, en particular mediante pedales o manivelas. Incluye bicicletas de pedaleo asistido y/o con motor.      |\n",
    "|           | PASAJEROS  | Personas lesionadas que se encuentran dentro, descendiendo o ascendiendo de las unidades de autotrasporte público de pasajeros/as y ómnibus de larga distancia.                                          |\n",
    "|           | MOVIL      | Vehículos de emergencia: móviles policiales, ambulancias, autobombas.                                                                    |\n",
    "|           | OTRO       | Otros vehículos.                                                                                                                      |\n",
    "|           | SD         | Sin datos sobre el tipo de víctima.                                                                                                   |\n"
   ]
  }
 ],
 "metadata": {
  "language_info": {
   "name": "python"
  }
 },
 "nbformat": 4,
 "nbformat_minor": 2
}
