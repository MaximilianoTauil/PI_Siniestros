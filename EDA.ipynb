{
 "cells": [
  {
   "cell_type": "markdown",
   "metadata": {},
   "source": [
    "# Análisis Exploratorio de Datos (EDA)"
   ]
  },
  {
   "cell_type": "markdown",
   "metadata": {},
   "source": [
    "En este notebook se realizarán gráficos para hacer un mejor análisis de cada variable y además haremos una comparativa entre ellos para ver valores fuera de rangos, representación en porcentajes sobre el total de una columna, entre otros valores."
   ]
  },
  {
   "cell_type": "markdown",
   "metadata": {},
   "source": [
    "### Importamos librerías"
   ]
  },
  {
   "cell_type": "markdown",
   "metadata": {},
   "source": [
    "Estas librerías nos permiten manipular, analizar y visualizar los datos."
   ]
  },
  {
   "cell_type": "code",
   "execution_count": 2,
   "metadata": {},
   "outputs": [],
   "source": [
    "import pandas as pd\n",
    "import Herramientas as Herr\n",
    "import numpy as np\n",
    "import seaborn as sns\n",
    "import matplotlib.pyplot as plt\n",
    "import folium\n",
    "import warnings\n",
    "warnings.filterwarnings('ignore')"
   ]
  },
  {
   "cell_type": "markdown",
   "metadata": {},
   "source": [
    "### Carga de datos"
   ]
  },
  {
   "cell_type": "code",
   "execution_count": 3,
   "metadata": {},
   "outputs": [
    {
     "data": {
      "text/html": [
       "<div>\n",
       "<style scoped>\n",
       "    .dataframe tbody tr th:only-of-type {\n",
       "        vertical-align: middle;\n",
       "    }\n",
       "\n",
       "    .dataframe tbody tr th {\n",
       "        vertical-align: top;\n",
       "    }\n",
       "\n",
       "    .dataframe thead th {\n",
       "        text-align: right;\n",
       "    }\n",
       "</style>\n",
       "<table border=\"1\" class=\"dataframe\">\n",
       "  <thead>\n",
       "    <tr style=\"text-align: right;\">\n",
       "      <th></th>\n",
       "      <th>Id_hecho</th>\n",
       "      <th>Nro_victimas</th>\n",
       "      <th>Fecha</th>\n",
       "      <th>Anio</th>\n",
       "      <th>Mes</th>\n",
       "      <th>Dia</th>\n",
       "      <th>Hora</th>\n",
       "      <th>Lugar_hecho</th>\n",
       "      <th>Tipo_calle</th>\n",
       "      <th>Calle</th>\n",
       "      <th>Altura</th>\n",
       "      <th>Cruce</th>\n",
       "      <th>Direccion_normalizada</th>\n",
       "      <th>Comuna</th>\n",
       "      <th>Xy_plana</th>\n",
       "      <th>Long_x</th>\n",
       "      <th>Lat_y</th>\n",
       "      <th>Participantes</th>\n",
       "      <th>Victima</th>\n",
       "      <th>Acusado</th>\n",
       "      <th>Rol</th>\n",
       "      <th>Sexo</th>\n",
       "      <th>Edad</th>\n",
       "      <th>Fecha_fallecimiento</th>\n",
       "    </tr>\n",
       "  </thead>\n",
       "  <tbody>\n",
       "    <tr>\n",
       "      <th>0</th>\n",
       "      <td>2016-0001</td>\n",
       "      <td>1</td>\n",
       "      <td>2016-01-01</td>\n",
       "      <td>2016</td>\n",
       "      <td>Enero</td>\n",
       "      <td>1</td>\n",
       "      <td>4</td>\n",
       "      <td>AV PIEDRA BUENA Y AV FERNANDEZ DE LA CRUZ</td>\n",
       "      <td>AVENIDA</td>\n",
       "      <td>PIEDRA BUENA AV.</td>\n",
       "      <td>NaN</td>\n",
       "      <td>FERNANDEZ DE LA CRUZ, F., GRAL. AV.</td>\n",
       "      <td>PIEDRA BUENA AV. y FERNANDEZ DE LA CRUZ, F., G...</td>\n",
       "      <td>8</td>\n",
       "      <td>Point (98896.78238426 93532.43437792)</td>\n",
       "      <td>-58.47533969</td>\n",
       "      <td>-34.68757022</td>\n",
       "      <td>MOTO-AUTO</td>\n",
       "      <td>MOTO</td>\n",
       "      <td>AUTO</td>\n",
       "      <td>CONDUCTOR</td>\n",
       "      <td>MASCULINO</td>\n",
       "      <td>19</td>\n",
       "      <td>2016-01-01</td>\n",
       "    </tr>\n",
       "    <tr>\n",
       "      <th>1</th>\n",
       "      <td>2016-0002</td>\n",
       "      <td>1</td>\n",
       "      <td>2016-01-02</td>\n",
       "      <td>2016</td>\n",
       "      <td>Enero</td>\n",
       "      <td>2</td>\n",
       "      <td>1</td>\n",
       "      <td>AV GRAL PAZ  Y AV DE LOS CORRALES</td>\n",
       "      <td>AUTOPISTA</td>\n",
       "      <td>PAZ, GRAL. AV.</td>\n",
       "      <td>NaN</td>\n",
       "      <td>DE LOS CORRALES AV.</td>\n",
       "      <td>PAZ, GRAL. AV. y DE LOS CORRALES AV.</td>\n",
       "      <td>9</td>\n",
       "      <td>Point (95832.05571093 95505.41641999)</td>\n",
       "      <td>-58.50877521</td>\n",
       "      <td>-34.66977709</td>\n",
       "      <td>AUTO-PASAJEROS</td>\n",
       "      <td>AUTO</td>\n",
       "      <td>PASAJEROS</td>\n",
       "      <td>CONDUCTOR</td>\n",
       "      <td>MASCULINO</td>\n",
       "      <td>70</td>\n",
       "      <td>2016-01-02</td>\n",
       "    </tr>\n",
       "    <tr>\n",
       "      <th>2</th>\n",
       "      <td>2016-0003</td>\n",
       "      <td>1</td>\n",
       "      <td>2016-01-03</td>\n",
       "      <td>2016</td>\n",
       "      <td>Enero</td>\n",
       "      <td>3</td>\n",
       "      <td>7</td>\n",
       "      <td>AV ENTRE RIOS 2034</td>\n",
       "      <td>AVENIDA</td>\n",
       "      <td>ENTRE RIOS AV.</td>\n",
       "      <td>2034.0</td>\n",
       "      <td>No_data</td>\n",
       "      <td>ENTRE RIOS AV. 2034</td>\n",
       "      <td>1</td>\n",
       "      <td>Point (106684.29090040 99706.57687843)</td>\n",
       "      <td>-58.39040293</td>\n",
       "      <td>-34.63189362</td>\n",
       "      <td>MOTO-AUTO</td>\n",
       "      <td>MOTO</td>\n",
       "      <td>AUTO</td>\n",
       "      <td>CONDUCTOR</td>\n",
       "      <td>MASCULINO</td>\n",
       "      <td>30</td>\n",
       "      <td>2016-01-03</td>\n",
       "    </tr>\n",
       "    <tr>\n",
       "      <th>3</th>\n",
       "      <td>2016-0004</td>\n",
       "      <td>1</td>\n",
       "      <td>2016-01-10</td>\n",
       "      <td>2016</td>\n",
       "      <td>Enero</td>\n",
       "      <td>10</td>\n",
       "      <td>0</td>\n",
       "      <td>AV LARRAZABAL Y GRAL VILLEGAS CONRADO</td>\n",
       "      <td>AVENIDA</td>\n",
       "      <td>LARRAZABAL AV.</td>\n",
       "      <td>NaN</td>\n",
       "      <td>VILLEGAS, CONRADO, GRAL.</td>\n",
       "      <td>LARRAZABAL AV. y VILLEGAS, CONRADO, GRAL.</td>\n",
       "      <td>8</td>\n",
       "      <td>Point (99840.65224780 94269.16534422)</td>\n",
       "      <td>-58.46503904</td>\n",
       "      <td>-34.68092974</td>\n",
       "      <td>MOTO-SD</td>\n",
       "      <td>MOTO</td>\n",
       "      <td>No_data</td>\n",
       "      <td>CONDUCTOR</td>\n",
       "      <td>MASCULINO</td>\n",
       "      <td>18</td>\n",
       "      <td>2000-01-01</td>\n",
       "    </tr>\n",
       "    <tr>\n",
       "      <th>4</th>\n",
       "      <td>2016-0005</td>\n",
       "      <td>1</td>\n",
       "      <td>2016-01-21</td>\n",
       "      <td>2016</td>\n",
       "      <td>Enero</td>\n",
       "      <td>21</td>\n",
       "      <td>5</td>\n",
       "      <td>AV SAN JUAN Y PRESIDENTE LUIS SAENZ PEÑA</td>\n",
       "      <td>AVENIDA</td>\n",
       "      <td>SAN JUAN AV.</td>\n",
       "      <td>NaN</td>\n",
       "      <td>SAENZ PE?A, LUIS, PRES.</td>\n",
       "      <td>SAN JUAN AV. y SAENZ PEÃ‘A, LUIS, PRES.</td>\n",
       "      <td>1</td>\n",
       "      <td>Point (106980.32827929 100752.16915795)</td>\n",
       "      <td>-58.38718297</td>\n",
       "      <td>-34.62246630</td>\n",
       "      <td>MOTO-PASAJEROS</td>\n",
       "      <td>MOTO</td>\n",
       "      <td>PASAJEROS</td>\n",
       "      <td>CONDUCTOR</td>\n",
       "      <td>MASCULINO</td>\n",
       "      <td>29</td>\n",
       "      <td>2016-02-01</td>\n",
       "    </tr>\n",
       "    <tr>\n",
       "      <th>5</th>\n",
       "      <td>2016-0008</td>\n",
       "      <td>1</td>\n",
       "      <td>2016-01-24</td>\n",
       "      <td>2016</td>\n",
       "      <td>Enero</td>\n",
       "      <td>24</td>\n",
       "      <td>18</td>\n",
       "      <td>AV 27 DE FEBRERO Y AV ESCALADA</td>\n",
       "      <td>AVENIDA</td>\n",
       "      <td>27 DE FEBRERO AV.</td>\n",
       "      <td>NaN</td>\n",
       "      <td>ESCALADA AV.</td>\n",
       "      <td>27 DE FEBRERO AV. y ESCALADA AV.</td>\n",
       "      <td>8</td>\n",
       "      <td>Point (101721.59002217 93844.25656649)</td>\n",
       "      <td>-58.44451316</td>\n",
       "      <td>-34.68475866</td>\n",
       "      <td>MOTO-OBJETO FIJO</td>\n",
       "      <td>MOTO</td>\n",
       "      <td>OBJETO FIJO</td>\n",
       "      <td>CONDUCTOR</td>\n",
       "      <td>MASCULINO</td>\n",
       "      <td>30</td>\n",
       "      <td>2016-01-24</td>\n",
       "    </tr>\n",
       "  </tbody>\n",
       "</table>\n",
       "</div>"
      ],
      "text/plain": [
       "    Id_hecho  Nro_victimas       Fecha  Anio    Mes  Dia  Hora  \\\n",
       "0  2016-0001             1  2016-01-01  2016  Enero    1     4   \n",
       "1  2016-0002             1  2016-01-02  2016  Enero    2     1   \n",
       "2  2016-0003             1  2016-01-03  2016  Enero    3     7   \n",
       "3  2016-0004             1  2016-01-10  2016  Enero   10     0   \n",
       "4  2016-0005             1  2016-01-21  2016  Enero   21     5   \n",
       "5  2016-0008             1  2016-01-24  2016  Enero   24    18   \n",
       "\n",
       "                                 Lugar_hecho Tipo_calle              Calle  \\\n",
       "0  AV PIEDRA BUENA Y AV FERNANDEZ DE LA CRUZ    AVENIDA   PIEDRA BUENA AV.   \n",
       "1          AV GRAL PAZ  Y AV DE LOS CORRALES  AUTOPISTA     PAZ, GRAL. AV.   \n",
       "2                         AV ENTRE RIOS 2034    AVENIDA     ENTRE RIOS AV.   \n",
       "3      AV LARRAZABAL Y GRAL VILLEGAS CONRADO    AVENIDA     LARRAZABAL AV.   \n",
       "4  AV SAN JUAN Y PRESIDENTE LUIS SAENZ PEÑA     AVENIDA       SAN JUAN AV.   \n",
       "5             AV 27 DE FEBRERO Y AV ESCALADA    AVENIDA  27 DE FEBRERO AV.   \n",
       "\n",
       "   Altura                                Cruce  \\\n",
       "0     NaN  FERNANDEZ DE LA CRUZ, F., GRAL. AV.   \n",
       "1     NaN                  DE LOS CORRALES AV.   \n",
       "2  2034.0                              No_data   \n",
       "3     NaN             VILLEGAS, CONRADO, GRAL.   \n",
       "4     NaN              SAENZ PE?A, LUIS, PRES.   \n",
       "5     NaN                         ESCALADA AV.   \n",
       "\n",
       "                               Direccion_normalizada  Comuna  \\\n",
       "0  PIEDRA BUENA AV. y FERNANDEZ DE LA CRUZ, F., G...       8   \n",
       "1               PAZ, GRAL. AV. y DE LOS CORRALES AV.       9   \n",
       "2                                ENTRE RIOS AV. 2034       1   \n",
       "3          LARRAZABAL AV. y VILLEGAS, CONRADO, GRAL.       8   \n",
       "4            SAN JUAN AV. y SAENZ PEÃ‘A, LUIS, PRES.       1   \n",
       "5                   27 DE FEBRERO AV. y ESCALADA AV.       8   \n",
       "\n",
       "                                  Xy_plana        Long_x         Lat_y  \\\n",
       "0    Point (98896.78238426 93532.43437792)  -58.47533969  -34.68757022   \n",
       "1    Point (95832.05571093 95505.41641999)  -58.50877521  -34.66977709   \n",
       "2   Point (106684.29090040 99706.57687843)  -58.39040293  -34.63189362   \n",
       "3    Point (99840.65224780 94269.16534422)  -58.46503904  -34.68092974   \n",
       "4  Point (106980.32827929 100752.16915795)  -58.38718297  -34.62246630   \n",
       "5   Point (101721.59002217 93844.25656649)  -58.44451316  -34.68475866   \n",
       "\n",
       "      Participantes Victima      Acusado        Rol       Sexo  Edad  \\\n",
       "0         MOTO-AUTO    MOTO         AUTO  CONDUCTOR  MASCULINO    19   \n",
       "1    AUTO-PASAJEROS    AUTO    PASAJEROS  CONDUCTOR  MASCULINO    70   \n",
       "2         MOTO-AUTO    MOTO         AUTO  CONDUCTOR  MASCULINO    30   \n",
       "3           MOTO-SD    MOTO      No_data  CONDUCTOR  MASCULINO    18   \n",
       "4    MOTO-PASAJEROS    MOTO    PASAJEROS  CONDUCTOR  MASCULINO    29   \n",
       "5  MOTO-OBJETO FIJO    MOTO  OBJETO FIJO  CONDUCTOR  MASCULINO    30   \n",
       "\n",
       "  Fecha_fallecimiento  \n",
       "0          2016-01-01  \n",
       "1          2016-01-02  \n",
       "2          2016-01-03  \n",
       "3          2000-01-01  \n",
       "4          2016-02-01  \n",
       "5          2016-01-24  "
      ]
     },
     "execution_count": 3,
     "metadata": {},
     "output_type": "execute_result"
    }
   ],
   "source": [
    "pd.set_option('display.max_columns', None)\n",
    "data_union = pd.read_csv('Datasets/homicidios-victimas.csv')\n",
    "data_union.head(6)"
   ]
  },
  {
   "cell_type": "markdown",
   "metadata": {},
   "source": [
    "Realizaremos la revisión del DataFrame con nuestro modulo Herramientas."
   ]
  },
  {
   "cell_type": "code",
   "execution_count": 4,
   "metadata": {},
   "outputs": [
    {
     "data": {
      "text/html": [
       "<div>\n",
       "<style scoped>\n",
       "    .dataframe tbody tr th:only-of-type {\n",
       "        vertical-align: middle;\n",
       "    }\n",
       "\n",
       "    .dataframe tbody tr th {\n",
       "        vertical-align: top;\n",
       "    }\n",
       "\n",
       "    .dataframe thead th {\n",
       "        text-align: right;\n",
       "    }\n",
       "</style>\n",
       "<table border=\"1\" class=\"dataframe\">\n",
       "  <thead>\n",
       "    <tr style=\"text-align: right;\">\n",
       "      <th></th>\n",
       "      <th>Nombre</th>\n",
       "      <th>Tipos de Datos Únicos</th>\n",
       "      <th>% de Valores No Nulos</th>\n",
       "      <th>% de Valores Nulos</th>\n",
       "      <th>Cantidad de Valores Nulos</th>\n",
       "    </tr>\n",
       "  </thead>\n",
       "  <tbody>\n",
       "    <tr>\n",
       "      <th>0</th>\n",
       "      <td>Id_hecho</td>\n",
       "      <td>[&lt;class 'str'&gt;]</td>\n",
       "      <td>100.00</td>\n",
       "      <td>0.00</td>\n",
       "      <td>0</td>\n",
       "    </tr>\n",
       "    <tr>\n",
       "      <th>1</th>\n",
       "      <td>Nro_victimas</td>\n",
       "      <td>[&lt;class 'int'&gt;]</td>\n",
       "      <td>100.00</td>\n",
       "      <td>0.00</td>\n",
       "      <td>0</td>\n",
       "    </tr>\n",
       "    <tr>\n",
       "      <th>2</th>\n",
       "      <td>Fecha</td>\n",
       "      <td>[&lt;class 'str'&gt;]</td>\n",
       "      <td>100.00</td>\n",
       "      <td>0.00</td>\n",
       "      <td>0</td>\n",
       "    </tr>\n",
       "    <tr>\n",
       "      <th>3</th>\n",
       "      <td>Anio</td>\n",
       "      <td>[&lt;class 'int'&gt;]</td>\n",
       "      <td>100.00</td>\n",
       "      <td>0.00</td>\n",
       "      <td>0</td>\n",
       "    </tr>\n",
       "    <tr>\n",
       "      <th>4</th>\n",
       "      <td>Mes</td>\n",
       "      <td>[&lt;class 'str'&gt;]</td>\n",
       "      <td>100.00</td>\n",
       "      <td>0.00</td>\n",
       "      <td>0</td>\n",
       "    </tr>\n",
       "    <tr>\n",
       "      <th>5</th>\n",
       "      <td>Dia</td>\n",
       "      <td>[&lt;class 'int'&gt;]</td>\n",
       "      <td>100.00</td>\n",
       "      <td>0.00</td>\n",
       "      <td>0</td>\n",
       "    </tr>\n",
       "    <tr>\n",
       "      <th>6</th>\n",
       "      <td>Hora</td>\n",
       "      <td>[&lt;class 'int'&gt;]</td>\n",
       "      <td>100.00</td>\n",
       "      <td>0.00</td>\n",
       "      <td>0</td>\n",
       "    </tr>\n",
       "    <tr>\n",
       "      <th>7</th>\n",
       "      <td>Lugar_hecho</td>\n",
       "      <td>[&lt;class 'str'&gt;]</td>\n",
       "      <td>100.00</td>\n",
       "      <td>0.00</td>\n",
       "      <td>0</td>\n",
       "    </tr>\n",
       "    <tr>\n",
       "      <th>8</th>\n",
       "      <td>Tipo_calle</td>\n",
       "      <td>[&lt;class 'str'&gt;]</td>\n",
       "      <td>100.00</td>\n",
       "      <td>0.00</td>\n",
       "      <td>0</td>\n",
       "    </tr>\n",
       "    <tr>\n",
       "      <th>9</th>\n",
       "      <td>Calle</td>\n",
       "      <td>[&lt;class 'str'&gt;]</td>\n",
       "      <td>100.00</td>\n",
       "      <td>0.00</td>\n",
       "      <td>0</td>\n",
       "    </tr>\n",
       "    <tr>\n",
       "      <th>10</th>\n",
       "      <td>Altura</td>\n",
       "      <td>[&lt;class 'float'&gt;]</td>\n",
       "      <td>18.81</td>\n",
       "      <td>81.19</td>\n",
       "      <td>574</td>\n",
       "    </tr>\n",
       "    <tr>\n",
       "      <th>11</th>\n",
       "      <td>Cruce</td>\n",
       "      <td>[&lt;class 'str'&gt;]</td>\n",
       "      <td>100.00</td>\n",
       "      <td>0.00</td>\n",
       "      <td>0</td>\n",
       "    </tr>\n",
       "    <tr>\n",
       "      <th>12</th>\n",
       "      <td>Direccion_normalizada</td>\n",
       "      <td>[&lt;class 'str'&gt;]</td>\n",
       "      <td>100.00</td>\n",
       "      <td>0.00</td>\n",
       "      <td>0</td>\n",
       "    </tr>\n",
       "    <tr>\n",
       "      <th>13</th>\n",
       "      <td>Comuna</td>\n",
       "      <td>[&lt;class 'int'&gt;]</td>\n",
       "      <td>100.00</td>\n",
       "      <td>0.00</td>\n",
       "      <td>0</td>\n",
       "    </tr>\n",
       "    <tr>\n",
       "      <th>14</th>\n",
       "      <td>Xy_plana</td>\n",
       "      <td>[&lt;class 'str'&gt;]</td>\n",
       "      <td>100.00</td>\n",
       "      <td>0.00</td>\n",
       "      <td>0</td>\n",
       "    </tr>\n",
       "    <tr>\n",
       "      <th>15</th>\n",
       "      <td>Long_x</td>\n",
       "      <td>[&lt;class 'str'&gt;]</td>\n",
       "      <td>100.00</td>\n",
       "      <td>0.00</td>\n",
       "      <td>0</td>\n",
       "    </tr>\n",
       "    <tr>\n",
       "      <th>16</th>\n",
       "      <td>Lat_y</td>\n",
       "      <td>[&lt;class 'str'&gt;]</td>\n",
       "      <td>100.00</td>\n",
       "      <td>0.00</td>\n",
       "      <td>0</td>\n",
       "    </tr>\n",
       "    <tr>\n",
       "      <th>17</th>\n",
       "      <td>Participantes</td>\n",
       "      <td>[&lt;class 'str'&gt;]</td>\n",
       "      <td>100.00</td>\n",
       "      <td>0.00</td>\n",
       "      <td>0</td>\n",
       "    </tr>\n",
       "    <tr>\n",
       "      <th>18</th>\n",
       "      <td>Victima</td>\n",
       "      <td>[&lt;class 'str'&gt;]</td>\n",
       "      <td>100.00</td>\n",
       "      <td>0.00</td>\n",
       "      <td>0</td>\n",
       "    </tr>\n",
       "    <tr>\n",
       "      <th>19</th>\n",
       "      <td>Acusado</td>\n",
       "      <td>[&lt;class 'str'&gt;]</td>\n",
       "      <td>100.00</td>\n",
       "      <td>0.00</td>\n",
       "      <td>0</td>\n",
       "    </tr>\n",
       "    <tr>\n",
       "      <th>20</th>\n",
       "      <td>Rol</td>\n",
       "      <td>[&lt;class 'str'&gt;]</td>\n",
       "      <td>100.00</td>\n",
       "      <td>0.00</td>\n",
       "      <td>0</td>\n",
       "    </tr>\n",
       "    <tr>\n",
       "      <th>21</th>\n",
       "      <td>Sexo</td>\n",
       "      <td>[&lt;class 'str'&gt;]</td>\n",
       "      <td>100.00</td>\n",
       "      <td>0.00</td>\n",
       "      <td>0</td>\n",
       "    </tr>\n",
       "    <tr>\n",
       "      <th>22</th>\n",
       "      <td>Edad</td>\n",
       "      <td>[&lt;class 'int'&gt;]</td>\n",
       "      <td>100.00</td>\n",
       "      <td>0.00</td>\n",
       "      <td>0</td>\n",
       "    </tr>\n",
       "    <tr>\n",
       "      <th>23</th>\n",
       "      <td>Fecha_fallecimiento</td>\n",
       "      <td>[&lt;class 'str'&gt;]</td>\n",
       "      <td>100.00</td>\n",
       "      <td>0.00</td>\n",
       "      <td>0</td>\n",
       "    </tr>\n",
       "  </tbody>\n",
       "</table>\n",
       "</div>"
      ],
      "text/plain": [
       "                   Nombre Tipos de Datos Únicos  % de Valores No Nulos  \\\n",
       "0                Id_hecho       [<class 'str'>]                 100.00   \n",
       "1            Nro_victimas       [<class 'int'>]                 100.00   \n",
       "2                   Fecha       [<class 'str'>]                 100.00   \n",
       "3                    Anio       [<class 'int'>]                 100.00   \n",
       "4                     Mes       [<class 'str'>]                 100.00   \n",
       "5                     Dia       [<class 'int'>]                 100.00   \n",
       "6                    Hora       [<class 'int'>]                 100.00   \n",
       "7             Lugar_hecho       [<class 'str'>]                 100.00   \n",
       "8              Tipo_calle       [<class 'str'>]                 100.00   \n",
       "9                   Calle       [<class 'str'>]                 100.00   \n",
       "10                 Altura     [<class 'float'>]                  18.81   \n",
       "11                  Cruce       [<class 'str'>]                 100.00   \n",
       "12  Direccion_normalizada       [<class 'str'>]                 100.00   \n",
       "13                 Comuna       [<class 'int'>]                 100.00   \n",
       "14               Xy_plana       [<class 'str'>]                 100.00   \n",
       "15                 Long_x       [<class 'str'>]                 100.00   \n",
       "16                  Lat_y       [<class 'str'>]                 100.00   \n",
       "17          Participantes       [<class 'str'>]                 100.00   \n",
       "18                Victima       [<class 'str'>]                 100.00   \n",
       "19                Acusado       [<class 'str'>]                 100.00   \n",
       "20                    Rol       [<class 'str'>]                 100.00   \n",
       "21                   Sexo       [<class 'str'>]                 100.00   \n",
       "22                   Edad       [<class 'int'>]                 100.00   \n",
       "23    Fecha_fallecimiento       [<class 'str'>]                 100.00   \n",
       "\n",
       "    % de Valores Nulos  Cantidad de Valores Nulos  \n",
       "0                 0.00                          0  \n",
       "1                 0.00                          0  \n",
       "2                 0.00                          0  \n",
       "3                 0.00                          0  \n",
       "4                 0.00                          0  \n",
       "5                 0.00                          0  \n",
       "6                 0.00                          0  \n",
       "7                 0.00                          0  \n",
       "8                 0.00                          0  \n",
       "9                 0.00                          0  \n",
       "10               81.19                        574  \n",
       "11                0.00                          0  \n",
       "12                0.00                          0  \n",
       "13                0.00                          0  \n",
       "14                0.00                          0  \n",
       "15                0.00                          0  \n",
       "16                0.00                          0  \n",
       "17                0.00                          0  \n",
       "18                0.00                          0  \n",
       "19                0.00                          0  \n",
       "20                0.00                          0  \n",
       "21                0.00                          0  \n",
       "22                0.00                          0  \n",
       "23                0.00                          0  "
      ]
     },
     "execution_count": 4,
     "metadata": {},
     "output_type": "execute_result"
    }
   ],
   "source": [
    "Herr.analizar_datos(data_union)"
   ]
  },
  {
   "cell_type": "markdown",
   "metadata": {},
   "source": [
    "Previo a empezar a hacer las visualizaciones, se debe tratar la columna altura, revisaremos algunos registros aleatorios para ver si se encuentra algún patrón de referencia."
   ]
  },
  {
   "cell_type": "code",
   "execution_count": 5,
   "metadata": {},
   "outputs": [
    {
     "data": {
      "text/html": [
       "<div>\n",
       "<style scoped>\n",
       "    .dataframe tbody tr th:only-of-type {\n",
       "        vertical-align: middle;\n",
       "    }\n",
       "\n",
       "    .dataframe tbody tr th {\n",
       "        vertical-align: top;\n",
       "    }\n",
       "\n",
       "    .dataframe thead th {\n",
       "        text-align: right;\n",
       "    }\n",
       "</style>\n",
       "<table border=\"1\" class=\"dataframe\">\n",
       "  <thead>\n",
       "    <tr style=\"text-align: right;\">\n",
       "      <th></th>\n",
       "      <th>Id_hecho</th>\n",
       "      <th>Nro_victimas</th>\n",
       "      <th>Fecha</th>\n",
       "      <th>Anio</th>\n",
       "      <th>Mes</th>\n",
       "      <th>Dia</th>\n",
       "      <th>Hora</th>\n",
       "      <th>Lugar_hecho</th>\n",
       "      <th>Tipo_calle</th>\n",
       "      <th>Calle</th>\n",
       "      <th>Altura</th>\n",
       "      <th>Cruce</th>\n",
       "    </tr>\n",
       "  </thead>\n",
       "  <tbody>\n",
       "    <tr>\n",
       "      <th>0</th>\n",
       "      <td>2016-0001</td>\n",
       "      <td>1</td>\n",
       "      <td>2016-01-01</td>\n",
       "      <td>2016</td>\n",
       "      <td>Enero</td>\n",
       "      <td>1</td>\n",
       "      <td>4</td>\n",
       "      <td>AV PIEDRA BUENA Y AV FERNANDEZ DE LA CRUZ</td>\n",
       "      <td>AVENIDA</td>\n",
       "      <td>PIEDRA BUENA AV.</td>\n",
       "      <td>NaN</td>\n",
       "      <td>FERNANDEZ DE LA CRUZ, F., GRAL. AV.</td>\n",
       "    </tr>\n",
       "    <tr>\n",
       "      <th>1</th>\n",
       "      <td>2016-0002</td>\n",
       "      <td>1</td>\n",
       "      <td>2016-01-02</td>\n",
       "      <td>2016</td>\n",
       "      <td>Enero</td>\n",
       "      <td>2</td>\n",
       "      <td>1</td>\n",
       "      <td>AV GRAL PAZ  Y AV DE LOS CORRALES</td>\n",
       "      <td>AUTOPISTA</td>\n",
       "      <td>PAZ, GRAL. AV.</td>\n",
       "      <td>NaN</td>\n",
       "      <td>DE LOS CORRALES AV.</td>\n",
       "    </tr>\n",
       "    <tr>\n",
       "      <th>2</th>\n",
       "      <td>2016-0003</td>\n",
       "      <td>1</td>\n",
       "      <td>2016-01-03</td>\n",
       "      <td>2016</td>\n",
       "      <td>Enero</td>\n",
       "      <td>3</td>\n",
       "      <td>7</td>\n",
       "      <td>AV ENTRE RIOS 2034</td>\n",
       "      <td>AVENIDA</td>\n",
       "      <td>ENTRE RIOS AV.</td>\n",
       "      <td>2034.0</td>\n",
       "      <td>No_data</td>\n",
       "    </tr>\n",
       "    <tr>\n",
       "      <th>3</th>\n",
       "      <td>2016-0004</td>\n",
       "      <td>1</td>\n",
       "      <td>2016-01-10</td>\n",
       "      <td>2016</td>\n",
       "      <td>Enero</td>\n",
       "      <td>10</td>\n",
       "      <td>0</td>\n",
       "      <td>AV LARRAZABAL Y GRAL VILLEGAS CONRADO</td>\n",
       "      <td>AVENIDA</td>\n",
       "      <td>LARRAZABAL AV.</td>\n",
       "      <td>NaN</td>\n",
       "      <td>VILLEGAS, CONRADO, GRAL.</td>\n",
       "    </tr>\n",
       "    <tr>\n",
       "      <th>4</th>\n",
       "      <td>2016-0005</td>\n",
       "      <td>1</td>\n",
       "      <td>2016-01-21</td>\n",
       "      <td>2016</td>\n",
       "      <td>Enero</td>\n",
       "      <td>21</td>\n",
       "      <td>5</td>\n",
       "      <td>AV SAN JUAN Y PRESIDENTE LUIS SAENZ PEÑA</td>\n",
       "      <td>AVENIDA</td>\n",
       "      <td>SAN JUAN AV.</td>\n",
       "      <td>NaN</td>\n",
       "      <td>SAENZ PE?A, LUIS, PRES.</td>\n",
       "    </tr>\n",
       "    <tr>\n",
       "      <th>5</th>\n",
       "      <td>2016-0008</td>\n",
       "      <td>1</td>\n",
       "      <td>2016-01-24</td>\n",
       "      <td>2016</td>\n",
       "      <td>Enero</td>\n",
       "      <td>24</td>\n",
       "      <td>18</td>\n",
       "      <td>AV 27 DE FEBRERO Y AV ESCALADA</td>\n",
       "      <td>AVENIDA</td>\n",
       "      <td>27 DE FEBRERO AV.</td>\n",
       "      <td>NaN</td>\n",
       "      <td>ESCALADA AV.</td>\n",
       "    </tr>\n",
       "    <tr>\n",
       "      <th>6</th>\n",
       "      <td>2016-0009</td>\n",
       "      <td>1</td>\n",
       "      <td>2016-01-24</td>\n",
       "      <td>2016</td>\n",
       "      <td>Enero</td>\n",
       "      <td>24</td>\n",
       "      <td>19</td>\n",
       "      <td>NOGOYA Y JOAQUIN V. GONZALES</td>\n",
       "      <td>CALLE</td>\n",
       "      <td>NOGOYA</td>\n",
       "      <td>NaN</td>\n",
       "      <td>GONZALEZ, JOAQUIN V.</td>\n",
       "    </tr>\n",
       "    <tr>\n",
       "      <th>7</th>\n",
       "      <td>2016-0010</td>\n",
       "      <td>1</td>\n",
       "      <td>2016-01-29</td>\n",
       "      <td>2016</td>\n",
       "      <td>Enero</td>\n",
       "      <td>29</td>\n",
       "      <td>15</td>\n",
       "      <td>AV GENERAL PAZ Y AV DE LOS CORRALES</td>\n",
       "      <td>AUTOPISTA</td>\n",
       "      <td>PAZ, GRAL. AV.</td>\n",
       "      <td>NaN</td>\n",
       "      <td>DE LOS CORRALES AV.</td>\n",
       "    </tr>\n",
       "    <tr>\n",
       "      <th>8</th>\n",
       "      <td>2016-0012</td>\n",
       "      <td>1</td>\n",
       "      <td>2016-02-08</td>\n",
       "      <td>2016</td>\n",
       "      <td>Febrero</td>\n",
       "      <td>8</td>\n",
       "      <td>1</td>\n",
       "      <td>AV BELGRANO Y BERNARDO DE IRIGOYEN</td>\n",
       "      <td>AVENIDA</td>\n",
       "      <td>BELGRANO AV.</td>\n",
       "      <td>NaN</td>\n",
       "      <td>IRIGOYEN, BERNARDO DE</td>\n",
       "    </tr>\n",
       "    <tr>\n",
       "      <th>9</th>\n",
       "      <td>2016-0013</td>\n",
       "      <td>1</td>\n",
       "      <td>2016-02-10</td>\n",
       "      <td>2016</td>\n",
       "      <td>Febrero</td>\n",
       "      <td>10</td>\n",
       "      <td>11</td>\n",
       "      <td>AV ENTRE RIOS 1366</td>\n",
       "      <td>AVENIDA</td>\n",
       "      <td>ENTRE RIOS AV.</td>\n",
       "      <td>1366.0</td>\n",
       "      <td>No_data</td>\n",
       "    </tr>\n",
       "  </tbody>\n",
       "</table>\n",
       "</div>"
      ],
      "text/plain": [
       "    Id_hecho  Nro_victimas       Fecha  Anio      Mes  Dia  Hora  \\\n",
       "0  2016-0001             1  2016-01-01  2016    Enero    1     4   \n",
       "1  2016-0002             1  2016-01-02  2016    Enero    2     1   \n",
       "2  2016-0003             1  2016-01-03  2016    Enero    3     7   \n",
       "3  2016-0004             1  2016-01-10  2016    Enero   10     0   \n",
       "4  2016-0005             1  2016-01-21  2016    Enero   21     5   \n",
       "5  2016-0008             1  2016-01-24  2016    Enero   24    18   \n",
       "6  2016-0009             1  2016-01-24  2016    Enero   24    19   \n",
       "7  2016-0010             1  2016-01-29  2016    Enero   29    15   \n",
       "8  2016-0012             1  2016-02-08  2016  Febrero    8     1   \n",
       "9  2016-0013             1  2016-02-10  2016  Febrero   10    11   \n",
       "\n",
       "                                 Lugar_hecho Tipo_calle              Calle  \\\n",
       "0  AV PIEDRA BUENA Y AV FERNANDEZ DE LA CRUZ    AVENIDA   PIEDRA BUENA AV.   \n",
       "1          AV GRAL PAZ  Y AV DE LOS CORRALES  AUTOPISTA     PAZ, GRAL. AV.   \n",
       "2                         AV ENTRE RIOS 2034    AVENIDA     ENTRE RIOS AV.   \n",
       "3      AV LARRAZABAL Y GRAL VILLEGAS CONRADO    AVENIDA     LARRAZABAL AV.   \n",
       "4  AV SAN JUAN Y PRESIDENTE LUIS SAENZ PEÑA     AVENIDA       SAN JUAN AV.   \n",
       "5             AV 27 DE FEBRERO Y AV ESCALADA    AVENIDA  27 DE FEBRERO AV.   \n",
       "6               NOGOYA Y JOAQUIN V. GONZALES      CALLE             NOGOYA   \n",
       "7        AV GENERAL PAZ Y AV DE LOS CORRALES  AUTOPISTA     PAZ, GRAL. AV.   \n",
       "8         AV BELGRANO Y BERNARDO DE IRIGOYEN    AVENIDA       BELGRANO AV.   \n",
       "9                         AV ENTRE RIOS 1366    AVENIDA     ENTRE RIOS AV.   \n",
       "\n",
       "   Altura                                Cruce  \n",
       "0     NaN  FERNANDEZ DE LA CRUZ, F., GRAL. AV.  \n",
       "1     NaN                  DE LOS CORRALES AV.  \n",
       "2  2034.0                              No_data  \n",
       "3     NaN             VILLEGAS, CONRADO, GRAL.  \n",
       "4     NaN              SAENZ PE?A, LUIS, PRES.  \n",
       "5     NaN                         ESCALADA AV.  \n",
       "6     NaN                 GONZALEZ, JOAQUIN V.  \n",
       "7     NaN                  DE LOS CORRALES AV.  \n",
       "8     NaN                IRIGOYEN, BERNARDO DE  \n",
       "9  1366.0                              No_data  "
      ]
     },
     "execution_count": 5,
     "metadata": {},
     "output_type": "execute_result"
    }
   ],
   "source": [
    "data_union.iloc[:10,:12]"
   ]
  },
  {
   "cell_type": "markdown",
   "metadata": {},
   "source": [
    "Se encontró que los siniestros que tienen altura no tienen cruce y viceversa. Procederemos a eliminar la columna 'altura', ya que contiene muchos valores nulos y no aporta un valor significativo. En cambio, la columna 'cruce' nos proporciona más información. La modificaremos para representar los valores \"con cruce\" y \"sin cruce\", haciéndola más fácil de visualizar."
   ]
  },
  {
   "cell_type": "code",
   "execution_count": 6,
   "metadata": {},
   "outputs": [],
   "source": [
    "data_union = data_union.drop(columns='Altura',axis=1)"
   ]
  },
  {
   "cell_type": "code",
   "execution_count": 7,
   "metadata": {},
   "outputs": [],
   "source": [
    "data_union['Cruce'] = data_union['Cruce'].replace('No_data','Sin_cruce')\n",
    "data_union['Cruce'] = np.where(data_union['Cruce'] != 'Sin_cruce','Con_cruce',data_union['Cruce'])"
   ]
  },
  {
   "cell_type": "code",
   "execution_count": 8,
   "metadata": {},
   "outputs": [
    {
     "data": {
      "text/html": [
       "<div>\n",
       "<style scoped>\n",
       "    .dataframe tbody tr th:only-of-type {\n",
       "        vertical-align: middle;\n",
       "    }\n",
       "\n",
       "    .dataframe tbody tr th {\n",
       "        vertical-align: top;\n",
       "    }\n",
       "\n",
       "    .dataframe thead th {\n",
       "        text-align: right;\n",
       "    }\n",
       "</style>\n",
       "<table border=\"1\" class=\"dataframe\">\n",
       "  <thead>\n",
       "    <tr style=\"text-align: right;\">\n",
       "      <th></th>\n",
       "      <th>Id_hecho</th>\n",
       "      <th>Nro_victimas</th>\n",
       "      <th>Fecha</th>\n",
       "      <th>Anio</th>\n",
       "      <th>Mes</th>\n",
       "      <th>Dia</th>\n",
       "      <th>Hora</th>\n",
       "      <th>Lugar_hecho</th>\n",
       "      <th>Tipo_calle</th>\n",
       "      <th>Calle</th>\n",
       "      <th>Cruce</th>\n",
       "      <th>Direccion_normalizada</th>\n",
       "      <th>Comuna</th>\n",
       "      <th>Xy_plana</th>\n",
       "      <th>Long_x</th>\n",
       "      <th>Lat_y</th>\n",
       "      <th>Participantes</th>\n",
       "      <th>Victima</th>\n",
       "      <th>Acusado</th>\n",
       "      <th>Rol</th>\n",
       "      <th>Sexo</th>\n",
       "      <th>Edad</th>\n",
       "      <th>Fecha_fallecimiento</th>\n",
       "    </tr>\n",
       "  </thead>\n",
       "  <tbody>\n",
       "    <tr>\n",
       "      <th>0</th>\n",
       "      <td>2016-0001</td>\n",
       "      <td>1</td>\n",
       "      <td>2016-01-01</td>\n",
       "      <td>2016</td>\n",
       "      <td>Enero</td>\n",
       "      <td>1</td>\n",
       "      <td>4</td>\n",
       "      <td>AV PIEDRA BUENA Y AV FERNANDEZ DE LA CRUZ</td>\n",
       "      <td>AVENIDA</td>\n",
       "      <td>PIEDRA BUENA AV.</td>\n",
       "      <td>Con_cruce</td>\n",
       "      <td>PIEDRA BUENA AV. y FERNANDEZ DE LA CRUZ, F., G...</td>\n",
       "      <td>8</td>\n",
       "      <td>Point (98896.78238426 93532.43437792)</td>\n",
       "      <td>-58.47533969</td>\n",
       "      <td>-34.68757022</td>\n",
       "      <td>MOTO-AUTO</td>\n",
       "      <td>MOTO</td>\n",
       "      <td>AUTO</td>\n",
       "      <td>CONDUCTOR</td>\n",
       "      <td>MASCULINO</td>\n",
       "      <td>19</td>\n",
       "      <td>2016-01-01</td>\n",
       "    </tr>\n",
       "    <tr>\n",
       "      <th>1</th>\n",
       "      <td>2016-0002</td>\n",
       "      <td>1</td>\n",
       "      <td>2016-01-02</td>\n",
       "      <td>2016</td>\n",
       "      <td>Enero</td>\n",
       "      <td>2</td>\n",
       "      <td>1</td>\n",
       "      <td>AV GRAL PAZ  Y AV DE LOS CORRALES</td>\n",
       "      <td>AUTOPISTA</td>\n",
       "      <td>PAZ, GRAL. AV.</td>\n",
       "      <td>Con_cruce</td>\n",
       "      <td>PAZ, GRAL. AV. y DE LOS CORRALES AV.</td>\n",
       "      <td>9</td>\n",
       "      <td>Point (95832.05571093 95505.41641999)</td>\n",
       "      <td>-58.50877521</td>\n",
       "      <td>-34.66977709</td>\n",
       "      <td>AUTO-PASAJEROS</td>\n",
       "      <td>AUTO</td>\n",
       "      <td>PASAJEROS</td>\n",
       "      <td>CONDUCTOR</td>\n",
       "      <td>MASCULINO</td>\n",
       "      <td>70</td>\n",
       "      <td>2016-01-02</td>\n",
       "    </tr>\n",
       "    <tr>\n",
       "      <th>2</th>\n",
       "      <td>2016-0003</td>\n",
       "      <td>1</td>\n",
       "      <td>2016-01-03</td>\n",
       "      <td>2016</td>\n",
       "      <td>Enero</td>\n",
       "      <td>3</td>\n",
       "      <td>7</td>\n",
       "      <td>AV ENTRE RIOS 2034</td>\n",
       "      <td>AVENIDA</td>\n",
       "      <td>ENTRE RIOS AV.</td>\n",
       "      <td>Sin_cruce</td>\n",
       "      <td>ENTRE RIOS AV. 2034</td>\n",
       "      <td>1</td>\n",
       "      <td>Point (106684.29090040 99706.57687843)</td>\n",
       "      <td>-58.39040293</td>\n",
       "      <td>-34.63189362</td>\n",
       "      <td>MOTO-AUTO</td>\n",
       "      <td>MOTO</td>\n",
       "      <td>AUTO</td>\n",
       "      <td>CONDUCTOR</td>\n",
       "      <td>MASCULINO</td>\n",
       "      <td>30</td>\n",
       "      <td>2016-01-03</td>\n",
       "    </tr>\n",
       "    <tr>\n",
       "      <th>3</th>\n",
       "      <td>2016-0004</td>\n",
       "      <td>1</td>\n",
       "      <td>2016-01-10</td>\n",
       "      <td>2016</td>\n",
       "      <td>Enero</td>\n",
       "      <td>10</td>\n",
       "      <td>0</td>\n",
       "      <td>AV LARRAZABAL Y GRAL VILLEGAS CONRADO</td>\n",
       "      <td>AVENIDA</td>\n",
       "      <td>LARRAZABAL AV.</td>\n",
       "      <td>Con_cruce</td>\n",
       "      <td>LARRAZABAL AV. y VILLEGAS, CONRADO, GRAL.</td>\n",
       "      <td>8</td>\n",
       "      <td>Point (99840.65224780 94269.16534422)</td>\n",
       "      <td>-58.46503904</td>\n",
       "      <td>-34.68092974</td>\n",
       "      <td>MOTO-SD</td>\n",
       "      <td>MOTO</td>\n",
       "      <td>No_data</td>\n",
       "      <td>CONDUCTOR</td>\n",
       "      <td>MASCULINO</td>\n",
       "      <td>18</td>\n",
       "      <td>2000-01-01</td>\n",
       "    </tr>\n",
       "    <tr>\n",
       "      <th>4</th>\n",
       "      <td>2016-0005</td>\n",
       "      <td>1</td>\n",
       "      <td>2016-01-21</td>\n",
       "      <td>2016</td>\n",
       "      <td>Enero</td>\n",
       "      <td>21</td>\n",
       "      <td>5</td>\n",
       "      <td>AV SAN JUAN Y PRESIDENTE LUIS SAENZ PEÑA</td>\n",
       "      <td>AVENIDA</td>\n",
       "      <td>SAN JUAN AV.</td>\n",
       "      <td>Con_cruce</td>\n",
       "      <td>SAN JUAN AV. y SAENZ PEÃ‘A, LUIS, PRES.</td>\n",
       "      <td>1</td>\n",
       "      <td>Point (106980.32827929 100752.16915795)</td>\n",
       "      <td>-58.38718297</td>\n",
       "      <td>-34.62246630</td>\n",
       "      <td>MOTO-PASAJEROS</td>\n",
       "      <td>MOTO</td>\n",
       "      <td>PASAJEROS</td>\n",
       "      <td>CONDUCTOR</td>\n",
       "      <td>MASCULINO</td>\n",
       "      <td>29</td>\n",
       "      <td>2016-02-01</td>\n",
       "    </tr>\n",
       "    <tr>\n",
       "      <th>...</th>\n",
       "      <td>...</td>\n",
       "      <td>...</td>\n",
       "      <td>...</td>\n",
       "      <td>...</td>\n",
       "      <td>...</td>\n",
       "      <td>...</td>\n",
       "      <td>...</td>\n",
       "      <td>...</td>\n",
       "      <td>...</td>\n",
       "      <td>...</td>\n",
       "      <td>...</td>\n",
       "      <td>...</td>\n",
       "      <td>...</td>\n",
       "      <td>...</td>\n",
       "      <td>...</td>\n",
       "      <td>...</td>\n",
       "      <td>...</td>\n",
       "      <td>...</td>\n",
       "      <td>...</td>\n",
       "      <td>...</td>\n",
       "      <td>...</td>\n",
       "      <td>...</td>\n",
       "      <td>...</td>\n",
       "    </tr>\n",
       "    <tr>\n",
       "      <th>702</th>\n",
       "      <td>2021-0093</td>\n",
       "      <td>1</td>\n",
       "      <td>2021-12-13</td>\n",
       "      <td>2021</td>\n",
       "      <td>Diciembre</td>\n",
       "      <td>13</td>\n",
       "      <td>17</td>\n",
       "      <td>AV. RIESTRA Y MOM</td>\n",
       "      <td>AVENIDA</td>\n",
       "      <td>RIESTRA AV.</td>\n",
       "      <td>Con_cruce</td>\n",
       "      <td>RIESTRA AV. y MOM</td>\n",
       "      <td>7</td>\n",
       "      <td>Point (102728.60090138 98186.24929177)</td>\n",
       "      <td>-58.43353773</td>\n",
       "      <td>-34.64561636</td>\n",
       "      <td>MOTO-AUTO</td>\n",
       "      <td>MOTO</td>\n",
       "      <td>AUTO</td>\n",
       "      <td>PASAJERO_ACOMPAÑANTE</td>\n",
       "      <td>FEMENINO</td>\n",
       "      <td>18</td>\n",
       "      <td>2021-12-18</td>\n",
       "    </tr>\n",
       "    <tr>\n",
       "      <th>703</th>\n",
       "      <td>2021-0094</td>\n",
       "      <td>1</td>\n",
       "      <td>2021-12-20</td>\n",
       "      <td>2021</td>\n",
       "      <td>Diciembre</td>\n",
       "      <td>20</td>\n",
       "      <td>1</td>\n",
       "      <td>AU DELLEPIANE Y LACARRA</td>\n",
       "      <td>AUTOPISTA</td>\n",
       "      <td>DELLEPIANE, LUIS, TTE. GRAL.</td>\n",
       "      <td>Con_cruce</td>\n",
       "      <td>DELLEPIANE, LUIS, TTE. GRAL. y LACARRA AV.</td>\n",
       "      <td>9</td>\n",
       "      <td>Point (99624.29795829 97569.69801131)</td>\n",
       "      <td>-58.46739825</td>\n",
       "      <td>-34.65117757</td>\n",
       "      <td>MOTO-AUTO</td>\n",
       "      <td>MOTO</td>\n",
       "      <td>AUTO</td>\n",
       "      <td>PASAJERO_ACOMPAÑANTE</td>\n",
       "      <td>FEMENINO</td>\n",
       "      <td>43</td>\n",
       "      <td>2021-12-20</td>\n",
       "    </tr>\n",
       "    <tr>\n",
       "      <th>704</th>\n",
       "      <td>2021-0095</td>\n",
       "      <td>1</td>\n",
       "      <td>2021-12-30</td>\n",
       "      <td>2021</td>\n",
       "      <td>Diciembre</td>\n",
       "      <td>30</td>\n",
       "      <td>0</td>\n",
       "      <td>AV. GAONA Y TERRADA</td>\n",
       "      <td>AVENIDA</td>\n",
       "      <td>GAONA AV.</td>\n",
       "      <td>Con_cruce</td>\n",
       "      <td>GAONA AV. y TERRADA</td>\n",
       "      <td>11</td>\n",
       "      <td>Point (99116.45492358 101045.23284826)</td>\n",
       "      <td>-58.47293407</td>\n",
       "      <td>-34.61984745</td>\n",
       "      <td>MOTO-CARGAS</td>\n",
       "      <td>MOTO</td>\n",
       "      <td>CARGAS</td>\n",
       "      <td>CONDUCTOR</td>\n",
       "      <td>MASCULINO</td>\n",
       "      <td>27</td>\n",
       "      <td>2022-01-02</td>\n",
       "    </tr>\n",
       "    <tr>\n",
       "      <th>705</th>\n",
       "      <td>2021-0096</td>\n",
       "      <td>1</td>\n",
       "      <td>2021-12-15</td>\n",
       "      <td>2021</td>\n",
       "      <td>Diciembre</td>\n",
       "      <td>15</td>\n",
       "      <td>10</td>\n",
       "      <td>AV. EVA PERON 4071</td>\n",
       "      <td>AVENIDA</td>\n",
       "      <td>PERON, EVA AV.</td>\n",
       "      <td>Sin_cruce</td>\n",
       "      <td>PERON, EVA AV. 4071</td>\n",
       "      <td>9</td>\n",
       "      <td>Point (99324.54463985 97676.26932409)</td>\n",
       "      <td>-58.47066794</td>\n",
       "      <td>-34.65021673</td>\n",
       "      <td>AUTO-CARGAS</td>\n",
       "      <td>AUTO</td>\n",
       "      <td>CARGAS</td>\n",
       "      <td>CONDUCTOR</td>\n",
       "      <td>MASCULINO</td>\n",
       "      <td>60</td>\n",
       "      <td>2021-12-20</td>\n",
       "    </tr>\n",
       "    <tr>\n",
       "      <th>706</th>\n",
       "      <td>2021-0097</td>\n",
       "      <td>1</td>\n",
       "      <td>2021-11-18</td>\n",
       "      <td>2021</td>\n",
       "      <td>Noviembre</td>\n",
       "      <td>18</td>\n",
       "      <td>6</td>\n",
       "      <td>PADRE CARLOS MUJICA 709</td>\n",
       "      <td>CALLE</td>\n",
       "      <td>PADRE CARLOS MUJICA</td>\n",
       "      <td>Sin_cruce</td>\n",
       "      <td>PADRE CARLOS MUGICA 709</td>\n",
       "      <td>1</td>\n",
       "      <td>Point (107664.16647795 104708.63962087)</td>\n",
       "      <td>-58.37976155</td>\n",
       "      <td>-34.58679619</td>\n",
       "      <td>BICICLETA-AUTO</td>\n",
       "      <td>BICICLETA</td>\n",
       "      <td>AUTO</td>\n",
       "      <td>CICLISTA</td>\n",
       "      <td>MASCULINO</td>\n",
       "      <td>53</td>\n",
       "      <td>2021-11-19</td>\n",
       "    </tr>\n",
       "  </tbody>\n",
       "</table>\n",
       "<p>707 rows × 23 columns</p>\n",
       "</div>"
      ],
      "text/plain": [
       "      Id_hecho  Nro_victimas       Fecha  Anio        Mes  Dia  Hora  \\\n",
       "0    2016-0001             1  2016-01-01  2016      Enero    1     4   \n",
       "1    2016-0002             1  2016-01-02  2016      Enero    2     1   \n",
       "2    2016-0003             1  2016-01-03  2016      Enero    3     7   \n",
       "3    2016-0004             1  2016-01-10  2016      Enero   10     0   \n",
       "4    2016-0005             1  2016-01-21  2016      Enero   21     5   \n",
       "..         ...           ...         ...   ...        ...  ...   ...   \n",
       "702  2021-0093             1  2021-12-13  2021  Diciembre   13    17   \n",
       "703  2021-0094             1  2021-12-20  2021  Diciembre   20     1   \n",
       "704  2021-0095             1  2021-12-30  2021  Diciembre   30     0   \n",
       "705  2021-0096             1  2021-12-15  2021  Diciembre   15    10   \n",
       "706  2021-0097             1  2021-11-18  2021  Noviembre   18     6   \n",
       "\n",
       "                                   Lugar_hecho Tipo_calle  \\\n",
       "0    AV PIEDRA BUENA Y AV FERNANDEZ DE LA CRUZ    AVENIDA   \n",
       "1            AV GRAL PAZ  Y AV DE LOS CORRALES  AUTOPISTA   \n",
       "2                           AV ENTRE RIOS 2034    AVENIDA   \n",
       "3        AV LARRAZABAL Y GRAL VILLEGAS CONRADO    AVENIDA   \n",
       "4    AV SAN JUAN Y PRESIDENTE LUIS SAENZ PEÑA     AVENIDA   \n",
       "..                                         ...        ...   \n",
       "702                          AV. RIESTRA Y MOM    AVENIDA   \n",
       "703                    AU DELLEPIANE Y LACARRA  AUTOPISTA   \n",
       "704                        AV. GAONA Y TERRADA    AVENIDA   \n",
       "705                         AV. EVA PERON 4071    AVENIDA   \n",
       "706                    PADRE CARLOS MUJICA 709      CALLE   \n",
       "\n",
       "                            Calle      Cruce  \\\n",
       "0                PIEDRA BUENA AV.  Con_cruce   \n",
       "1                  PAZ, GRAL. AV.  Con_cruce   \n",
       "2                  ENTRE RIOS AV.  Sin_cruce   \n",
       "3                  LARRAZABAL AV.  Con_cruce   \n",
       "4                    SAN JUAN AV.  Con_cruce   \n",
       "..                            ...        ...   \n",
       "702                   RIESTRA AV.  Con_cruce   \n",
       "703  DELLEPIANE, LUIS, TTE. GRAL.  Con_cruce   \n",
       "704                     GAONA AV.  Con_cruce   \n",
       "705                PERON, EVA AV.  Sin_cruce   \n",
       "706           PADRE CARLOS MUJICA  Sin_cruce   \n",
       "\n",
       "                                 Direccion_normalizada  Comuna  \\\n",
       "0    PIEDRA BUENA AV. y FERNANDEZ DE LA CRUZ, F., G...       8   \n",
       "1                 PAZ, GRAL. AV. y DE LOS CORRALES AV.       9   \n",
       "2                                  ENTRE RIOS AV. 2034       1   \n",
       "3            LARRAZABAL AV. y VILLEGAS, CONRADO, GRAL.       8   \n",
       "4              SAN JUAN AV. y SAENZ PEÃ‘A, LUIS, PRES.       1   \n",
       "..                                                 ...     ...   \n",
       "702                                  RIESTRA AV. y MOM       7   \n",
       "703         DELLEPIANE, LUIS, TTE. GRAL. y LACARRA AV.       9   \n",
       "704                                GAONA AV. y TERRADA      11   \n",
       "705                                PERON, EVA AV. 4071       9   \n",
       "706                            PADRE CARLOS MUGICA 709       1   \n",
       "\n",
       "                                    Xy_plana        Long_x         Lat_y  \\\n",
       "0      Point (98896.78238426 93532.43437792)  -58.47533969  -34.68757022   \n",
       "1      Point (95832.05571093 95505.41641999)  -58.50877521  -34.66977709   \n",
       "2     Point (106684.29090040 99706.57687843)  -58.39040293  -34.63189362   \n",
       "3      Point (99840.65224780 94269.16534422)  -58.46503904  -34.68092974   \n",
       "4    Point (106980.32827929 100752.16915795)  -58.38718297  -34.62246630   \n",
       "..                                       ...           ...           ...   \n",
       "702   Point (102728.60090138 98186.24929177)  -58.43353773  -34.64561636   \n",
       "703    Point (99624.29795829 97569.69801131)  -58.46739825  -34.65117757   \n",
       "704   Point (99116.45492358 101045.23284826)  -58.47293407  -34.61984745   \n",
       "705    Point (99324.54463985 97676.26932409)  -58.47066794  -34.65021673   \n",
       "706  Point (107664.16647795 104708.63962087)  -58.37976155  -34.58679619   \n",
       "\n",
       "      Participantes    Victima    Acusado                   Rol       Sexo  \\\n",
       "0         MOTO-AUTO       MOTO       AUTO             CONDUCTOR  MASCULINO   \n",
       "1    AUTO-PASAJEROS       AUTO  PASAJEROS             CONDUCTOR  MASCULINO   \n",
       "2         MOTO-AUTO       MOTO       AUTO             CONDUCTOR  MASCULINO   \n",
       "3           MOTO-SD       MOTO    No_data             CONDUCTOR  MASCULINO   \n",
       "4    MOTO-PASAJEROS       MOTO  PASAJEROS             CONDUCTOR  MASCULINO   \n",
       "..              ...        ...        ...                   ...        ...   \n",
       "702       MOTO-AUTO       MOTO       AUTO  PASAJERO_ACOMPAÑANTE   FEMENINO   \n",
       "703       MOTO-AUTO       MOTO       AUTO  PASAJERO_ACOMPAÑANTE   FEMENINO   \n",
       "704     MOTO-CARGAS       MOTO     CARGAS             CONDUCTOR  MASCULINO   \n",
       "705     AUTO-CARGAS       AUTO     CARGAS             CONDUCTOR  MASCULINO   \n",
       "706  BICICLETA-AUTO  BICICLETA       AUTO              CICLISTA  MASCULINO   \n",
       "\n",
       "     Edad Fecha_fallecimiento  \n",
       "0      19          2016-01-01  \n",
       "1      70          2016-01-02  \n",
       "2      30          2016-01-03  \n",
       "3      18          2000-01-01  \n",
       "4      29          2016-02-01  \n",
       "..    ...                 ...  \n",
       "702    18          2021-12-18  \n",
       "703    43          2021-12-20  \n",
       "704    27          2022-01-02  \n",
       "705    60          2021-12-20  \n",
       "706    53          2021-11-19  \n",
       "\n",
       "[707 rows x 23 columns]"
      ]
     },
     "execution_count": 8,
     "metadata": {},
     "output_type": "execute_result"
    }
   ],
   "source": [
    "data_union"
   ]
  },
  {
   "cell_type": "markdown",
   "metadata": {},
   "source": [
    "--------------------------------------------------------------------------------------------------------------------------"
   ]
  },
  {
   "cell_type": "markdown",
   "metadata": {},
   "source": [
    "# Análisis de columnas"
   ]
  },
  {
   "cell_type": "markdown",
   "metadata": {},
   "source": [
    "### Análisis de ``Nro_victimas``"
   ]
  },
  {
   "cell_type": "code",
   "execution_count": 9,
   "metadata": {},
   "outputs": [
    {
     "data": {
      "image/png": "[encoded data removed]",
      "text/plain": [
       "<Figure size 640x480 with 1 Axes>"
      ]
     },
     "metadata": {},
     "output_type": "display_data"
    }
   ],
   "source": [
    "sns.countplot(data=data_union,x='Nro_victimas',hue='Nro_victimas',palette='viridis')\n",
    "plt.title('Total de víctimas por siniestro')\n",
    "plt.ylabel('Cantidad')\n",
    "plt.xlabel('Número de víctimas')\n",
    "plt.show()"
   ]
  },
  {
   "cell_type": "markdown",
   "metadata": {},
   "source": [
    "Analizaremos la proporción que representa cada barra con respecto al total y veremos la cantidad exacta de datos para cada valor presente. Para ello utilizaremos una función del módulo Herramientas."
   ]
  },
  {
   "cell_type": "code",
   "execution_count": 10,
   "metadata": {},
   "outputs": [
    {
     "name": "stdout",
     "output_type": "stream",
     "text": [
      "Los valores de Nro_victimas:\n",
      "1    668\n",
      "2     36\n",
      "3      3\n",
      "\n",
      "El porcentaje que representa cada valor:\n",
      "1    94.48\n",
      "2     5.09\n",
      "3     0.42\n"
     ]
    }
   ],
   "source": [
    "Herr.cantidad_porcentaje(data_union,'Nro_victimas')"
   ]
  },
  {
   "cell_type": "markdown",
   "metadata": {},
   "source": [
    "La información proporcionada por este gráfico junto con los porcentajes es la siguiente:\n",
    "\n",
    "* El 94% indica que muere una sola persona por siniestro.\n",
    "* Se observa que solo hay tres valores en cuanto a la cantidad de personas fallecidas en un solo accidente: 1, 2 y 3 personas fallecidas.  \n",
    "\n",
    "Se eligió un gráfico de tipo countplot dado que hay pocos valores a representar, y queríamos conocer la frecuencia de ocurrencia en cantidades de cada valor.\n"
   ]
  },
  {
   "cell_type": "markdown",
   "metadata": {},
   "source": [
    "### Análisis de ``Anio``"
   ]
  },
  {
   "cell_type": "markdown",
   "metadata": {},
   "source": [
    "Se decidio agrupar por año a la cantidad de víctimas para que resulte mas fácil la comprensión de la visualización."
   ]
  },
  {
   "cell_type": "code",
   "execution_count": 11,
   "metadata": {},
   "outputs": [
    {
     "data": {
      "text/plain": [
       "Anio\n",
       "2018    160\n",
       "2017    155\n",
       "2016    147\n",
       "2019    105\n",
       "2021     96\n",
       "2020     86\n",
       "Name: Nro_victimas, dtype: int64"
      ]
     },
     "execution_count": 11,
     "metadata": {},
     "output_type": "execute_result"
    }
   ],
   "source": [
    "cant_fall_anio = data_union.groupby(by='Anio')['Nro_victimas'].sum().sort_values(ascending=False)\n",
    "cant_fall_anio"
   ]
  },
  {
   "cell_type": "code",
   "execution_count": 12,
   "metadata": {},
   "outputs": [
    {
     "data": {
      "image/png": "[encoded data removed]",
      "text/plain": [
       "<Figure size 640x480 with 1 Axes>"
      ]
     },
     "metadata": {},
     "output_type": "display_data"
    }
   ],
   "source": [
    "sns.lineplot(y=cant_fall_anio.values,x=cant_fall_anio.index,color='blue',marker='o',markerfacecolor='red')\n",
    "plt.title('Cantidad de fallecidos por año')\n",
    "plt.xlabel('Año')\n",
    "plt.ylabel('Cantidad de fallecidos')\n",
    "plt.show()"
   ]
  },
  {
   "cell_type": "markdown",
   "metadata": {},
   "source": [
    "Analizaremos la proporción que representa cada punto con respecto al total y veremos la cantidad exacta de datos para cada año. Para ello utilizaremos una función del módulo Herramientas."
   ]
  },
  {
   "cell_type": "code",
   "execution_count": 13,
   "metadata": {},
   "outputs": [
    {
     "name": "stdout",
     "output_type": "stream",
     "text": [
      "Los valores de Anio:\n",
      "2018    148\n",
      "2016    143\n",
      "2017    137\n",
      "2019    103\n",
      "2021     96\n",
      "2020     80\n",
      "\n",
      "El porcentaje que representa cada valor:\n",
      "2018    20.93\n",
      "2016    20.23\n",
      "2017    19.38\n",
      "2019    14.57\n",
      "2021    13.58\n",
      "2020    11.32\n"
     ]
    }
   ],
   "source": [
    "Herr.cantidad_porcentaje(data_union,'Anio')"
   ]
  },
  {
   "cell_type": "markdown",
   "metadata": {},
   "source": [
    "La información proporcionada por este gráfico junto con los porcentajes es la siguiente:\n",
    "\n",
    "* El año 2018 destaca como el año con la mayor cantidad de personas fallecidas, representando el 20.93% del total. \n",
    "* En los tres años siguientes al 2018, se observa una reducción de al menos un 6% en estas muertes, y en el 2020 se registra una disminución de hasta el 9%. Es posible que esta reducción en 2020 esté relacionada con el contexto mundial del COVID-19, que llevó a restricciones en la circulación de vehículos particulares.  \n",
    "\n",
    "Se optó por un gráfico de tipo lineplot porque este permite visualizar de manera clara la evolución de la variable \"Nro_victimas\" a lo largo de los años."
   ]
  },
  {
   "cell_type": "markdown",
   "metadata": {},
   "source": [
    "### Análisis de ``Mes``"
   ]
  },
  {
   "cell_type": "code",
   "execution_count": 66,
   "metadata": {},
   "outputs": [
    {
     "data": {
      "image/png": "[encoded data removed]",
      "text/plain": [
       "<Figure size 1500x1300 with 1 Axes>"
      ]
     },
     "metadata": {},
     "output_type": "display_data"
    }
   ],
   "source": [
    "plt.figure(figsize=(15,13))\n",
    "sns.histplot(data=data_union,x='Mes',hue='Mes',palette='viridis')\n",
    "plt.grid(axis='y',color='blue',linestyle='--')\n",
    "plt.title('Siniestros por mes',size=18)\n",
    "plt.xlabel('Meses',size=16)\n",
    "plt.ylabel('Siniestros',size=16)\n",
    "plt.show()\n"
   ]
  },
  {
   "cell_type": "markdown",
   "metadata": {},
   "source": [
    "Analizaremos la proporción que representa cada barra con respecto al total y veremos la cantidad exacta de datos para cada valor presente. Para ello utilizaremos una función del módulo Herramientas."
   ]
  },
  {
   "cell_type": "code",
   "execution_count": 15,
   "metadata": {},
   "outputs": [
    {
     "name": "stdout",
     "output_type": "stream",
     "text": [
      "Los valores de Mes:\n",
      "Diciembre     80\n",
      "Agosto        67\n",
      "Noviembre     67\n",
      "Enero         62\n",
      "Febrero       59\n",
      "Mayo          58\n",
      "Junio         58\n",
      "Marzo         55\n",
      "Julio         51\n",
      "Septiembre    51\n",
      "Octubre       51\n",
      "Abril         48\n",
      "\n",
      "El porcentaje que representa cada valor:\n",
      "Diciembre     11.32\n",
      "Agosto         9.48\n",
      "Noviembre      9.48\n",
      "Enero          8.77\n",
      "Febrero        8.35\n",
      "Mayo           8.20\n",
      "Junio          8.20\n",
      "Marzo          7.78\n",
      "Julio          7.21\n",
      "Septiembre     7.21\n",
      "Octubre        7.21\n",
      "Abril          6.79\n"
     ]
    }
   ],
   "source": [
    "Herr.cantidad_porcentaje(data_union,'Mes')"
   ]
  },
  {
   "cell_type": "markdown",
   "metadata": {},
   "source": [
    "La información proporcionada por este gráfico junto con los porcentajes es la siguiente:\n",
    "\n",
    "* El mes de diciembre destaca por tener la mayor cantidad de fallecimientos, representando un 11.32% del total. Esto podría atribuirse a que es una época festiva en Argentina, con celebraciones como Navidad y Año Nuevo, lo que conlleva a numerosos traslados. \n",
    "* Abril es el mes con la menor cantidad de fallecimientos, registrando un 6.79% sobre el total.\n",
    "* En el último trimestre del año es cuando se producen más siniestros, sumando un total de 198.\n",
    "* Los siniestros muestran una distribución 'uniforme', fluctuando entre el 6.79% y el 11.32% a lo largo de los meses.\n",
    "\n",
    "Se optó por utilizar un histograma para representar la columna \"Mes\" debido a su eficacia en proporcionar una visión clara de la distribución de datos a lo largo de los años en nuestro conjuntos de datos, facilitando así la identificación de patrones, tendencias y posibles variaciones en el conjunto de datos.\n"
   ]
  },
  {
   "cell_type": "markdown",
   "metadata": {},
   "source": [
    "### Análisis de ``Dia``"
   ]
  },
  {
   "cell_type": "markdown",
   "metadata": {},
   "source": [
    "Se procederá a dividir los días del mes en 4 columnas con el fin de representarlo visualmente de manera más sencilla y comprensible. Es decir, agruparemos los días en rangos para facilitar la visualización."
   ]
  },
  {
   "cell_type": "code",
   "execution_count": 16,
   "metadata": {},
   "outputs": [
    {
     "data": {
      "image/png": "[encoded data removed]",
      "text/plain": [
       "<Figure size 640x480 with 1 Axes>"
      ]
     },
     "metadata": {},
     "output_type": "display_data"
    }
   ],
   "source": [
    "bins = [1,9,17,24,31]\n",
    "sns.histplot(data=data_union,x='Dia',bins=bins,color='Skyblue',kde=True,linewidth=1)\n",
    "plt.title('Siniestros por dia',size=16)\n",
    "plt.xlabel('Dias',size=16)\n",
    "plt.ylabel('Siniestros',size=16)\n",
    "plt.show()"
   ]
  },
  {
   "cell_type": "markdown",
   "metadata": {},
   "source": [
    "Analizaremos la proporción que representa cada barra con respecto al total y veremos la cantidad exacta de datos para cada valor presente. Para ello utilizaremos una función del módulo Herramientas."
   ]
  },
  {
   "cell_type": "code",
   "execution_count": 17,
   "metadata": {},
   "outputs": [
    {
     "name": "stdout",
     "output_type": "stream",
     "text": [
      "Los valores de Dia:\n",
      "20    31\n",
      "17    29\n",
      "3     28\n",
      "11    28\n",
      "9     27\n",
      "27    27\n",
      "14    27\n",
      "12    26\n",
      "23    26\n",
      "10    26\n",
      "25    25\n",
      "15    25\n",
      "2     24\n",
      "28    24\n",
      "29    24\n",
      "4     23\n",
      "22    23\n",
      "7     23\n",
      "19    23\n",
      "18    22\n",
      "26    22\n",
      "6     20\n",
      "24    20\n",
      "21    19\n",
      "5     19\n",
      "16    18\n",
      "13    18\n",
      "30    17\n",
      "1     16\n",
      "8     14\n",
      "31    13\n",
      "\n",
      "El porcentaje que representa cada valor:\n",
      "20    4.38\n",
      "17    4.10\n",
      "3     3.96\n",
      "11    3.96\n",
      "9     3.82\n",
      "27    3.82\n",
      "14    3.82\n",
      "12    3.68\n",
      "23    3.68\n",
      "10    3.68\n",
      "25    3.54\n",
      "15    3.54\n",
      "2     3.39\n",
      "28    3.39\n",
      "29    3.39\n",
      "4     3.25\n",
      "22    3.25\n",
      "7     3.25\n",
      "19    3.25\n",
      "18    3.11\n",
      "26    3.11\n",
      "6     2.83\n",
      "24    2.83\n",
      "21    2.69\n",
      "5     2.69\n",
      "16    2.55\n",
      "13    2.55\n",
      "30    2.40\n",
      "1     2.26\n",
      "8     1.98\n",
      "31    1.84\n"
     ]
    }
   ],
   "source": [
    "Herr.cantidad_porcentaje(data_union,'Dia')"
   ]
  },
  {
   "cell_type": "markdown",
   "metadata": {},
   "source": [
    "La información proporcionada por este gráfico junto con los porcentajes es la siguiente:\n",
    "\n",
    "* Los siniestros muestran una distribución 'uniforme' a lo largo de los días, fluctuando entre el 1.84% y el 4.38% a lo largo del mes.\n",
    "* La mayor concentración de siniestros ocurre entre los días 9 y 17 de cada mes, representando un 31.7% del total.\n",
    "* La menor cantidad de siniestros se registra del día 1 al 8 de cada mes.\n",
    "\n",
    "Se utilizó un histplot o histograma para representar la columna ``Dia``, ya que son muy útiles para revisar la distribución de los datos. Al dividirlo en 4 semanas, nos permite observar la distribución de manera mensual.\n"
   ]
  },
  {
   "cell_type": "markdown",
   "metadata": {},
   "source": [
    "### Análisis de ``Hora``"
   ]
  },
  {
   "cell_type": "markdown",
   "metadata": {},
   "source": [
    "Se aplicará un procedimiento similar al realizado con la columna 'días'; se establecerán rangos horarios cada 6 horas, dividiendo así el día en 4 franjas horarias."
   ]
  },
  {
   "cell_type": "code",
   "execution_count": 18,
   "metadata": {},
   "outputs": [],
   "source": [
    "bins2 = [0,6,12,18,24]\n",
    "labels = ['Madrugada','Mañana','Tarde','Noche']\n",
    "data_union['Franja_horaria'] = pd.cut(data_union['Hora'],bins=bins2,labels=labels,right=False)\n"
   ]
  },
  {
   "cell_type": "markdown",
   "metadata": {},
   "source": [
    "Se agruparon los valores de las franjas horarias en el total de los siniestros."
   ]
  },
  {
   "cell_type": "code",
   "execution_count": 19,
   "metadata": {},
   "outputs": [],
   "source": [
    "dias_franjas = data_union.groupby(by=['Franja_horaria']).sum().reset_index()"
   ]
  },
  {
   "cell_type": "code",
   "execution_count": 20,
   "metadata": {},
   "outputs": [
    {
     "data": {
      "image/png": "[encoded data removed]",
      "text/plain": [
       "<Figure size 640x480 with 1 Axes>"
      ]
     },
     "metadata": {},
     "output_type": "display_data"
    }
   ],
   "source": [
    "sns.barplot(data=dias_franjas,x='Franja_horaria',y='Nro_victimas',color='skyblue',edgecolor='black')\n",
    "plt.title('Siniestros por franja horaria',size=16)\n",
    "plt.xlabel('Franja horaria',size=16)\n",
    "plt.ylabel('Siniestros',size=16)\n",
    "plt.show()"
   ]
  },
  {
   "cell_type": "markdown",
   "metadata": {},
   "source": [
    "Analizaremos la proporción que representa cada barra con respecto al total y veremos la cantidad exacta de datos para cada valor presente. Para ello utilizaremos una función del módulo Herramientas."
   ]
  },
  {
   "cell_type": "code",
   "execution_count": 21,
   "metadata": {},
   "outputs": [
    {
     "name": "stdout",
     "output_type": "stream",
     "text": [
      "Los valores de Franja_horaria:\n",
      "Mañana       209\n",
      "Noche        174\n",
      "Tarde        168\n",
      "Madrugada    156\n",
      "\n",
      "El porcentaje que representa cada valor:\n",
      "Mañana       29.56\n",
      "Noche        24.61\n",
      "Tarde        23.76\n",
      "Madrugada    22.07\n"
     ]
    }
   ],
   "source": [
    "Herr.cantidad_porcentaje(data_union,'Franja_horaria')"
   ]
  },
  {
   "cell_type": "markdown",
   "metadata": {},
   "source": [
    "En la división por franjas horarias, los valores son:\n",
    "\n",
    "* Madrugada (0hs-6hs)\n",
    "* Mañana (7hs-12hs)\n",
    "* Tarde (13hs-18hs)\n",
    "* Noche (19hs-24hs)\n",
    "\n",
    "La información proporcionada por este gráfico, junto con los porcentajes, es la siguiente:\n",
    "\n",
    "* El 30%, es decir, la mayoría, de los siniestros ocurren durante la mañana.\n",
    "\n",
    "* La menor cantidad de siniestros, un 22%, ocurre durante la madrugada.\n",
    "\n",
    "* La noche y la tarde tienen proporciones similares de siniestros."
   ]
  },
  {
   "cell_type": "markdown",
   "metadata": {},
   "source": [
    "### Análisis de ``Lugar_hecho``"
   ]
  },
  {
   "cell_type": "markdown",
   "metadata": {},
   "source": [
    "Se observó que las columnas 'Lugar_hecho' y 'Direccion_normalizada' tenían valores similares, pero la primera columna es mucho más fácil de leer en cuanto a la ubicación del hecho. Se extraerán las dos columnas para compararlas."
   ]
  },
  {
   "cell_type": "code",
   "execution_count": 22,
   "metadata": {},
   "outputs": [
    {
     "data": {
      "text/html": [
       "<div>\n",
       "<style scoped>\n",
       "    .dataframe tbody tr th:only-of-type {\n",
       "        vertical-align: middle;\n",
       "    }\n",
       "\n",
       "    .dataframe tbody tr th {\n",
       "        vertical-align: top;\n",
       "    }\n",
       "\n",
       "    .dataframe thead th {\n",
       "        text-align: right;\n",
       "    }\n",
       "</style>\n",
       "<table border=\"1\" class=\"dataframe\">\n",
       "  <thead>\n",
       "    <tr style=\"text-align: right;\">\n",
       "      <th></th>\n",
       "      <th>Direccion_normalizada</th>\n",
       "      <th>Lugar_hecho</th>\n",
       "    </tr>\n",
       "  </thead>\n",
       "  <tbody>\n",
       "    <tr>\n",
       "      <th>0</th>\n",
       "      <td>PIEDRA BUENA AV. y FERNANDEZ DE LA CRUZ, F., G...</td>\n",
       "      <td>AV PIEDRA BUENA Y AV FERNANDEZ DE LA CRUZ</td>\n",
       "    </tr>\n",
       "    <tr>\n",
       "      <th>1</th>\n",
       "      <td>PAZ, GRAL. AV. y DE LOS CORRALES AV.</td>\n",
       "      <td>AV GRAL PAZ  Y AV DE LOS CORRALES</td>\n",
       "    </tr>\n",
       "    <tr>\n",
       "      <th>2</th>\n",
       "      <td>ENTRE RIOS AV. 2034</td>\n",
       "      <td>AV ENTRE RIOS 2034</td>\n",
       "    </tr>\n",
       "    <tr>\n",
       "      <th>3</th>\n",
       "      <td>LARRAZABAL AV. y VILLEGAS, CONRADO, GRAL.</td>\n",
       "      <td>AV LARRAZABAL Y GRAL VILLEGAS CONRADO</td>\n",
       "    </tr>\n",
       "    <tr>\n",
       "      <th>4</th>\n",
       "      <td>SAN JUAN AV. y SAENZ PEÃ‘A, LUIS, PRES.</td>\n",
       "      <td>AV SAN JUAN Y PRESIDENTE LUIS SAENZ PEÑA</td>\n",
       "    </tr>\n",
       "    <tr>\n",
       "      <th>5</th>\n",
       "      <td>27 DE FEBRERO AV. y ESCALADA AV.</td>\n",
       "      <td>AV 27 DE FEBRERO Y AV ESCALADA</td>\n",
       "    </tr>\n",
       "    <tr>\n",
       "      <th>6</th>\n",
       "      <td>NOGOYA y GONZALEZ, JOAQUIN V.</td>\n",
       "      <td>NOGOYA Y JOAQUIN V. GONZALES</td>\n",
       "    </tr>\n",
       "    <tr>\n",
       "      <th>7</th>\n",
       "      <td>PAZ, GRAL. AV. y DE LOS CORRALES AV.</td>\n",
       "      <td>AV GENERAL PAZ Y AV DE LOS CORRALES</td>\n",
       "    </tr>\n",
       "    <tr>\n",
       "      <th>8</th>\n",
       "      <td>BELGRANO AV. e IRIGOYEN, BERNARDO DE</td>\n",
       "      <td>AV BELGRANO Y BERNARDO DE IRIGOYEN</td>\n",
       "    </tr>\n",
       "    <tr>\n",
       "      <th>9</th>\n",
       "      <td>ENTRE RIOS AV. 1366</td>\n",
       "      <td>AV ENTRE RIOS 1366</td>\n",
       "    </tr>\n",
       "  </tbody>\n",
       "</table>\n",
       "</div>"
      ],
      "text/plain": [
       "                               Direccion_normalizada  \\\n",
       "0  PIEDRA BUENA AV. y FERNANDEZ DE LA CRUZ, F., G...   \n",
       "1               PAZ, GRAL. AV. y DE LOS CORRALES AV.   \n",
       "2                                ENTRE RIOS AV. 2034   \n",
       "3          LARRAZABAL AV. y VILLEGAS, CONRADO, GRAL.   \n",
       "4            SAN JUAN AV. y SAENZ PEÃ‘A, LUIS, PRES.   \n",
       "5                   27 DE FEBRERO AV. y ESCALADA AV.   \n",
       "6                      NOGOYA y GONZALEZ, JOAQUIN V.   \n",
       "7               PAZ, GRAL. AV. y DE LOS CORRALES AV.   \n",
       "8               BELGRANO AV. e IRIGOYEN, BERNARDO DE   \n",
       "9                                ENTRE RIOS AV. 1366   \n",
       "\n",
       "                                 Lugar_hecho  \n",
       "0  AV PIEDRA BUENA Y AV FERNANDEZ DE LA CRUZ  \n",
       "1          AV GRAL PAZ  Y AV DE LOS CORRALES  \n",
       "2                         AV ENTRE RIOS 2034  \n",
       "3      AV LARRAZABAL Y GRAL VILLEGAS CONRADO  \n",
       "4  AV SAN JUAN Y PRESIDENTE LUIS SAENZ PEÑA   \n",
       "5             AV 27 DE FEBRERO Y AV ESCALADA  \n",
       "6               NOGOYA Y JOAQUIN V. GONZALES  \n",
       "7        AV GENERAL PAZ Y AV DE LOS CORRALES  \n",
       "8         AV BELGRANO Y BERNARDO DE IRIGOYEN  \n",
       "9                         AV ENTRE RIOS 1366  "
      ]
     },
     "execution_count": 22,
     "metadata": {},
     "output_type": "execute_result"
    }
   ],
   "source": [
    "data_dehechos = data_union[['Direccion_normalizada','Lugar_hecho']]\n",
    "data_dehechos.head(10)"
   ]
  },
  {
   "cell_type": "markdown",
   "metadata": {},
   "source": [
    "Se eliminará la columna 'Direccion_normalizada' ya que contiene los mismos datos que la columna 'Lugar_hecho', pero esta última se lee de manera más fácil."
   ]
  },
  {
   "cell_type": "code",
   "execution_count": 23,
   "metadata": {},
   "outputs": [],
   "source": [
    "data_union = data_union.drop(columns=['Direccion_normalizada'])"
   ]
  },
  {
   "cell_type": "markdown",
   "metadata": {},
   "source": [
    "Se extraerá el valor que más se repite en la columna."
   ]
  },
  {
   "cell_type": "code",
   "execution_count": 24,
   "metadata": {},
   "outputs": [
    {
     "data": {
      "text/plain": [
       "'AV 27 DE FEBRERO Y AV ESCALADA'"
      ]
     },
     "execution_count": 24,
     "metadata": {},
     "output_type": "execute_result"
    }
   ],
   "source": [
    "frecuente = data_union['Lugar_hecho'].value_counts()\n",
    "Mayor_Lugar_hecho = frecuente[frecuente>3].index\n",
    "Mayor_Lugar_hecho[0]"
   ]
  },
  {
   "cell_type": "markdown",
   "metadata": {},
   "source": [
    "Se observó que algunos registros están en minúsculas y otros en mayúsculas. Se procederá a convertir todo a mayúsculas para respetar el formato en el que se encuentra la mayoría."
   ]
  },
  {
   "cell_type": "code",
   "execution_count": 25,
   "metadata": {},
   "outputs": [],
   "source": [
    "data_union['Lugar_hecho'] = data_union['Lugar_hecho'].str.upper()"
   ]
  },
  {
   "cell_type": "markdown",
   "metadata": {},
   "source": [
    "Se están buscando las coordenadas filtrando el DataFrame 'data_union', para posteriormente representarlo en el mapa."
   ]
  },
  {
   "cell_type": "code",
   "execution_count": 26,
   "metadata": {},
   "outputs": [
    {
     "data": {
      "text/html": [
       "<div>\n",
       "<style scoped>\n",
       "    .dataframe tbody tr th:only-of-type {\n",
       "        vertical-align: middle;\n",
       "    }\n",
       "\n",
       "    .dataframe tbody tr th {\n",
       "        vertical-align: top;\n",
       "    }\n",
       "\n",
       "    .dataframe thead th {\n",
       "        text-align: right;\n",
       "    }\n",
       "</style>\n",
       "<table border=\"1\" class=\"dataframe\">\n",
       "  <thead>\n",
       "    <tr style=\"text-align: right;\">\n",
       "      <th></th>\n",
       "      <th>Id_hecho</th>\n",
       "      <th>Nro_victimas</th>\n",
       "      <th>Fecha</th>\n",
       "      <th>Anio</th>\n",
       "      <th>Mes</th>\n",
       "      <th>Dia</th>\n",
       "      <th>Hora</th>\n",
       "      <th>Lugar_hecho</th>\n",
       "      <th>Tipo_calle</th>\n",
       "      <th>Calle</th>\n",
       "      <th>Cruce</th>\n",
       "      <th>Comuna</th>\n",
       "      <th>Xy_plana</th>\n",
       "      <th>Long_x</th>\n",
       "      <th>Lat_y</th>\n",
       "      <th>Participantes</th>\n",
       "      <th>Victima</th>\n",
       "      <th>Acusado</th>\n",
       "      <th>Rol</th>\n",
       "      <th>Sexo</th>\n",
       "      <th>Edad</th>\n",
       "      <th>Fecha_fallecimiento</th>\n",
       "      <th>Franja_horaria</th>\n",
       "    </tr>\n",
       "  </thead>\n",
       "  <tbody>\n",
       "    <tr>\n",
       "      <th>5</th>\n",
       "      <td>2016-0008</td>\n",
       "      <td>1</td>\n",
       "      <td>2016-01-24</td>\n",
       "      <td>2016</td>\n",
       "      <td>Enero</td>\n",
       "      <td>24</td>\n",
       "      <td>18</td>\n",
       "      <td>AV 27 DE FEBRERO Y AV ESCALADA</td>\n",
       "      <td>AVENIDA</td>\n",
       "      <td>27 DE FEBRERO AV.</td>\n",
       "      <td>Con_cruce</td>\n",
       "      <td>8</td>\n",
       "      <td>Point (101721.59002217 93844.25656649)</td>\n",
       "      <td>-58.44451316</td>\n",
       "      <td>-34.68475866</td>\n",
       "      <td>MOTO-OBJETO FIJO</td>\n",
       "      <td>MOTO</td>\n",
       "      <td>OBJETO FIJO</td>\n",
       "      <td>CONDUCTOR</td>\n",
       "      <td>MASCULINO</td>\n",
       "      <td>30</td>\n",
       "      <td>2016-01-24</td>\n",
       "      <td>Noche</td>\n",
       "    </tr>\n",
       "    <tr>\n",
       "      <th>89</th>\n",
       "      <td>2016-0116</td>\n",
       "      <td>1</td>\n",
       "      <td>2016-09-02</td>\n",
       "      <td>2016</td>\n",
       "      <td>Septiembre</td>\n",
       "      <td>2</td>\n",
       "      <td>20</td>\n",
       "      <td>AV 27 DE FEBRERO Y AV ESCALADA</td>\n",
       "      <td>AVENIDA</td>\n",
       "      <td>27 DE FEBRERO AV.</td>\n",
       "      <td>Con_cruce</td>\n",
       "      <td>8</td>\n",
       "      <td>Point (101721.59002217 93844.25656649)</td>\n",
       "      <td>-58.44451316</td>\n",
       "      <td>-34.68475866</td>\n",
       "      <td>MOTO-AUTO</td>\n",
       "      <td>MOTO</td>\n",
       "      <td>AUTO</td>\n",
       "      <td>CONDUCTOR</td>\n",
       "      <td>MASCULINO</td>\n",
       "      <td>30</td>\n",
       "      <td>2016-09-02</td>\n",
       "      <td>Noche</td>\n",
       "    </tr>\n",
       "    <tr>\n",
       "      <th>112</th>\n",
       "      <td>2016-0143</td>\n",
       "      <td>1</td>\n",
       "      <td>2016-11-06</td>\n",
       "      <td>2016</td>\n",
       "      <td>Noviembre</td>\n",
       "      <td>6</td>\n",
       "      <td>4</td>\n",
       "      <td>AV 27 DE FEBRERO Y AV ESCALADA</td>\n",
       "      <td>AVENIDA</td>\n",
       "      <td>27 DE FEBRERO AV.</td>\n",
       "      <td>Con_cruce</td>\n",
       "      <td>8</td>\n",
       "      <td>Point (101721.59002217 93844.25656649)</td>\n",
       "      <td>-58.44451316</td>\n",
       "      <td>-34.68475866</td>\n",
       "      <td>MOTO-SD</td>\n",
       "      <td>MOTO</td>\n",
       "      <td>No_data</td>\n",
       "      <td>CONDUCTOR</td>\n",
       "      <td>MASCULINO</td>\n",
       "      <td>35</td>\n",
       "      <td>2000-01-01</td>\n",
       "      <td>Madrugada</td>\n",
       "    </tr>\n",
       "    <tr>\n",
       "      <th>125</th>\n",
       "      <td>2016-0159</td>\n",
       "      <td>1</td>\n",
       "      <td>2016-12-04</td>\n",
       "      <td>2016</td>\n",
       "      <td>Diciembre</td>\n",
       "      <td>4</td>\n",
       "      <td>7</td>\n",
       "      <td>AV 27 DE FEBRERO Y AV ESCALADA</td>\n",
       "      <td>AVENIDA</td>\n",
       "      <td>27 DE FEBRERO AV.</td>\n",
       "      <td>Con_cruce</td>\n",
       "      <td>8</td>\n",
       "      <td>Point (101721.59002217 93844.25656649)</td>\n",
       "      <td>-58.44451316</td>\n",
       "      <td>-34.68475866</td>\n",
       "      <td>AUTO-SD</td>\n",
       "      <td>AUTO</td>\n",
       "      <td>No_data</td>\n",
       "      <td>CONDUCTOR</td>\n",
       "      <td>MASCULINO</td>\n",
       "      <td>23</td>\n",
       "      <td>2000-01-01</td>\n",
       "      <td>Mañana</td>\n",
       "    </tr>\n",
       "  </tbody>\n",
       "</table>\n",
       "</div>"
      ],
      "text/plain": [
       "      Id_hecho  Nro_victimas       Fecha  Anio         Mes  Dia  Hora  \\\n",
       "5    2016-0008             1  2016-01-24  2016       Enero   24    18   \n",
       "89   2016-0116             1  2016-09-02  2016  Septiembre    2    20   \n",
       "112  2016-0143             1  2016-11-06  2016   Noviembre    6     4   \n",
       "125  2016-0159             1  2016-12-04  2016   Diciembre    4     7   \n",
       "\n",
       "                        Lugar_hecho Tipo_calle              Calle      Cruce  \\\n",
       "5    AV 27 DE FEBRERO Y AV ESCALADA    AVENIDA  27 DE FEBRERO AV.  Con_cruce   \n",
       "89   AV 27 DE FEBRERO Y AV ESCALADA    AVENIDA  27 DE FEBRERO AV.  Con_cruce   \n",
       "112  AV 27 DE FEBRERO Y AV ESCALADA    AVENIDA  27 DE FEBRERO AV.  Con_cruce   \n",
       "125  AV 27 DE FEBRERO Y AV ESCALADA    AVENIDA  27 DE FEBRERO AV.  Con_cruce   \n",
       "\n",
       "     Comuna                                Xy_plana        Long_x  \\\n",
       "5         8  Point (101721.59002217 93844.25656649)  -58.44451316   \n",
       "89        8  Point (101721.59002217 93844.25656649)  -58.44451316   \n",
       "112       8  Point (101721.59002217 93844.25656649)  -58.44451316   \n",
       "125       8  Point (101721.59002217 93844.25656649)  -58.44451316   \n",
       "\n",
       "            Lat_y     Participantes Victima      Acusado        Rol  \\\n",
       "5    -34.68475866  MOTO-OBJETO FIJO    MOTO  OBJETO FIJO  CONDUCTOR   \n",
       "89   -34.68475866         MOTO-AUTO    MOTO         AUTO  CONDUCTOR   \n",
       "112  -34.68475866           MOTO-SD    MOTO      No_data  CONDUCTOR   \n",
       "125  -34.68475866           AUTO-SD    AUTO      No_data  CONDUCTOR   \n",
       "\n",
       "          Sexo  Edad Fecha_fallecimiento Franja_horaria  \n",
       "5    MASCULINO    30          2016-01-24          Noche  \n",
       "89   MASCULINO    30          2016-09-02          Noche  \n",
       "112  MASCULINO    35          2000-01-01      Madrugada  \n",
       "125  MASCULINO    23          2000-01-01         Mañana  "
      ]
     },
     "execution_count": 26,
     "metadata": {},
     "output_type": "execute_result"
    }
   ],
   "source": [
    "coordenadas = data_union[data_union['Lugar_hecho'] == 'AV 27 DE FEBRERO Y AV ESCALADA']\n",
    "coordenadas"
   ]
  },
  {
   "cell_type": "markdown",
   "metadata": {},
   "source": [
    "Ahora, el lugar de hecho que se repitió con mayor frecuencia será mostrado mediante la librería Folium."
   ]
  },
  {
   "cell_type": "code",
   "execution_count": 27,
   "metadata": {},
   "outputs": [
    {
     "data": {
      "text/html": [
       "<div style=\"width:100%;\"><div style=\"position:relative;width:100%;height:0;padding-bottom:60%;\"><span style=\"color:#565656\">Make this Notebook Trusted to load map: File -> Trust Notebook</span><iframe srcdoc=\"&lt;!DOCTYPE html&gt;\n",
       "&lt;html&gt;\n",
       "&lt;head&gt;\n",
       "    \n",
       "    &lt;meta http-equiv=&quot;content-type&quot; content=&quot;text/html; charset=UTF-8&quot; /&gt;\n",
       "    \n",
       "        &lt;script&gt;\n",
       "            L_NO_TOUCH = false;\n",
       "            L_DISABLE_3D = false;\n",
       "        &lt;/script&gt;\n",
       "    \n",
       "    &lt;style&gt;html, body {width: 100%;height: 100%;margin: 0;padding: 0;}&lt;/style&gt;\n",
       "    &lt;style&gt;#map {position:absolute;top:0;bottom:0;right:0;left:0;}&lt;/style&gt;\n",
       "    &lt;script src=&quot;https://cdn.jsdelivr.net/npm/leaflet@1.9.3/dist/leaflet.js&quot;&gt;&lt;/script&gt;\n",
       "    &lt;script src=&quot;https://code.jquery.com/jquery-3.7.1.min.js&quot;&gt;&lt;/script&gt;\n",
       "    &lt;script src=&quot;https://cdn.jsdelivr.net/npm/bootstrap@5.2.2/dist/js/bootstrap.bundle.min.js&quot;&gt;&lt;/script&gt;\n",
       "    &lt;script src=&quot;https://cdnjs.cloudflare.com/ajax/libs/Leaflet.awesome-markers/2.0.2/leaflet.awesome-markers.js&quot;&gt;&lt;/script&gt;\n",
       "    &lt;link rel=&quot;stylesheet&quot; href=&quot;https://cdn.jsdelivr.net/npm/leaflet@1.9.3/dist/leaflet.css&quot;/&gt;\n",
       "    &lt;link rel=&quot;stylesheet&quot; href=&quot;https://cdn.jsdelivr.net/npm/bootstrap@5.2.2/dist/css/bootstrap.min.css&quot;/&gt;\n",
       "    &lt;link rel=&quot;stylesheet&quot; href=&quot;https://netdna.bootstrapcdn.com/bootstrap/3.0.0/css/bootstrap.min.css&quot;/&gt;\n",
       "    &lt;link rel=&quot;stylesheet&quot; href=&quot;https://cdn.jsdelivr.net/npm/@fortawesome/fontawesome-free@6.2.0/css/all.min.css&quot;/&gt;\n",
       "    &lt;link rel=&quot;stylesheet&quot; href=&quot;https://cdnjs.cloudflare.com/ajax/libs/Leaflet.awesome-markers/2.0.2/leaflet.awesome-markers.css&quot;/&gt;\n",
       "    &lt;link rel=&quot;stylesheet&quot; href=&quot;https://cdn.jsdelivr.net/gh/python-visualization/folium/folium/templates/leaflet.awesome.rotate.min.css&quot;/&gt;\n",
       "    \n",
       "            &lt;meta name=&quot;viewport&quot; content=&quot;width=device-width,\n",
       "                initial-scale=1.0, maximum-scale=1.0, user-scalable=no&quot; /&gt;\n",
       "            &lt;style&gt;\n",
       "                #map_0ab767f3976b08e50a2143a83fdb1cee {\n",
       "                    position: relative;\n",
       "                    width: 100.0%;\n",
       "                    height: 100.0%;\n",
       "                    left: 0.0%;\n",
       "                    top: 0.0%;\n",
       "                }\n",
       "                .leaflet-container { font-size: 1rem; }\n",
       "            &lt;/style&gt;\n",
       "        \n",
       "&lt;/head&gt;\n",
       "&lt;body&gt;\n",
       "    \n",
       "    \n",
       "            &lt;div class=&quot;folium-map&quot; id=&quot;map_0ab767f3976b08e50a2143a83fdb1cee&quot; &gt;&lt;/div&gt;\n",
       "        \n",
       "&lt;/body&gt;\n",
       "&lt;script&gt;\n",
       "    \n",
       "    \n",
       "            var map_0ab767f3976b08e50a2143a83fdb1cee = L.map(\n",
       "                &quot;map_0ab767f3976b08e50a2143a83fdb1cee&quot;,\n",
       "                {\n",
       "                    center: [-34.68475866, -58.44451316],\n",
       "                    crs: L.CRS.EPSG3857,\n",
       "                    zoom: 16,\n",
       "                    zoomControl: true,\n",
       "                    preferCanvas: false,\n",
       "                }\n",
       "            );\n",
       "\n",
       "            \n",
       "\n",
       "        \n",
       "    \n",
       "            var tile_layer_ad01ea363817a61020db70e23830a54e = L.tileLayer(\n",
       "                &quot;https://tile.openstreetmap.org/{z}/{x}/{y}.png&quot;,\n",
       "                {&quot;attribution&quot;: &quot;\\u0026copy; \\u003ca href=\\&quot;https://www.openstreetmap.org/copyright\\&quot;\\u003eOpenStreetMap\\u003c/a\\u003e contributors&quot;, &quot;detectRetina&quot;: false, &quot;maxNativeZoom&quot;: 19, &quot;maxZoom&quot;: 19, &quot;minZoom&quot;: 0, &quot;noWrap&quot;: false, &quot;opacity&quot;: 1, &quot;subdomains&quot;: &quot;abc&quot;, &quot;tms&quot;: false}\n",
       "            );\n",
       "        \n",
       "    \n",
       "            tile_layer_ad01ea363817a61020db70e23830a54e.addTo(map_0ab767f3976b08e50a2143a83fdb1cee);\n",
       "        \n",
       "    \n",
       "            var marker_bf68cfa0636d5932db9622ba6a471878 = L.marker(\n",
       "                [-34.68475866, -58.44451316],\n",
       "                {}\n",
       "            ).addTo(map_0ab767f3976b08e50a2143a83fdb1cee);\n",
       "        \n",
       "    \n",
       "        var popup_1e59abf79f62449475427c036df6e19a = L.popup({&quot;maxWidth&quot;: &quot;100%&quot;});\n",
       "\n",
       "        \n",
       "            \n",
       "                var html_231226f316c104fbd07c6f946295d346 = $(`&lt;div id=&quot;html_231226f316c104fbd07c6f946295d346&quot; style=&quot;width: 100.0%; height: 100.0%;&quot;&gt;Ubicación&lt;/div&gt;`)[0];\n",
       "                popup_1e59abf79f62449475427c036df6e19a.setContent(html_231226f316c104fbd07c6f946295d346);\n",
       "            \n",
       "        \n",
       "\n",
       "        marker_bf68cfa0636d5932db9622ba6a471878.bindPopup(popup_1e59abf79f62449475427c036df6e19a)\n",
       "        ;\n",
       "\n",
       "        \n",
       "    \n",
       "&lt;/script&gt;\n",
       "&lt;/html&gt;\" style=\"position:absolute;width:100%;height:100%;left:0;top:0;border:none !important;\" allowfullscreen webkitallowfullscreen mozallowfullscreen></iframe></div></div>"
      ],
      "text/plain": [
       "<folium.folium.Map at 0x155f3916790>"
      ]
     },
     "execution_count": 27,
     "metadata": {},
     "output_type": "execute_result"
    }
   ],
   "source": [
    "mapa = folium.Map(location=[-34.68475866,-58.44451316],zoom_start=16)\n",
    "folium.Marker(location=[-34.68475866,-58.44451316],popup='Ubicación').add_to(mapa)\n",
    "mapa"
   ]
  },
  {
   "cell_type": "markdown",
   "metadata": {},
   "source": [
    "En caso de no poder visualizar el mapa directamente, se utilizó una página que permite utilizar este mapa de forma interactiva. Para verlo debe deslizar hasta la misma posición que en este notebook, haga click [aquí](https://nbviewer.org/github/MaximilianoTauil/PI_Siniestros/blob/main/EDA.ipynb).\n"
   ]
  },
  {
   "cell_type": "markdown",
   "metadata": {},
   "source": [
    "La información proporcionada por el análisis, junto con el mapa, es la siguiente:\n",
    "\n",
    "* No hay una referencia específica en ninguno de los lugares de hecho para indicar la razón de su repetición, ya que en el lugar que más se repite, todos los eventos ocurrieron en el año 2016. Al realizar una búsqueda por separado en Google Maps, no hay registros para el año 2016, solo para el año 2017, cuando la calle estaba siendo reasfaltada.\n",
    "\n",
    "* Se eliminó una columna innecesaria ('Direccion_normalizada').\n",
    "\n",
    "* Se normalizaron los valores para una correcta contabilización.\n",
    "\n",
    "No se utilizó un gráfico, ya que contamos con numerosos lugares de hechos distintos y representarlos de manera visual no resultaría agradable para el lector. Por esta razón, se optó por el mapa, destacando el punto con mayor cantidad de siniestros"
   ]
  },
  {
   "cell_type": "markdown",
   "metadata": {},
   "source": [
    "### Análisis de ``Tipo_calle``"
   ]
  },
  {
   "cell_type": "code",
   "execution_count": 28,
   "metadata": {},
   "outputs": [
    {
     "data": {
      "image/png": "[encoded data removed]",
      "text/plain": [
       "<Figure size 640x480 with 1 Axes>"
      ]
     },
     "metadata": {},
     "output_type": "display_data"
    }
   ],
   "source": [
    "sns.countplot(data=data_union,x='Tipo_calle',hue='Tipo_calle',palette='viridis')\n",
    "plt.title('Siniestros por tipo de calle',size=16)\n",
    "plt.xlabel('Tipos de calle',size=14)\n",
    "plt.ylabel('Cantidad',size=14)\n",
    "plt.show()"
   ]
  },
  {
   "cell_type": "markdown",
   "metadata": {},
   "source": [
    "Analizaremos la proporción que representa cada barra con respecto al total y veremos la cantidad exacta de datos para cada valor presente. Para ello utilizaremos una función del módulo Herramientas."
   ]
  },
  {
   "cell_type": "code",
   "execution_count": 29,
   "metadata": {},
   "outputs": [
    {
     "name": "stdout",
     "output_type": "stream",
     "text": [
      "Los valores de Tipo_calle:\n",
      "AVENIDA      442\n",
      "CALLE        137\n",
      "AUTOPISTA    128\n",
      "\n",
      "El porcentaje que representa cada valor:\n",
      "AVENIDA      62.52\n",
      "CALLE        19.38\n",
      "AUTOPISTA    18.10\n"
     ]
    }
   ],
   "source": [
    "Herr.cantidad_porcentaje(data_union,'Tipo_calle')"
   ]
  },
  {
   "cell_type": "markdown",
   "metadata": {},
   "source": [
    "La información proporcionada por este gráfico, junto con los porcentajes, es la siguiente:\n",
    "\n",
    "* El 63% de los accidentes ocurren en avenidas.\n",
    "* Las calles (19%) y autopistas (18%) están casi igualmente distribuidas en cuanto a siniestros.\n",
    "\n",
    "Se eligió un countplot, ya que al realizar un catplot, era esencialmente el mismo gráfico, con la única diferencia de que el countplot establece límites en los ejes x e y. Este tipo de gráfico es fácil de comprender y, dado que solo tenemos 3 valores, es fácilmente legible."
   ]
  },
  {
   "cell_type": "markdown",
   "metadata": {},
   "source": [
    "### Análisis de ``Calle``"
   ]
  },
  {
   "cell_type": "code",
   "execution_count": 30,
   "metadata": {},
   "outputs": [
    {
     "data": {
      "image/png": "[encoded data removed]",
      "text/plain": [
       "<Figure size 640x480 with 1 Axes>"
      ]
     },
     "metadata": {},
     "output_type": "display_data"
    }
   ],
   "source": [
    "contador_calle = data_union['Calle'].value_counts()\n",
    "top_10_calles = contador_calle.head(10)\n",
    "sns.barplot(x=top_10_calles.values,y=top_10_calles.index,hue=top_10_calles.index,palette='deep')\n",
    "plt.grid(axis='x',color='red')\n",
    "plt.xlabel('Siniestros')\n",
    "plt.title('Top 10 de siniestros en calle')\n",
    "plt.show()"
   ]
  },
  {
   "cell_type": "markdown",
   "metadata": {},
   "source": [
    "Analizaremos la proporción que representa cada barra y veremos la cantidad exacta de datos para cada calle presente."
   ]
  },
  {
   "cell_type": "code",
   "execution_count": 31,
   "metadata": {},
   "outputs": [
    {
     "data": {
      "text/plain": [
       "Calle\n",
       "PAZ, GRAL. AV.                                60\n",
       "RIVADAVIA AV.                                 20\n",
       "DEL LIBERTADOR AV.                            19\n",
       "AUTOPISTA 1 SUR PRESIDENTE ARTURO FRONDIZI    14\n",
       "ALBERDI, JUAN BAUTISTA AV.                    13\n",
       "AUTOPISTA 25 DE MAYO                          12\n",
       "CORRIENTES AV.                                11\n",
       "SAN MARTIN AV.                                11\n",
       "AUTOPISTA PERITO MORENO                       11\n",
       "CORDOBA AV.                                   10\n",
       "Name: count, dtype: int64"
      ]
     },
     "execution_count": 31,
     "metadata": {},
     "output_type": "execute_result"
    }
   ],
   "source": [
    "top_10_calles"
   ]
  },
  {
   "cell_type": "markdown",
   "metadata": {},
   "source": [
    "La información proporcionada por este gráfico, donde se seleccionaron los 10 primeros valores, es decir, aquellos que tuvieron más siniestros, es la siguiente:\n",
    "\n",
    "* La Avenida Gral Paz es la que más siniestros tuvo, representando un 8.5% del total.\n",
    "* La Avenida Córdoba es la que menos representa en este top 10, con un 1.4% del total.\n",
    "* Se confirma aún más que las avenidas fueron las que tuvieron la mayor cantidad de siniestros, ya que de las diez seleccionadas, siete son avenidas y las tres restantes son autopistas.\n",
    "\n",
    "La elección del gráfico fue un barplot, es decir, un gráfico de barras, que resulta conveniente debido a su orientación que permite una correcta visualización de las etiquetas. Además, la interpretación se facilita mediante el uso de diferentes colores, lo que hace que la comparación sea más sencilla."
   ]
  },
  {
   "cell_type": "markdown",
   "metadata": {},
   "source": [
    "### Análisis de ``Cruce``"
   ]
  },
  {
   "cell_type": "code",
   "execution_count": 32,
   "metadata": {},
   "outputs": [
    {
     "data": {
      "image/png": "[encoded data removed]",
      "text/plain": [
       "<Figure size 640x480 with 1 Axes>"
      ]
     },
     "metadata": {},
     "output_type": "display_data"
    }
   ],
   "source": [
    "sns.countplot(data=data_union,x='Cruce',hue='Cruce',palette='inferno')\n",
    "plt.ylabel('Cantidades')\n",
    "plt.title('Siniestros con o sin cruce')\n",
    "plt.show()"
   ]
  },
  {
   "cell_type": "markdown",
   "metadata": {},
   "source": [
    "Analizaremos la proporción que representa cada barra con respecto al total y veremos la cantidad exacta de datos para cada valor presente. Para ello utilizaremos una función del módulo Herramientas."
   ]
  },
  {
   "cell_type": "code",
   "execution_count": 33,
   "metadata": {},
   "outputs": [
    {
     "name": "stdout",
     "output_type": "stream",
     "text": [
      "Los valores de Cruce:\n",
      "Con_cruce    539\n",
      "Sin_cruce    168\n",
      "\n",
      "El porcentaje que representa cada valor:\n",
      "Con_cruce    76.24\n",
      "Sin_cruce    23.76\n"
     ]
    }
   ],
   "source": [
    "Herr.cantidad_porcentaje(data_union,'Cruce')"
   ]
  },
  {
   "cell_type": "markdown",
   "metadata": {},
   "source": [
    "La información proporcionada por este gráfico, junto con los porcentajes, es la siguiente:\n",
    "\n",
    "* El hecho de que más del 75% de los siniestros ocurran en calles con cruce sugiere que esto puede ser una de las causas de los choques, posiblemente debido a errores humanos, señalización deficiente o la ausencia de semáforos. Esto destaca un área importante que debe revisarse en términos de seguridad vial. \n",
    "* Menos de una cuarta parte de los siniestros ocurren en calles sin cruce.\n",
    "\n",
    "Se utilizo un countplot para representar esta información debido a su capacidad para visualizar la frecuencia de eventos discretos, en este caso, la frecuencia de siniestros en calles con y sin cruces, además de la sencillez para su lectura."
   ]
  },
  {
   "cell_type": "markdown",
   "metadata": {},
   "source": [
    "### Análisis de ``Comuna``"
   ]
  },
  {
   "cell_type": "code",
   "execution_count": 34,
   "metadata": {},
   "outputs": [
    {
     "data": {
      "text/plain": [
       "Comuna\n",
       "1     93\n",
       "4     77\n",
       "9     73\n",
       "8     67\n",
       "7     61\n",
       "3     46\n",
       "15    45\n",
       "12    39\n",
       "13    39\n",
       "14    35\n",
       "11    32\n",
       "10    30\n",
       "2     25\n",
       "6     22\n",
       "5     22\n",
       "0      1\n",
       "Name: count, dtype: int64"
      ]
     },
     "execution_count": 34,
     "metadata": {},
     "output_type": "execute_result"
    }
   ],
   "source": [
    "data_union['Comuna'].value_counts()"
   ]
  },
  {
   "cell_type": "markdown",
   "metadata": {},
   "source": [
    "Se detectó que hay un registro con la comuna 0, la cual no existe. Dado que es un solo valor, se procederá a eliminarlo. Pero antes lo revisaremos para ver como esta compuesto el registro."
   ]
  },
  {
   "cell_type": "code",
   "execution_count": 35,
   "metadata": {},
   "outputs": [
    {
     "data": {
      "text/html": [
       "<div>\n",
       "<style scoped>\n",
       "    .dataframe tbody tr th:only-of-type {\n",
       "        vertical-align: middle;\n",
       "    }\n",
       "\n",
       "    .dataframe tbody tr th {\n",
       "        vertical-align: top;\n",
       "    }\n",
       "\n",
       "    .dataframe thead th {\n",
       "        text-align: right;\n",
       "    }\n",
       "</style>\n",
       "<table border=\"1\" class=\"dataframe\">\n",
       "  <thead>\n",
       "    <tr style=\"text-align: right;\">\n",
       "      <th></th>\n",
       "      <th>Id_hecho</th>\n",
       "      <th>Nro_victimas</th>\n",
       "      <th>Fecha</th>\n",
       "      <th>Anio</th>\n",
       "      <th>Mes</th>\n",
       "      <th>Dia</th>\n",
       "      <th>Hora</th>\n",
       "      <th>Lugar_hecho</th>\n",
       "      <th>Tipo_calle</th>\n",
       "      <th>Calle</th>\n",
       "      <th>Cruce</th>\n",
       "      <th>Comuna</th>\n",
       "      <th>Xy_plana</th>\n",
       "      <th>Long_x</th>\n",
       "      <th>Lat_y</th>\n",
       "      <th>Participantes</th>\n",
       "      <th>Victima</th>\n",
       "      <th>Acusado</th>\n",
       "      <th>Rol</th>\n",
       "      <th>Sexo</th>\n",
       "      <th>Edad</th>\n",
       "      <th>Fecha_fallecimiento</th>\n",
       "      <th>Franja_horaria</th>\n",
       "    </tr>\n",
       "  </thead>\n",
       "  <tbody>\n",
       "    <tr>\n",
       "      <th>138</th>\n",
       "      <td>2016-0174</td>\n",
       "      <td>1</td>\n",
       "      <td>2016-12-27</td>\n",
       "      <td>2016</td>\n",
       "      <td>Diciembre</td>\n",
       "      <td>27</td>\n",
       "      <td>0</td>\n",
       "      <td>AUTOPISTA 25 DE MAYO</td>\n",
       "      <td>AUTOPISTA</td>\n",
       "      <td>AUTOPISTA 25 DE MAYO</td>\n",
       "      <td>Sin_cruce</td>\n",
       "      <td>0</td>\n",
       "      <td>No_data</td>\n",
       "      <td>No_data</td>\n",
       "      <td>No_data</td>\n",
       "      <td>SD-SD</td>\n",
       "      <td>No_data</td>\n",
       "      <td>No_data</td>\n",
       "      <td>No_data</td>\n",
       "      <td>No_data</td>\n",
       "      <td>42</td>\n",
       "      <td>2000-01-01</td>\n",
       "      <td>Madrugada</td>\n",
       "    </tr>\n",
       "  </tbody>\n",
       "</table>\n",
       "</div>"
      ],
      "text/plain": [
       "      Id_hecho  Nro_victimas       Fecha  Anio        Mes  Dia  Hora  \\\n",
       "138  2016-0174             1  2016-12-27  2016  Diciembre   27     0   \n",
       "\n",
       "              Lugar_hecho Tipo_calle                 Calle      Cruce  Comuna  \\\n",
       "138  AUTOPISTA 25 DE MAYO  AUTOPISTA  AUTOPISTA 25 DE MAYO  Sin_cruce       0   \n",
       "\n",
       "    Xy_plana   Long_x    Lat_y Participantes  Victima  Acusado      Rol  \\\n",
       "138  No_data  No_data  No_data         SD-SD  No_data  No_data  No_data   \n",
       "\n",
       "        Sexo  Edad Fecha_fallecimiento Franja_horaria  \n",
       "138  No_data    42          2000-01-01      Madrugada  "
      ]
     },
     "execution_count": 35,
     "metadata": {},
     "output_type": "execute_result"
    }
   ],
   "source": [
    "comuna_0 = data_union[data_union['Comuna'] == 0]\n",
    "comuna_0"
   ]
  },
  {
   "cell_type": "markdown",
   "metadata": {},
   "source": [
    "Es una buena opción eliminar el registro, ya que tiene 13 valores nulos. Por lo tanto, procederemos a eliminarlo."
   ]
  },
  {
   "cell_type": "code",
   "execution_count": 36,
   "metadata": {},
   "outputs": [],
   "source": [
    "data_union = data_union.drop(index=138)"
   ]
  },
  {
   "cell_type": "markdown",
   "metadata": {},
   "source": [
    "Se agruparon los valores de 'Nro_victimas' por cada comuna."
   ]
  },
  {
   "cell_type": "code",
   "execution_count": 37,
   "metadata": {},
   "outputs": [
    {
     "data": {
      "text/plain": [
       "Comuna\n",
       "1     101\n",
       "2      25\n",
       "3      48\n",
       "4      83\n",
       "5      22\n",
       "6      24\n",
       "7      65\n",
       "8      71\n",
       "9      75\n",
       "10     32\n",
       "11     34\n",
       "12     43\n",
       "13     39\n",
       "14     39\n",
       "15     47\n",
       "Name: Nro_victimas, dtype: int64"
      ]
     },
     "execution_count": 37,
     "metadata": {},
     "output_type": "execute_result"
    }
   ],
   "source": [
    "siniestro_comuna = data_union.groupby(by='Comuna')['Nro_victimas'].sum().sort_index()\n",
    "siniestro_comuna"
   ]
  },
  {
   "cell_type": "code",
   "execution_count": 38,
   "metadata": {},
   "outputs": [
    {
     "data": {
      "image/png": "[encoded data removed]",
      "text/plain": [
       "<Figure size 640x480 with 1 Axes>"
      ]
     },
     "metadata": {},
     "output_type": "display_data"
    }
   ],
   "source": [
    "sns.barplot(x=siniestro_comuna.index,y=siniestro_comuna.values,hue=siniestro_comuna.index,palette='viridis')\n",
    "plt.legend([],[],frameon=False)\n",
    "plt.xlabel('Numero de comuna')\n",
    "plt.ylabel('Víctimas')\n",
    "plt.title('Cantidad de víctimas por comuna')\n",
    "plt.grid(axis='y',color='skyblue')\n",
    "plt.show()"
   ]
  },
  {
   "cell_type": "markdown",
   "metadata": {},
   "source": [
    "Analizaremos la proporción que representa cada barra con respecto al total y veremos la cantidad exacta de datos para cada valor presente. Para ello utilizaremos una función del módulo Herramientas."
   ]
  },
  {
   "cell_type": "code",
   "execution_count": 39,
   "metadata": {},
   "outputs": [
    {
     "name": "stdout",
     "output_type": "stream",
     "text": [
      "Los valores de Comuna:\n",
      "1     93\n",
      "4     77\n",
      "9     73\n",
      "8     67\n",
      "7     61\n",
      "3     46\n",
      "15    45\n",
      "12    39\n",
      "13    39\n",
      "14    35\n",
      "11    32\n",
      "10    30\n",
      "2     25\n",
      "6     22\n",
      "5     22\n",
      "\n",
      "El porcentaje que representa cada valor:\n",
      "1     13.17\n",
      "4     10.91\n",
      "9     10.34\n",
      "8      9.49\n",
      "7      8.64\n",
      "3      6.52\n",
      "15     6.37\n",
      "12     5.52\n",
      "13     5.52\n",
      "14     4.96\n",
      "11     4.53\n",
      "10     4.25\n",
      "2      3.54\n",
      "6      3.12\n",
      "5      3.12\n"
     ]
    }
   ],
   "source": [
    "Herr.cantidad_porcentaje(data_union,'Comuna')"
   ]
  },
  {
   "cell_type": "markdown",
   "metadata": {},
   "source": [
    "La información proporcionada por el gráfico, junto con los porcentajes, es la siguiente:\n",
    "\n",
    "* La comuna número 1 es la que presenta la mayor cantidad de siniestros, con un total de 93 fallecimientos. Esta cifra muestra una gran diferencia con la comuna de menor incidencia, que tiene 22 fallecimientos. Sería recomendable revisar las condiciones de las calles, la presencia de cruces semaforizados, entre otras posibles variables.\n",
    "\n",
    "Se utilizó un gráfico de barras porque proporciona una comparativa visual clara y fácil, lo que permite a una persona no familiarizada con los datos leer el gráfico con facilidad."
   ]
  },
  {
   "cell_type": "markdown",
   "metadata": {},
   "source": [
    "### Análisis de ``Xy_plana``"
   ]
  },
  {
   "cell_type": "markdown",
   "metadata": {},
   "source": [
    "Esta columna será eliminada, ya que proporciona información redundante y con un grado de complejidad mayor en comparación con las columnas 'Lat_y' y 'Long_x'. Estas dos últimas utilizan un sistema estándar aceptado en la mayoría de aplicaciones y visualizaciones."
   ]
  },
  {
   "cell_type": "code",
   "execution_count": 40,
   "metadata": {},
   "outputs": [],
   "source": [
    "data_union = data_union.drop(columns='Xy_plana')"
   ]
  },
  {
   "cell_type": "markdown",
   "metadata": {},
   "source": [
    "### Análisis de ``Long_x`` y ``Lat_y``"
   ]
  },
  {
   "cell_type": "markdown",
   "metadata": {},
   "source": [
    "Estas columnas poseen valores repetidos, ya que hay siniestros que ocurrieron en el mismo lugar, como lo vimos en el análisis de la columna 'Lugar_hecho'. Por esta razón, solo se mostrarán los primeros valores para presentar los datos más repetidos en ambas columnas."
   ]
  },
  {
   "cell_type": "code",
   "execution_count": 41,
   "metadata": {},
   "outputs": [
    {
     "data": {
      "text/plain": [
       "Long_x\n",
       "-58.44451316    5\n",
       "-58.49491054    4\n",
       "-58.46743471    4\n",
       "-58.50073810    4\n",
       "-58.50877521    4\n",
       "               ..\n",
       "-58.51389422    1\n",
       "-58.42182126    1\n",
       "-58.39100580    1\n",
       "-58.37697717    1\n",
       "-58.37976155    1\n",
       "Name: count, Length: 604, dtype: int64"
      ]
     },
     "execution_count": 41,
     "metadata": {},
     "output_type": "execute_result"
    }
   ],
   "source": [
    "data_union['Long_x'].value_counts()"
   ]
  },
  {
   "cell_type": "code",
   "execution_count": 42,
   "metadata": {},
   "outputs": [
    {
     "data": {
      "text/plain": [
       "Lat_y\n",
       "-34.68475866    5\n",
       "-34.54795581    4\n",
       "-34.53476874    4\n",
       "-34.54979510    4\n",
       "-34.66977709    4\n",
       "               ..\n",
       "-34.58075791    1\n",
       "-34.63089661    1\n",
       "-34.58498660    1\n",
       "-34.59573848    1\n",
       "-34.58679619    1\n",
       "Name: count, Length: 604, dtype: int64"
      ]
     },
     "execution_count": 42,
     "metadata": {},
     "output_type": "execute_result"
    }
   ],
   "source": [
    "data_union['Lat_y'].value_counts()"
   ]
  },
  {
   "cell_type": "markdown",
   "metadata": {},
   "source": [
    "### Análisis de ``Participantes``"
   ]
  },
  {
   "cell_type": "code",
   "execution_count": 43,
   "metadata": {},
   "outputs": [
    {
     "data": {
      "image/png": "[encoded data removed]",
      "text/plain": [
       "<Figure size 640x480 with 1 Axes>"
      ]
     },
     "metadata": {},
     "output_type": "display_data"
    }
   ],
   "source": [
    "contador_participantes = data_union['Participantes'].value_counts()\n",
    "top_15_participantes = contador_participantes.head(15)\n",
    "sns.barplot(x=top_15_participantes.values,y=top_15_participantes.index,hue=top_15_participantes.index,palette='viridis')\n",
    "plt.xlabel('Cantidad')\n",
    "plt.title('Cantidades de cada tipo de participantes')\n",
    "plt.ylabel('Tipos')\n",
    "plt.show()"
   ]
  },
  {
   "cell_type": "markdown",
   "metadata": {},
   "source": [
    "Analizaremos la proporción que representa cada barra con respecto al total y veremos la cantidad exacta de datos para cada valor presente."
   ]
  },
  {
   "cell_type": "code",
   "execution_count": 44,
   "metadata": {},
   "outputs": [
    {
     "data": {
      "text/plain": [
       "Participantes\n",
       "PEATON-PASAJEROS    105\n",
       "MOTO-AUTO            84\n",
       "PEATON-AUTO          78\n",
       "MOTO-CARGAS          76\n",
       "MOTO-PASAJEROS       50\n",
       "MOTO-OBJETO FIJO     39\n",
       "PEATON-CARGAS        38\n",
       "PEATON-MOTO          32\n",
       "AUTO-AUTO            32\n",
       "AUTO-OBJETO FIJO     28\n",
       "MOTO-MOTO            24\n",
       "MULTIPLE             17\n",
       "AUTO-CARGAS          15\n",
       "AUTO-PASAJEROS       10\n",
       "BICICLETA-CARGAS     10\n",
       "Name: count, dtype: int64"
      ]
     },
     "execution_count": 44,
     "metadata": {},
     "output_type": "execute_result"
    }
   ],
   "source": [
    "top_15_participantes"
   ]
  },
  {
   "cell_type": "markdown",
   "metadata": {},
   "source": [
    "La información proporcionada por el gráfico y el top 15 de valores, es la siguiente:\n",
    "\n",
    "* Se observa que las víctimas en los primeros 8 valores son de vehículos con un porte menor a un auto o sin vehículos, es decir, peatones y motos.\n",
    "* El tipo de participante con la mayor cantidad de incidentes es PEATON-PASAJEROS, con 105 siniestros, representando un 15% del total.\n",
    "* De estos 15 valores más altos, el que tiene la menor cantidad de siniestros (10) es el de BICICLETA-CARGAS.\n",
    "\n",
    "La elección de un barplot se basa en su disposición que favorece la visualización de etiquetas, mientras que el uso de diferentes colores simplifica la comparación de datos de manera efectiva."
   ]
  },
  {
   "cell_type": "markdown",
   "metadata": {},
   "source": [
    "### Análisis de ``Victima`` y ``Acusado``"
   ]
  },
  {
   "cell_type": "code",
   "execution_count": 45,
   "metadata": {},
   "outputs": [
    {
     "data": {
      "image/png": "[encoded data removed]",
      "text/plain": [
       "<Figure size 1200x600 with 2 Axes>"
      ]
     },
     "metadata": {},
     "output_type": "display_data"
    }
   ],
   "source": [
    "orden_victima = data_union['Victima'].value_counts().index\n",
    "orden_acusado = data_union['Acusado'].value_counts().index\n",
    "\n",
    "fig, axes = plt.subplots(1,2,figsize=(12,6),sharey=True)\n",
    "sns.countplot(data=data_union,x='Victima',ax=axes[0],palette='viridis',order=orden_victima)\n",
    "axes[0].set_xticklabels(axes[0].get_xticklabels(), rotation=45)\n",
    "axes[0].set_title('Cantidad por tipo de victima')\n",
    "axes[0].grid(axis='y',color='b')\n",
    "axes[0].set_ylabel('Cantidad')\n",
    "\n",
    "sns.countplot(data=data_union,x='Acusado',ax=axes[1],palette='inferno',order=orden_acusado)\n",
    "axes[1].set_xticklabels(axes[1].get_xticklabels(), rotation=45)\n",
    "axes[1].set_title('Cantidad por tipo de acusado')\n",
    "axes[1].grid(axis='y',color='b')\n",
    "axes[1].set_ylabel('Cantidad')\n",
    "plt.show()"
   ]
  },
  {
   "cell_type": "markdown",
   "metadata": {},
   "source": [
    "Analizaremos la proporción que representa cada barra con respecto al total y veremos la cantidad exacta de datos para cada valor presente en la columna ``Victima``. Para ello utilizaremos una función del módulo Herramientas."
   ]
  },
  {
   "cell_type": "code",
   "execution_count": 46,
   "metadata": {},
   "outputs": [
    {
     "name": "stdout",
     "output_type": "stream",
     "text": [
      "Los valores de Victima:\n",
      "MOTO           295\n",
      "PEATON         266\n",
      "AUTO            91\n",
      "BICICLETA       29\n",
      "No_data          8\n",
      "CARGAS           7\n",
      "PASAJEROS        5\n",
      "MOVIL            3\n",
      "OBJETO FIJO      2\n",
      "\n",
      "El porcentaje que representa cada valor:\n",
      "MOTO           41.78\n",
      "PEATON         37.68\n",
      "AUTO           12.89\n",
      "BICICLETA       4.11\n",
      "No_data         1.13\n",
      "CARGAS          0.99\n",
      "PASAJEROS       0.71\n",
      "MOVIL           0.42\n",
      "OBJETO FIJO     0.28\n"
     ]
    }
   ],
   "source": [
    "Herr.cantidad_porcentaje(data_union,'Victima')"
   ]
  },
  {
   "cell_type": "markdown",
   "metadata": {},
   "source": [
    "Analizaremos la proporción que representa cada barra con respecto al total y veremos la cantidad exacta de datos para cada valor presente en la columna ``Acusado``. Para ello utilizaremos una función del módulo Herramientas."
   ]
  },
  {
   "cell_type": "code",
   "execution_count": 47,
   "metadata": {},
   "outputs": [
    {
     "name": "stdout",
     "output_type": "stream",
     "text": [
      "Los valores de Acusado:\n",
      "AUTO           208\n",
      "PASAJEROS      178\n",
      "CARGAS         146\n",
      "OBJETO FIJO     66\n",
      "MOTO            57\n",
      "No_data         20\n",
      "MULTIPLE        17\n",
      "BICICLETA        7\n",
      "OTRO             6\n",
      "TREN             1\n",
      "\n",
      "El porcentaje que representa cada valor:\n",
      "AUTO           29.46\n",
      "PASAJEROS      25.21\n",
      "CARGAS         20.68\n",
      "OBJETO FIJO     9.35\n",
      "MOTO            8.07\n",
      "No_data         2.83\n",
      "MULTIPLE        2.41\n",
      "BICICLETA       0.99\n",
      "OTRO            0.85\n",
      "TREN            0.14\n"
     ]
    }
   ],
   "source": [
    "Herr.cantidad_porcentaje(data_union,'Acusado')"
   ]
  },
  {
   "cell_type": "markdown",
   "metadata": {},
   "source": [
    "La información proporcionada por los gráficos, junto con los porcentajes, es la siguiente (se hará énfasis en las víctimas, ya que nuestros datos se centran en los siniestros):\n",
    "\n",
    "* La primera observación es que hay valores de víctimas como PEATON y MOVIL, que no figuran en los acusados.\n",
    "\n",
    "* El mayor porcentaje de víctimas corresponde a las motos con un 41%; este dato es seguido por los peatones con un 38%. Existe una relación con la columna de acusados, dado que estos dos tipos de víctimas tienen un menor porte vehicular, mientras que el tipo de acusado con mayor cantidad son los autos, que tienen mayor porte.\n",
    "\n",
    "* Ambas columnas tienen valores vacíos clasificados como 'No_data', representando entre ambas menos del 4%.\n",
    "\n",
    "* La columna de acusados muestra una distribución más uniforme en comparación con las víctimas.\n",
    "\n",
    "Se utilizó un gráfico de tipo countplot doble, ya que este tipo de gráfico permite una comparación rápida entre las dos columnas que tienen una relación directa. Al compartir escala, nos facilita extraer conclusiones de manera rápida."
   ]
  },
  {
   "cell_type": "markdown",
   "metadata": {},
   "source": [
    "### Análisis de ``Rol``"
   ]
  },
  {
   "cell_type": "code",
   "execution_count": 48,
   "metadata": {},
   "outputs": [
    {
     "data": {
      "image/png": "[encoded data removed]",
      "text/plain": [
       "<Figure size 640x480 with 1 Axes>"
      ]
     },
     "metadata": {},
     "output_type": "display_data"
    }
   ],
   "source": [
    "orden_rol = data_union['Rol'].value_counts().index\n",
    "sns.countplot(data=data_union,x='Rol',hue='Rol',order=orden_rol)\n",
    "plt.ylabel('Cantidad')\n",
    "plt.xlabel('Rol',size=15)\n",
    "plt.title('Cantidad de victimas por rol')\n",
    "plt.xticks(rotation=45)\n",
    "plt.show()"
   ]
  },
  {
   "cell_type": "markdown",
   "metadata": {},
   "source": [
    "Analizaremos la proporción que representa cada barra con respecto al total y veremos la cantidad exacta de datos para cada valor presente. Para ello utilizaremos una función del módulo Herramientas."
   ]
  },
  {
   "cell_type": "code",
   "execution_count": 49,
   "metadata": {},
   "outputs": [
    {
     "name": "stdout",
     "output_type": "stream",
     "text": [
      "Los valores de Rol:\n",
      "CONDUCTOR               324\n",
      "PEATON                  265\n",
      "PASAJERO_ACOMPAÑANTE     79\n",
      "CICLISTA                 29\n",
      "No_data                   9\n",
      "\n",
      "El porcentaje que representa cada valor:\n",
      "CONDUCTOR               45.89\n",
      "PEATON                  37.54\n",
      "PASAJERO_ACOMPAÑANTE    11.19\n",
      "CICLISTA                 4.11\n",
      "No_data                  1.27\n"
     ]
    }
   ],
   "source": [
    "Herr.cantidad_porcentaje(data_union,'Rol')"
   ]
  },
  {
   "cell_type": "markdown",
   "metadata": {},
   "source": [
    "La información proporcionada por el gráfico, junto con los porcentajes, es la siguiente:\n",
    "\n",
    "* El 46% de los siniestros involucra a víctimas que ejercen el rol de conductor. Aquí se puede observar una relación con la columna de víctimas, donde la mayoría eran conductores de motos. Le sigue en proporción los peatones, representando un 38% del total, lo cual también tiene una relación directa con el hecho de que los peatones son el segundo grupo con mayor cantidad de víctimas.\n",
    "\n",
    "Siguiendo la lógica de gráficos anteriores, se seleccionó un countplot para visualizar la frecuencia de una variable categórica, facilitando el conteo de cuántas veces se nombra cada categoría."
   ]
  },
  {
   "cell_type": "markdown",
   "metadata": {},
   "source": [
    "### Análisis de ``Sexo``"
   ]
  },
  {
   "cell_type": "code",
   "execution_count": 50,
   "metadata": {},
   "outputs": [
    {
     "data": {
      "image/png": "[encoded data removed]",
      "text/plain": [
       "<Figure size 1000x400 with 1 Axes>"
      ]
     },
     "metadata": {},
     "output_type": "display_data"
    }
   ],
   "source": [
    "plt.figure(figsize=(10,4))\n",
    "sns.countplot(data=data_union,y='Sexo',hue='Sexo',palette='viridis')\n",
    "plt.xlabel('Cantidad')\n",
    "plt.title('Cantidad de victimas de cada sexo')\n",
    "plt.show()"
   ]
  },
  {
   "cell_type": "markdown",
   "metadata": {},
   "source": [
    "Analizaremos la proporción que representa cada barra con respecto al total y veremos la cantidad exacta de datos para cada valor presente. Para ello utilizaremos una función del módulo Herramientas."
   ]
  },
  {
   "cell_type": "code",
   "execution_count": 51,
   "metadata": {},
   "outputs": [
    {
     "name": "stdout",
     "output_type": "stream",
     "text": [
      "Los valores de Sexo:\n",
      "MASCULINO    538\n",
      "FEMENINO     166\n",
      "No_data        2\n",
      "\n",
      "El porcentaje que representa cada valor:\n",
      "MASCULINO    76.20\n",
      "FEMENINO     23.51\n",
      "No_data       0.28\n"
     ]
    }
   ],
   "source": [
    "Herr.cantidad_porcentaje(data_union,'Sexo')"
   ]
  },
  {
   "cell_type": "markdown",
   "metadata": {},
   "source": [
    "Dada la presencia de dos valores faltantes, se imputarán como masculinos, ya que es el valor promedio."
   ]
  },
  {
   "cell_type": "code",
   "execution_count": 52,
   "metadata": {},
   "outputs": [],
   "source": [
    "registros_sexo = data_union[data_union['Sexo'] == 'No_data'].index\n",
    "data_union['Sexo'] = data_union['Sexo'].replace('No_data','MASCULINO')"
   ]
  },
  {
   "cell_type": "markdown",
   "metadata": {},
   "source": [
    "La información proporcionada por el gráfico, junto con los porcentajes, es la siguiente:\n",
    "\n",
    "* El 76% de los fallecidos son de sexo masculino, esto demuestra un gran desbalance en los fallecidos en cuanto al genero dado que el sexo femenino representa un 23%,\n",
    "\n",
    "Siguiendo la lógica de gráficos anteriores, se seleccionó un countplot para visualizar la frecuencia de una variable categórica, facilitando el conteo de cuántas veces se nombra cada categoría."
   ]
  },
  {
   "cell_type": "markdown",
   "metadata": {},
   "source": [
    "### Análisis de ``Edad``"
   ]
  },
  {
   "cell_type": "code",
   "execution_count": 53,
   "metadata": {},
   "outputs": [
    {
     "data": {
      "image/png": "[encoded data removed]",
      "text/plain": [
       "<Figure size 500x500 with 1 Axes>"
      ]
     },
     "metadata": {},
     "output_type": "display_data"
    }
   ],
   "source": [
    "plt.figure(figsize=(5,5))\n",
    "sns.boxplot(data=data_union['Edad'])\n",
    "plt.title('Boxplot de Edad')\n",
    "plt.show()"
   ]
  },
  {
   "cell_type": "markdown",
   "metadata": {},
   "source": [
    "Analizaremos el top 20 de edades, dado que hay un total de 85 valores. Se decidió mostrar los 20 valores más altos."
   ]
  },
  {
   "cell_type": "code",
   "execution_count": 54,
   "metadata": {},
   "outputs": [
    {
     "data": {
      "text/plain": [
       "Edad\n",
       "42    56\n",
       "30    28\n",
       "23    24\n",
       "29    24\n",
       "27    20\n",
       "28    19\n",
       "21    17\n",
       "32    16\n",
       "24    16\n",
       "39    16\n",
       "20    16\n",
       "35    15\n",
       "60    15\n",
       "26    15\n",
       "36    14\n",
       "22    14\n",
       "41    13\n",
       "43    13\n",
       "25    13\n",
       "34    12\n",
       "Name: count, dtype: int64"
      ]
     },
     "execution_count": 54,
     "metadata": {},
     "output_type": "execute_result"
    }
   ],
   "source": [
    "contador_edades = data_union['Edad'].value_counts()\n",
    "top20_edades = contador_edades.head(20)\n",
    "top20_edades"
   ]
  },
  {
   "cell_type": "markdown",
   "metadata": {},
   "source": [
    "La información proporcionada por el gráfico boxplot es la siguiente:\n",
    "\n",
    "* No se presentan outliers en el promedio a través de los años. Aunque hay valores como 91 años, que teniendo en cuenta todos los años en conjunto, no se marcan como outliers. Es probable que si se realizara un análisis año por año de las edades, se encontrarían algunos outliers, pero este no es el objetivo de este proyecto.\n",
    "\n",
    "Se utilizó un boxplot, ya que es el mejor tipo de gráfico para este tipo de variables numéricas, facilitando la detección de valores fuera de rango y su identificación."
   ]
  },
  {
   "cell_type": "markdown",
   "metadata": {},
   "source": [
    "### Análisis de ``Fecha_fallecimiento``"
   ]
  },
  {
   "cell_type": "markdown",
   "metadata": {},
   "source": [
    "En esta columna no se realizará un gráfico, dado que tenemos muchas fechas diferentes. Se eliminará la columna, ya que nuestro objetivo es plantear los KPIs y se considera que esta columna no aporta valor."
   ]
  },
  {
   "cell_type": "markdown",
   "metadata": {},
   "source": [
    "Nuevamente revisamos la existencia de duplicados después de todas las transformaciones que ha experimentado el DataFrame 'data_union'."
   ]
  },
  {
   "cell_type": "code",
   "execution_count": 64,
   "metadata": {},
   "outputs": [
    {
     "data": {
      "text/plain": [
       "False    706\n",
       "Name: count, dtype: int64"
      ]
     },
     "execution_count": 64,
     "metadata": {},
     "output_type": "execute_result"
    }
   ],
   "source": [
    "data_union_duplicados = data_union.duplicated()\n",
    "data_union_duplicados.value_counts()"
   ]
  },
  {
   "cell_type": "markdown",
   "metadata": {},
   "source": [
    "No tenemos duplicados. Pasaremos a la creación de los DataFrames para los KPIs."
   ]
  },
  {
   "cell_type": "markdown",
   "metadata": {},
   "source": [
    "--------------------------------------------------------------------------------------------------------------------------"
   ]
  },
  {
   "cell_type": "markdown",
   "metadata": {},
   "source": [
    "# KPI's"
   ]
  },
  {
   "cell_type": "markdown",
   "metadata": {},
   "source": [
    "### KPI Nro.1"
   ]
  },
  {
   "cell_type": "markdown",
   "metadata": {},
   "source": [
    "El primer KPI planteado es el siguiente:\n",
    "\n",
    "Reducir en un 10% la tasa de homicidios en siniestros viales de los últimos seis meses, en CABA, en comparación con la tasa de homicidios en siniestros viales del semestre anterior.\n",
    "\n",
    "Definimos a la tasa de homicidios en siniestros viales como el número de víctimas fatales en accidentes de tránsito por cada 100,000 habitantes en un área geográfica durante un período de tiempo específico.  \n",
    " \n",
    "Su fórmula es: (Número de homicidios en siniestros viales / Población total) * 100,000"
   ]
  },
  {
   "cell_type": "markdown",
   "metadata": {},
   "source": [
    "## Carga de datos"
   ]
  },
  {
   "cell_type": "code",
   "execution_count": 56,
   "metadata": {},
   "outputs": [
    {
     "data": {
      "text/html": [
       "<div>\n",
       "<style scoped>\n",
       "    .dataframe tbody tr th:only-of-type {\n",
       "        vertical-align: middle;\n",
       "    }\n",
       "\n",
       "    .dataframe tbody tr th {\n",
       "        vertical-align: top;\n",
       "    }\n",
       "\n",
       "    .dataframe thead th {\n",
       "        text-align: right;\n",
       "    }\n",
       "</style>\n",
       "<table border=\"1\" class=\"dataframe\">\n",
       "  <thead>\n",
       "    <tr style=\"text-align: right;\">\n",
       "      <th></th>\n",
       "      <th>Anio</th>\n",
       "      <th>Poblacion_total</th>\n",
       "    </tr>\n",
       "  </thead>\n",
       "  <tbody>\n",
       "    <tr>\n",
       "      <th>0</th>\n",
       "      <td>2016</td>\n",
       "      <td>3059122</td>\n",
       "    </tr>\n",
       "    <tr>\n",
       "      <th>1</th>\n",
       "      <td>2017</td>\n",
       "      <td>3063728</td>\n",
       "    </tr>\n",
       "    <tr>\n",
       "      <th>2</th>\n",
       "      <td>2018</td>\n",
       "      <td>3068043</td>\n",
       "    </tr>\n",
       "    <tr>\n",
       "      <th>3</th>\n",
       "      <td>2019</td>\n",
       "      <td>3072029</td>\n",
       "    </tr>\n",
       "    <tr>\n",
       "      <th>4</th>\n",
       "      <td>2020</td>\n",
       "      <td>3075646</td>\n",
       "    </tr>\n",
       "    <tr>\n",
       "      <th>5</th>\n",
       "      <td>2021</td>\n",
       "      <td>3078836</td>\n",
       "    </tr>\n",
       "  </tbody>\n",
       "</table>\n",
       "</div>"
      ],
      "text/plain": [
       "   Anio  Poblacion_total\n",
       "0  2016          3059122\n",
       "1  2017          3063728\n",
       "2  2018          3068043\n",
       "3  2019          3072029\n",
       "4  2020          3075646\n",
       "5  2021          3078836"
      ]
     },
     "execution_count": 56,
     "metadata": {},
     "output_type": "execute_result"
    }
   ],
   "source": [
    "data_poblacion = pd.read_excel('Datasets/Poblacion.xls')\n",
    "data_poblacion"
   ]
  },
  {
   "cell_type": "markdown",
   "metadata": {},
   "source": [
    "Unificamos dataframes mediante la columna 'Anio' y agrupamos por 'Anio', 'Mes', 'Poblacion_total', sumando la cantidad de víctimas por ese año y mes."
   ]
  },
  {
   "cell_type": "code",
   "execution_count": 57,
   "metadata": {},
   "outputs": [
    {
     "data": {
      "text/html": [
       "<div>\n",
       "<style scoped>\n",
       "    .dataframe tbody tr th:only-of-type {\n",
       "        vertical-align: middle;\n",
       "    }\n",
       "\n",
       "    .dataframe tbody tr th {\n",
       "        vertical-align: top;\n",
       "    }\n",
       "\n",
       "    .dataframe thead th {\n",
       "        text-align: right;\n",
       "    }\n",
       "</style>\n",
       "<table border=\"1\" class=\"dataframe\">\n",
       "  <thead>\n",
       "    <tr style=\"text-align: right;\">\n",
       "      <th></th>\n",
       "      <th>Anio</th>\n",
       "      <th>Mes</th>\n",
       "      <th>Poblacion_total</th>\n",
       "      <th>Nro_victimas</th>\n",
       "    </tr>\n",
       "  </thead>\n",
       "  <tbody>\n",
       "    <tr>\n",
       "      <th>0</th>\n",
       "      <td>2016</td>\n",
       "      <td>Abril</td>\n",
       "      <td>3059122</td>\n",
       "      <td>10</td>\n",
       "    </tr>\n",
       "    <tr>\n",
       "      <th>1</th>\n",
       "      <td>2016</td>\n",
       "      <td>Agosto</td>\n",
       "      <td>3059122</td>\n",
       "      <td>13</td>\n",
       "    </tr>\n",
       "    <tr>\n",
       "      <th>2</th>\n",
       "      <td>2016</td>\n",
       "      <td>Diciembre</td>\n",
       "      <td>3059122</td>\n",
       "      <td>18</td>\n",
       "    </tr>\n",
       "    <tr>\n",
       "      <th>3</th>\n",
       "      <td>2016</td>\n",
       "      <td>Enero</td>\n",
       "      <td>3059122</td>\n",
       "      <td>8</td>\n",
       "    </tr>\n",
       "    <tr>\n",
       "      <th>4</th>\n",
       "      <td>2016</td>\n",
       "      <td>Febrero</td>\n",
       "      <td>3059122</td>\n",
       "      <td>12</td>\n",
       "    </tr>\n",
       "    <tr>\n",
       "      <th>...</th>\n",
       "      <td>...</td>\n",
       "      <td>...</td>\n",
       "      <td>...</td>\n",
       "      <td>...</td>\n",
       "    </tr>\n",
       "    <tr>\n",
       "      <th>67</th>\n",
       "      <td>2021</td>\n",
       "      <td>Marzo</td>\n",
       "      <td>3078836</td>\n",
       "      <td>6</td>\n",
       "    </tr>\n",
       "    <tr>\n",
       "      <th>68</th>\n",
       "      <td>2021</td>\n",
       "      <td>Mayo</td>\n",
       "      <td>3078836</td>\n",
       "      <td>12</td>\n",
       "    </tr>\n",
       "    <tr>\n",
       "      <th>69</th>\n",
       "      <td>2021</td>\n",
       "      <td>Noviembre</td>\n",
       "      <td>3078836</td>\n",
       "      <td>8</td>\n",
       "    </tr>\n",
       "    <tr>\n",
       "      <th>70</th>\n",
       "      <td>2021</td>\n",
       "      <td>Octubre</td>\n",
       "      <td>3078836</td>\n",
       "      <td>5</td>\n",
       "    </tr>\n",
       "    <tr>\n",
       "      <th>71</th>\n",
       "      <td>2021</td>\n",
       "      <td>Septiembre</td>\n",
       "      <td>3078836</td>\n",
       "      <td>4</td>\n",
       "    </tr>\n",
       "  </tbody>\n",
       "</table>\n",
       "<p>72 rows × 4 columns</p>\n",
       "</div>"
      ],
      "text/plain": [
       "    Anio         Mes  Poblacion_total  Nro_victimas\n",
       "0   2016       Abril          3059122            10\n",
       "1   2016      Agosto          3059122            13\n",
       "2   2016   Diciembre          3059122            18\n",
       "3   2016       Enero          3059122             8\n",
       "4   2016     Febrero          3059122            12\n",
       "..   ...         ...              ...           ...\n",
       "67  2021       Marzo          3078836             6\n",
       "68  2021        Mayo          3078836            12\n",
       "69  2021   Noviembre          3078836             8\n",
       "70  2021     Octubre          3078836             5\n",
       "71  2021  Septiembre          3078836             4\n",
       "\n",
       "[72 rows x 4 columns]"
      ]
     },
     "execution_count": 57,
     "metadata": {},
     "output_type": "execute_result"
    }
   ],
   "source": [
    "data_kpi = pd.merge(data_union,data_poblacion)\n",
    "data_kpi1 = data_kpi.groupby(by=['Anio','Mes','Poblacion_total',])['Nro_victimas'].sum().reset_index()\n",
    "data_kpi1 "
   ]
  },
  {
   "cell_type": "markdown",
   "metadata": {},
   "source": [
    "Para resumir aún más los datos, agruparemos por semestres."
   ]
  },
  {
   "cell_type": "code",
   "execution_count": 58,
   "metadata": {},
   "outputs": [
    {
     "data": {
      "text/html": [
       "<div>\n",
       "<style scoped>\n",
       "    .dataframe tbody tr th:only-of-type {\n",
       "        vertical-align: middle;\n",
       "    }\n",
       "\n",
       "    .dataframe tbody tr th {\n",
       "        vertical-align: top;\n",
       "    }\n",
       "\n",
       "    .dataframe thead th {\n",
       "        text-align: right;\n",
       "    }\n",
       "</style>\n",
       "<table border=\"1\" class=\"dataframe\">\n",
       "  <thead>\n",
       "    <tr style=\"text-align: right;\">\n",
       "      <th></th>\n",
       "      <th>Anio</th>\n",
       "      <th>Semestre</th>\n",
       "      <th>Poblacion_total</th>\n",
       "      <th>Nro_victimas</th>\n",
       "    </tr>\n",
       "  </thead>\n",
       "  <tbody>\n",
       "    <tr>\n",
       "      <th>0</th>\n",
       "      <td>2016</td>\n",
       "      <td>1</td>\n",
       "      <td>3059122</td>\n",
       "      <td>10</td>\n",
       "    </tr>\n",
       "    <tr>\n",
       "      <th>1</th>\n",
       "      <td>2016</td>\n",
       "      <td>2</td>\n",
       "      <td>3059122</td>\n",
       "      <td>13</td>\n",
       "    </tr>\n",
       "    <tr>\n",
       "      <th>2</th>\n",
       "      <td>2016</td>\n",
       "      <td>2</td>\n",
       "      <td>3059122</td>\n",
       "      <td>18</td>\n",
       "    </tr>\n",
       "    <tr>\n",
       "      <th>3</th>\n",
       "      <td>2016</td>\n",
       "      <td>1</td>\n",
       "      <td>3059122</td>\n",
       "      <td>8</td>\n",
       "    </tr>\n",
       "    <tr>\n",
       "      <th>4</th>\n",
       "      <td>2016</td>\n",
       "      <td>1</td>\n",
       "      <td>3059122</td>\n",
       "      <td>12</td>\n",
       "    </tr>\n",
       "    <tr>\n",
       "      <th>...</th>\n",
       "      <td>...</td>\n",
       "      <td>...</td>\n",
       "      <td>...</td>\n",
       "      <td>...</td>\n",
       "    </tr>\n",
       "    <tr>\n",
       "      <th>67</th>\n",
       "      <td>2021</td>\n",
       "      <td>1</td>\n",
       "      <td>3078836</td>\n",
       "      <td>6</td>\n",
       "    </tr>\n",
       "    <tr>\n",
       "      <th>68</th>\n",
       "      <td>2021</td>\n",
       "      <td>1</td>\n",
       "      <td>3078836</td>\n",
       "      <td>12</td>\n",
       "    </tr>\n",
       "    <tr>\n",
       "      <th>69</th>\n",
       "      <td>2021</td>\n",
       "      <td>2</td>\n",
       "      <td>3078836</td>\n",
       "      <td>8</td>\n",
       "    </tr>\n",
       "    <tr>\n",
       "      <th>70</th>\n",
       "      <td>2021</td>\n",
       "      <td>2</td>\n",
       "      <td>3078836</td>\n",
       "      <td>5</td>\n",
       "    </tr>\n",
       "    <tr>\n",
       "      <th>71</th>\n",
       "      <td>2021</td>\n",
       "      <td>2</td>\n",
       "      <td>3078836</td>\n",
       "      <td>4</td>\n",
       "    </tr>\n",
       "  </tbody>\n",
       "</table>\n",
       "<p>72 rows × 4 columns</p>\n",
       "</div>"
      ],
      "text/plain": [
       "    Anio  Semestre  Poblacion_total  Nro_victimas\n",
       "0   2016         1          3059122            10\n",
       "1   2016         2          3059122            13\n",
       "2   2016         2          3059122            18\n",
       "3   2016         1          3059122             8\n",
       "4   2016         1          3059122            12\n",
       "..   ...       ...              ...           ...\n",
       "67  2021         1          3078836             6\n",
       "68  2021         1          3078836            12\n",
       "69  2021         2          3078836             8\n",
       "70  2021         2          3078836             5\n",
       "71  2021         2          3078836             4\n",
       "\n",
       "[72 rows x 4 columns]"
      ]
     },
     "execution_count": 58,
     "metadata": {},
     "output_type": "execute_result"
    }
   ],
   "source": [
    "semestres =['Enero','Febrero','Marzo','Abril','Mayo','Junio']\n",
    "data_kpi1['Semestre'] = np.where(data_kpi1['Mes'].isin(semestres),1,2)\n",
    "data_kpi1 = data_kpi1.drop(columns='Mes')\n",
    "data_kpi1.insert(1, 'Semestre', data_kpi1.pop('Semestre'))\n",
    "data_kpi1"
   ]
  },
  {
   "cell_type": "markdown",
   "metadata": {},
   "source": [
    "Se agrupó nuevamente, pero esta vez por 'Anio', 'Semestre', 'Poblacion_total', y se sumaron las víctimas por cada semestre en los años que trabajamos. Además, se crearon tres columnas nuevas: 'Tasa', que representa las víctimas por cada 100,000 habitantes; 'Tasa_anterior', que representa la tasa del semestre anterior; y 'Diferencia', que es la resta de estas dos columnas anteriores."
   ]
  },
  {
   "cell_type": "code",
   "execution_count": 59,
   "metadata": {},
   "outputs": [
    {
     "data": {
      "text/html": [
       "<div>\n",
       "<style scoped>\n",
       "    .dataframe tbody tr th:only-of-type {\n",
       "        vertical-align: middle;\n",
       "    }\n",
       "\n",
       "    .dataframe tbody tr th {\n",
       "        vertical-align: top;\n",
       "    }\n",
       "\n",
       "    .dataframe thead th {\n",
       "        text-align: right;\n",
       "    }\n",
       "</style>\n",
       "<table border=\"1\" class=\"dataframe\">\n",
       "  <thead>\n",
       "    <tr style=\"text-align: right;\">\n",
       "      <th></th>\n",
       "      <th>Anio</th>\n",
       "      <th>Semestre</th>\n",
       "      <th>Poblacion_total</th>\n",
       "      <th>Nro_victimas</th>\n",
       "      <th>Tasa</th>\n",
       "      <th>Tasa_anterior</th>\n",
       "      <th>Diferencia</th>\n",
       "    </tr>\n",
       "  </thead>\n",
       "  <tbody>\n",
       "    <tr>\n",
       "      <th>0</th>\n",
       "      <td>2016</td>\n",
       "      <td>1</td>\n",
       "      <td>3059122</td>\n",
       "      <td>66</td>\n",
       "      <td>2.16</td>\n",
       "      <td>0.00</td>\n",
       "      <td>0.00</td>\n",
       "    </tr>\n",
       "    <tr>\n",
       "      <th>1</th>\n",
       "      <td>2016</td>\n",
       "      <td>2</td>\n",
       "      <td>3059122</td>\n",
       "      <td>80</td>\n",
       "      <td>2.62</td>\n",
       "      <td>2.16</td>\n",
       "      <td>0.46</td>\n",
       "    </tr>\n",
       "    <tr>\n",
       "      <th>2</th>\n",
       "      <td>2017</td>\n",
       "      <td>1</td>\n",
       "      <td>3063728</td>\n",
       "      <td>76</td>\n",
       "      <td>2.48</td>\n",
       "      <td>2.62</td>\n",
       "      <td>-0.14</td>\n",
       "    </tr>\n",
       "    <tr>\n",
       "      <th>3</th>\n",
       "      <td>2017</td>\n",
       "      <td>2</td>\n",
       "      <td>3063728</td>\n",
       "      <td>79</td>\n",
       "      <td>2.58</td>\n",
       "      <td>2.48</td>\n",
       "      <td>0.10</td>\n",
       "    </tr>\n",
       "    <tr>\n",
       "      <th>4</th>\n",
       "      <td>2018</td>\n",
       "      <td>1</td>\n",
       "      <td>3068043</td>\n",
       "      <td>75</td>\n",
       "      <td>2.44</td>\n",
       "      <td>2.58</td>\n",
       "      <td>-0.14</td>\n",
       "    </tr>\n",
       "    <tr>\n",
       "      <th>5</th>\n",
       "      <td>2018</td>\n",
       "      <td>2</td>\n",
       "      <td>3068043</td>\n",
       "      <td>85</td>\n",
       "      <td>2.77</td>\n",
       "      <td>2.44</td>\n",
       "      <td>0.33</td>\n",
       "    </tr>\n",
       "    <tr>\n",
       "      <th>6</th>\n",
       "      <td>2019</td>\n",
       "      <td>1</td>\n",
       "      <td>3072029</td>\n",
       "      <td>59</td>\n",
       "      <td>1.92</td>\n",
       "      <td>2.77</td>\n",
       "      <td>-0.85</td>\n",
       "    </tr>\n",
       "    <tr>\n",
       "      <th>7</th>\n",
       "      <td>2019</td>\n",
       "      <td>2</td>\n",
       "      <td>3072029</td>\n",
       "      <td>46</td>\n",
       "      <td>1.50</td>\n",
       "      <td>1.92</td>\n",
       "      <td>-0.42</td>\n",
       "    </tr>\n",
       "    <tr>\n",
       "      <th>8</th>\n",
       "      <td>2020</td>\n",
       "      <td>1</td>\n",
       "      <td>3075646</td>\n",
       "      <td>30</td>\n",
       "      <td>0.98</td>\n",
       "      <td>1.50</td>\n",
       "      <td>-0.52</td>\n",
       "    </tr>\n",
       "    <tr>\n",
       "      <th>9</th>\n",
       "      <td>2020</td>\n",
       "      <td>2</td>\n",
       "      <td>3075646</td>\n",
       "      <td>56</td>\n",
       "      <td>1.82</td>\n",
       "      <td>0.98</td>\n",
       "      <td>0.84</td>\n",
       "    </tr>\n",
       "    <tr>\n",
       "      <th>10</th>\n",
       "      <td>2021</td>\n",
       "      <td>1</td>\n",
       "      <td>3078836</td>\n",
       "      <td>54</td>\n",
       "      <td>1.75</td>\n",
       "      <td>1.82</td>\n",
       "      <td>-0.07</td>\n",
       "    </tr>\n",
       "    <tr>\n",
       "      <th>11</th>\n",
       "      <td>2021</td>\n",
       "      <td>2</td>\n",
       "      <td>3078836</td>\n",
       "      <td>42</td>\n",
       "      <td>1.36</td>\n",
       "      <td>1.75</td>\n",
       "      <td>-0.39</td>\n",
       "    </tr>\n",
       "  </tbody>\n",
       "</table>\n",
       "</div>"
      ],
      "text/plain": [
       "    Anio  Semestre  Poblacion_total  Nro_victimas  Tasa  Tasa_anterior  \\\n",
       "0   2016         1          3059122            66  2.16           0.00   \n",
       "1   2016         2          3059122            80  2.62           2.16   \n",
       "2   2017         1          3063728            76  2.48           2.62   \n",
       "3   2017         2          3063728            79  2.58           2.48   \n",
       "4   2018         1          3068043            75  2.44           2.58   \n",
       "5   2018         2          3068043            85  2.77           2.44   \n",
       "6   2019         1          3072029            59  1.92           2.77   \n",
       "7   2019         2          3072029            46  1.50           1.92   \n",
       "8   2020         1          3075646            30  0.98           1.50   \n",
       "9   2020         2          3075646            56  1.82           0.98   \n",
       "10  2021         1          3078836            54  1.75           1.82   \n",
       "11  2021         2          3078836            42  1.36           1.75   \n",
       "\n",
       "    Diferencia  \n",
       "0         0.00  \n",
       "1         0.46  \n",
       "2        -0.14  \n",
       "3         0.10  \n",
       "4        -0.14  \n",
       "5         0.33  \n",
       "6        -0.85  \n",
       "7        -0.42  \n",
       "8        -0.52  \n",
       "9         0.84  \n",
       "10       -0.07  \n",
       "11       -0.39  "
      ]
     },
     "execution_count": 59,
     "metadata": {},
     "output_type": "execute_result"
    }
   ],
   "source": [
    "data_kpi1 = data_kpi1.groupby(by=['Anio','Semestre','Poblacion_total',])['Nro_victimas'].sum().reset_index()\n",
    "data_kpi1['Tasa'] = round((data_kpi1['Nro_victimas'] / data_kpi1['Poblacion_total'])*100000,2)\n",
    "data_kpi1['Tasa_anterior'] = data_kpi1['Tasa'].shift(periods=1,fill_value=0)\n",
    "data_kpi1['Diferencia'] = round(data_kpi1['Tasa'] - data_kpi1['Tasa_anterior'],2)\n",
    "data_kpi1.loc[data_kpi1.index[0], 'Diferencia'] = 0\n",
    "data_kpi1"
   ]
  },
  {
   "cell_type": "markdown",
   "metadata": {},
   "source": [
    "### KPI Nro.2"
   ]
  },
  {
   "cell_type": "markdown",
   "metadata": {},
   "source": [
    "Reducir en un 7% la cantidad de accidentes mortales de motociclistas en el último año, en CABA, respecto al año anterior.\n",
    "\n",
    "Definimos a la cantidad de accidentes mortales de motociclistas en siniestros viales como el número absoluto de accidentes fatales en los que estuvieron involucradas víctimas que viajaban en moto en un determinado periodo temporal.  \n",
    "\n",
    "Su fórmula para medir la evolución de los accidentes mortales con víctimas en moto es: (Número de accidentes mortales con víctimas en moto en el año anterior - Número de accidentes mortales con víctimas en moto en el año actual) / (Número de accidentes mortales con víctimas en moto en el año anterior) * 100"
   ]
  },
  {
   "cell_type": "markdown",
   "metadata": {},
   "source": [
    "Unificamos los datos de población con las víctimas solo de motos, los agrupamos por 'Anio', 'Poblacion_total' y sumamos la cantidad de víctimas. Además, creamos dos columnas nuevas: 'Nro_victimas_anterior', que representa las víctimas del año anterior; y 'Evolucion', que representa el cambio porcentual en el número de accidentes mortales con víctimas en motocicletas entre el año anterior y el año actual."
   ]
  },
  {
   "cell_type": "code",
   "execution_count": 60,
   "metadata": {},
   "outputs": [
    {
     "data": {
      "text/html": [
       "<div>\n",
       "<style scoped>\n",
       "    .dataframe tbody tr th:only-of-type {\n",
       "        vertical-align: middle;\n",
       "    }\n",
       "\n",
       "    .dataframe tbody tr th {\n",
       "        vertical-align: top;\n",
       "    }\n",
       "\n",
       "    .dataframe thead th {\n",
       "        text-align: right;\n",
       "    }\n",
       "</style>\n",
       "<table border=\"1\" class=\"dataframe\">\n",
       "  <thead>\n",
       "    <tr style=\"text-align: right;\">\n",
       "      <th></th>\n",
       "      <th>Anio</th>\n",
       "      <th>Poblacion_total</th>\n",
       "      <th>Nro_victimas</th>\n",
       "      <th>Nro_victimas_anterior</th>\n",
       "      <th>Evolucion</th>\n",
       "    </tr>\n",
       "  </thead>\n",
       "  <tbody>\n",
       "    <tr>\n",
       "      <th>0</th>\n",
       "      <td>2016</td>\n",
       "      <td>3059122</td>\n",
       "      <td>65</td>\n",
       "      <td>0</td>\n",
       "      <td>0.00</td>\n",
       "    </tr>\n",
       "    <tr>\n",
       "      <th>1</th>\n",
       "      <td>2017</td>\n",
       "      <td>3063728</td>\n",
       "      <td>58</td>\n",
       "      <td>65</td>\n",
       "      <td>10.77</td>\n",
       "    </tr>\n",
       "    <tr>\n",
       "      <th>2</th>\n",
       "      <td>2018</td>\n",
       "      <td>3068043</td>\n",
       "      <td>61</td>\n",
       "      <td>58</td>\n",
       "      <td>-5.17</td>\n",
       "    </tr>\n",
       "    <tr>\n",
       "      <th>3</th>\n",
       "      <td>2019</td>\n",
       "      <td>3072029</td>\n",
       "      <td>49</td>\n",
       "      <td>61</td>\n",
       "      <td>19.67</td>\n",
       "    </tr>\n",
       "    <tr>\n",
       "      <th>4</th>\n",
       "      <td>2020</td>\n",
       "      <td>3075646</td>\n",
       "      <td>29</td>\n",
       "      <td>49</td>\n",
       "      <td>40.82</td>\n",
       "    </tr>\n",
       "    <tr>\n",
       "      <th>5</th>\n",
       "      <td>2021</td>\n",
       "      <td>3078836</td>\n",
       "      <td>45</td>\n",
       "      <td>29</td>\n",
       "      <td>-55.17</td>\n",
       "    </tr>\n",
       "  </tbody>\n",
       "</table>\n",
       "</div>"
      ],
      "text/plain": [
       "   Anio  Poblacion_total  Nro_victimas  Nro_victimas_anterior  Evolucion\n",
       "0  2016          3059122            65                      0       0.00\n",
       "1  2017          3063728            58                     65      10.77\n",
       "2  2018          3068043            61                     58      -5.17\n",
       "3  2019          3072029            49                     61      19.67\n",
       "4  2020          3075646            29                     49      40.82\n",
       "5  2021          3078836            45                     29     -55.17"
      ]
     },
     "execution_count": 60,
     "metadata": {},
     "output_type": "execute_result"
    }
   ],
   "source": [
    "data_motos = pd.merge(data_poblacion,data_union)\n",
    "data_motos1 = data_motos[data_motos['Victima'] == 'MOTO'] \n",
    "data_kpi2 = data_motos1.groupby(by=['Anio','Poblacion_total'])['Nro_victimas'].sum().reset_index()\n",
    "data_kpi2['Nro_victimas_anterior'] = data_kpi2['Nro_victimas'].shift(periods=1,fill_value=0)\n",
    "data_kpi2['Evolucion'] = round ((data_kpi2['Nro_victimas_anterior'] - data_kpi2['Nro_victimas']) / (data_kpi2['Nro_victimas_anterior'])*100,2)\n",
    "data_kpi2.loc[data_kpi2.index[0], 'Evolucion'] = 0\n",
    "data_kpi2 "
   ]
  },
  {
   "cell_type": "markdown",
   "metadata": {},
   "source": [
    "### Exportación de datos"
   ]
  },
  {
   "cell_type": "code",
   "execution_count": 61,
   "metadata": {},
   "outputs": [
    {
     "name": "stdout",
     "output_type": "stream",
     "text": [
      "El archivo se exportó con éxito\n",
      "El archivo se exportó con éxito\n",
      "El archivo se exportó con éxito\n"
     ]
    }
   ],
   "source": [
    "Herr.export_data_csv('Datasets/data_kpi1.csv',data_kpi1)\n",
    "Herr.export_data_csv('Datasets/data_kpi2.csv',data_kpi2)\n",
    "Herr.export_data_csv('Datasets/data_union.csv',data_union)"
   ]
  },
  {
   "cell_type": "markdown",
   "metadata": {},
   "source": [
    "Este marca el fin del proceso exploratorio de datos. Se identificaron diversas relaciones entre las variables que añadieron valor al análisis. Se incluyó la presentación de un mapa para una mejor representación y utilización de herramientas. En conclusión, se intentó diversificar el tipo de gráficos según las variables presentes; a grandes rasgos, se aconseja revisar las calles con cruces, ya que representan la mayoría de los siniestros."
   ]
  }
 ],
 "metadata": {
  "kernelspec": {
   "display_name": "Python 3",
   "language": "python",
   "name": "python3"
  },
  "language_info": {
   "codemirror_mode": {
    "name": "ipython",
    "version": 3
   },
   "file_extension": ".py",
   "mimetype": "text/x-python",
   "name": "python",
   "nbconvert_exporter": "python",
   "pygments_lexer": "ipython3",
   "version": "3.11.4"
  }
 },
 "nbformat": 4,
 "nbformat_minor": 2
}
