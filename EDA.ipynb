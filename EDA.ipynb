{
 "cells": [
  {
   "cell_type": "markdown",
   "metadata": {},
   "source": [
    "# Análisis Exploratorio de Datos (EDA)"
   ]
  },
  {
   "cell_type": "markdown",
   "metadata": {},
   "source": [
    "En este notebook se realizarán gráficos para hacer un mejor análisis de cada variable y además haremos una comparativa entre ellos para ver valores fuera de rangos, representación en porcentajes sobre el total de una columna, entre otros valores."
   ]
  },
  {
   "cell_type": "markdown",
   "metadata": {},
   "source": [
    "### Importamos librerías"
   ]
  },
  {
   "cell_type": "markdown",
   "metadata": {},
   "source": [
    "Estas librerías nos permiten manipular, analizar y visualizar los datos."
   ]
  },
  {
   "cell_type": "code",
   "execution_count": 1,
   "metadata": {},
   "outputs": [],
   "source": [
    "import pandas as pd\n",
    "import Herramientas as Herr\n",
    "import numpy as np\n",
    "import seaborn as sns\n",
    "import matplotlib.pyplot as plt\n",
    "import warnings\n",
    "warnings.filterwarnings('ignore')"
   ]
  },
  {
   "cell_type": "markdown",
   "metadata": {},
   "source": [
    "### Carga de datos"
   ]
  },
  {
   "cell_type": "code",
   "execution_count": 32,
   "metadata": {},
   "outputs": [
    {
     "data": {
      "text/html": [
       "<div>\n",
       "<style scoped>\n",
       "    .dataframe tbody tr th:only-of-type {\n",
       "        vertical-align: middle;\n",
       "    }\n",
       "\n",
       "    .dataframe tbody tr th {\n",
       "        vertical-align: top;\n",
       "    }\n",
       "\n",
       "    .dataframe thead th {\n",
       "        text-align: right;\n",
       "    }\n",
       "</style>\n",
       "<table border=\"1\" class=\"dataframe\">\n",
       "  <thead>\n",
       "    <tr style=\"text-align: right;\">\n",
       "      <th></th>\n",
       "      <th>Id_hecho</th>\n",
       "      <th>Nro_victimas</th>\n",
       "      <th>Anio</th>\n",
       "      <th>Mes</th>\n",
       "      <th>Dia</th>\n",
       "      <th>Hora</th>\n",
       "      <th>Lugar_hecho</th>\n",
       "      <th>Tipo_calle</th>\n",
       "      <th>Calle</th>\n",
       "      <th>Altura</th>\n",
       "      <th>Cruce</th>\n",
       "      <th>Direccion_normalizada</th>\n",
       "      <th>Comuna</th>\n",
       "      <th>Xy_plana</th>\n",
       "      <th>Long_x</th>\n",
       "      <th>Lat_y</th>\n",
       "      <th>Participantes</th>\n",
       "      <th>Victima</th>\n",
       "      <th>Acusado</th>\n",
       "      <th>Rol</th>\n",
       "      <th>Sexo</th>\n",
       "      <th>Edad</th>\n",
       "      <th>Fecha_fallecimiento</th>\n",
       "    </tr>\n",
       "  </thead>\n",
       "  <tbody>\n",
       "    <tr>\n",
       "      <th>0</th>\n",
       "      <td>2016-0001</td>\n",
       "      <td>1</td>\n",
       "      <td>2016</td>\n",
       "      <td>Enero</td>\n",
       "      <td>1</td>\n",
       "      <td>4</td>\n",
       "      <td>AV PIEDRA BUENA Y AV FERNANDEZ DE LA CRUZ</td>\n",
       "      <td>AVENIDA</td>\n",
       "      <td>PIEDRA BUENA AV.</td>\n",
       "      <td>NaN</td>\n",
       "      <td>FERNANDEZ DE LA CRUZ, F., GRAL. AV.</td>\n",
       "      <td>PIEDRA BUENA AV. y FERNANDEZ DE LA CRUZ, F., G...</td>\n",
       "      <td>8</td>\n",
       "      <td>Point (98896.78238426 93532.43437792)</td>\n",
       "      <td>-58.47533969</td>\n",
       "      <td>-34.68757022</td>\n",
       "      <td>MOTO-AUTO</td>\n",
       "      <td>MOTO</td>\n",
       "      <td>AUTO</td>\n",
       "      <td>CONDUCTOR</td>\n",
       "      <td>MASCULINO</td>\n",
       "      <td>19</td>\n",
       "      <td>2016-01-01</td>\n",
       "    </tr>\n",
       "    <tr>\n",
       "      <th>1</th>\n",
       "      <td>2016-0002</td>\n",
       "      <td>1</td>\n",
       "      <td>2016</td>\n",
       "      <td>Enero</td>\n",
       "      <td>2</td>\n",
       "      <td>1</td>\n",
       "      <td>AV GRAL PAZ  Y AV DE LOS CORRALES</td>\n",
       "      <td>AUTOPISTA</td>\n",
       "      <td>PAZ, GRAL. AV.</td>\n",
       "      <td>NaN</td>\n",
       "      <td>DE LOS CORRALES AV.</td>\n",
       "      <td>PAZ, GRAL. AV. y DE LOS CORRALES AV.</td>\n",
       "      <td>9</td>\n",
       "      <td>Point (95832.05571093 95505.41641999)</td>\n",
       "      <td>-58.50877521</td>\n",
       "      <td>-34.66977709</td>\n",
       "      <td>AUTO-PASAJEROS</td>\n",
       "      <td>AUTO</td>\n",
       "      <td>PASAJEROS</td>\n",
       "      <td>CONDUCTOR</td>\n",
       "      <td>MASCULINO</td>\n",
       "      <td>70</td>\n",
       "      <td>2016-01-02</td>\n",
       "    </tr>\n",
       "    <tr>\n",
       "      <th>2</th>\n",
       "      <td>2016-0003</td>\n",
       "      <td>1</td>\n",
       "      <td>2016</td>\n",
       "      <td>Enero</td>\n",
       "      <td>3</td>\n",
       "      <td>7</td>\n",
       "      <td>AV ENTRE RIOS 2034</td>\n",
       "      <td>AVENIDA</td>\n",
       "      <td>ENTRE RIOS AV.</td>\n",
       "      <td>2034.0</td>\n",
       "      <td>No_data</td>\n",
       "      <td>ENTRE RIOS AV. 2034</td>\n",
       "      <td>1</td>\n",
       "      <td>Point (106684.29090040 99706.57687843)</td>\n",
       "      <td>-58.39040293</td>\n",
       "      <td>-34.63189362</td>\n",
       "      <td>MOTO-AUTO</td>\n",
       "      <td>MOTO</td>\n",
       "      <td>AUTO</td>\n",
       "      <td>CONDUCTOR</td>\n",
       "      <td>MASCULINO</td>\n",
       "      <td>30</td>\n",
       "      <td>2016-01-03</td>\n",
       "    </tr>\n",
       "    <tr>\n",
       "      <th>3</th>\n",
       "      <td>2016-0004</td>\n",
       "      <td>1</td>\n",
       "      <td>2016</td>\n",
       "      <td>Enero</td>\n",
       "      <td>10</td>\n",
       "      <td>0</td>\n",
       "      <td>AV LARRAZABAL Y GRAL VILLEGAS CONRADO</td>\n",
       "      <td>AVENIDA</td>\n",
       "      <td>LARRAZABAL AV.</td>\n",
       "      <td>NaN</td>\n",
       "      <td>VILLEGAS, CONRADO, GRAL.</td>\n",
       "      <td>LARRAZABAL AV. y VILLEGAS, CONRADO, GRAL.</td>\n",
       "      <td>8</td>\n",
       "      <td>Point (99840.65224780 94269.16534422)</td>\n",
       "      <td>-58.46503904</td>\n",
       "      <td>-34.68092974</td>\n",
       "      <td>MOTO-SD</td>\n",
       "      <td>MOTO</td>\n",
       "      <td>No_data</td>\n",
       "      <td>CONDUCTOR</td>\n",
       "      <td>MASCULINO</td>\n",
       "      <td>18</td>\n",
       "      <td>2000-01-01</td>\n",
       "    </tr>\n",
       "    <tr>\n",
       "      <th>4</th>\n",
       "      <td>2016-0005</td>\n",
       "      <td>1</td>\n",
       "      <td>2016</td>\n",
       "      <td>Enero</td>\n",
       "      <td>21</td>\n",
       "      <td>5</td>\n",
       "      <td>AV SAN JUAN Y PRESIDENTE LUIS SAENZ PEÑA</td>\n",
       "      <td>AVENIDA</td>\n",
       "      <td>SAN JUAN AV.</td>\n",
       "      <td>NaN</td>\n",
       "      <td>SAENZ PE?A, LUIS, PRES.</td>\n",
       "      <td>SAN JUAN AV. y SAENZ PEÃ‘A, LUIS, PRES.</td>\n",
       "      <td>1</td>\n",
       "      <td>Point (106980.32827929 100752.16915795)</td>\n",
       "      <td>-58.38718297</td>\n",
       "      <td>-34.62246630</td>\n",
       "      <td>MOTO-PASAJEROS</td>\n",
       "      <td>MOTO</td>\n",
       "      <td>PASAJEROS</td>\n",
       "      <td>CONDUCTOR</td>\n",
       "      <td>MASCULINO</td>\n",
       "      <td>29</td>\n",
       "      <td>2016-02-01</td>\n",
       "    </tr>\n",
       "    <tr>\n",
       "      <th>5</th>\n",
       "      <td>2016-0008</td>\n",
       "      <td>1</td>\n",
       "      <td>2016</td>\n",
       "      <td>Enero</td>\n",
       "      <td>24</td>\n",
       "      <td>18</td>\n",
       "      <td>AV 27 DE FEBRERO Y AV ESCALADA</td>\n",
       "      <td>AVENIDA</td>\n",
       "      <td>27 DE FEBRERO AV.</td>\n",
       "      <td>NaN</td>\n",
       "      <td>ESCALADA AV.</td>\n",
       "      <td>27 DE FEBRERO AV. y ESCALADA AV.</td>\n",
       "      <td>8</td>\n",
       "      <td>Point (101721.59002217 93844.25656649)</td>\n",
       "      <td>-58.44451316</td>\n",
       "      <td>-34.68475866</td>\n",
       "      <td>MOTO-OBJETO FIJO</td>\n",
       "      <td>MOTO</td>\n",
       "      <td>OBJETO FIJO</td>\n",
       "      <td>CONDUCTOR</td>\n",
       "      <td>MASCULINO</td>\n",
       "      <td>30</td>\n",
       "      <td>2016-01-24</td>\n",
       "    </tr>\n",
       "  </tbody>\n",
       "</table>\n",
       "</div>"
      ],
      "text/plain": [
       "    Id_hecho  Nro_victimas  Anio    Mes  Dia  Hora  \\\n",
       "0  2016-0001             1  2016  Enero    1     4   \n",
       "1  2016-0002             1  2016  Enero    2     1   \n",
       "2  2016-0003             1  2016  Enero    3     7   \n",
       "3  2016-0004             1  2016  Enero   10     0   \n",
       "4  2016-0005             1  2016  Enero   21     5   \n",
       "5  2016-0008             1  2016  Enero   24    18   \n",
       "\n",
       "                                 Lugar_hecho Tipo_calle              Calle  \\\n",
       "0  AV PIEDRA BUENA Y AV FERNANDEZ DE LA CRUZ    AVENIDA   PIEDRA BUENA AV.   \n",
       "1          AV GRAL PAZ  Y AV DE LOS CORRALES  AUTOPISTA     PAZ, GRAL. AV.   \n",
       "2                         AV ENTRE RIOS 2034    AVENIDA     ENTRE RIOS AV.   \n",
       "3      AV LARRAZABAL Y GRAL VILLEGAS CONRADO    AVENIDA     LARRAZABAL AV.   \n",
       "4  AV SAN JUAN Y PRESIDENTE LUIS SAENZ PEÑA     AVENIDA       SAN JUAN AV.   \n",
       "5             AV 27 DE FEBRERO Y AV ESCALADA    AVENIDA  27 DE FEBRERO AV.   \n",
       "\n",
       "   Altura                                Cruce  \\\n",
       "0     NaN  FERNANDEZ DE LA CRUZ, F., GRAL. AV.   \n",
       "1     NaN                  DE LOS CORRALES AV.   \n",
       "2  2034.0                              No_data   \n",
       "3     NaN             VILLEGAS, CONRADO, GRAL.   \n",
       "4     NaN              SAENZ PE?A, LUIS, PRES.   \n",
       "5     NaN                         ESCALADA AV.   \n",
       "\n",
       "                               Direccion_normalizada  Comuna  \\\n",
       "0  PIEDRA BUENA AV. y FERNANDEZ DE LA CRUZ, F., G...       8   \n",
       "1               PAZ, GRAL. AV. y DE LOS CORRALES AV.       9   \n",
       "2                                ENTRE RIOS AV. 2034       1   \n",
       "3          LARRAZABAL AV. y VILLEGAS, CONRADO, GRAL.       8   \n",
       "4            SAN JUAN AV. y SAENZ PEÃ‘A, LUIS, PRES.       1   \n",
       "5                   27 DE FEBRERO AV. y ESCALADA AV.       8   \n",
       "\n",
       "                                  Xy_plana        Long_x         Lat_y  \\\n",
       "0    Point (98896.78238426 93532.43437792)  -58.47533969  -34.68757022   \n",
       "1    Point (95832.05571093 95505.41641999)  -58.50877521  -34.66977709   \n",
       "2   Point (106684.29090040 99706.57687843)  -58.39040293  -34.63189362   \n",
       "3    Point (99840.65224780 94269.16534422)  -58.46503904  -34.68092974   \n",
       "4  Point (106980.32827929 100752.16915795)  -58.38718297  -34.62246630   \n",
       "5   Point (101721.59002217 93844.25656649)  -58.44451316  -34.68475866   \n",
       "\n",
       "      Participantes Victima      Acusado        Rol       Sexo  Edad  \\\n",
       "0         MOTO-AUTO    MOTO         AUTO  CONDUCTOR  MASCULINO    19   \n",
       "1    AUTO-PASAJEROS    AUTO    PASAJEROS  CONDUCTOR  MASCULINO    70   \n",
       "2         MOTO-AUTO    MOTO         AUTO  CONDUCTOR  MASCULINO    30   \n",
       "3           MOTO-SD    MOTO      No_data  CONDUCTOR  MASCULINO    18   \n",
       "4    MOTO-PASAJEROS    MOTO    PASAJEROS  CONDUCTOR  MASCULINO    29   \n",
       "5  MOTO-OBJETO FIJO    MOTO  OBJETO FIJO  CONDUCTOR  MASCULINO    30   \n",
       "\n",
       "  Fecha_fallecimiento  \n",
       "0          2016-01-01  \n",
       "1          2016-01-02  \n",
       "2          2016-01-03  \n",
       "3          2000-01-01  \n",
       "4          2016-02-01  \n",
       "5          2016-01-24  "
      ]
     },
     "execution_count": 32,
     "metadata": {},
     "output_type": "execute_result"
    }
   ],
   "source": [
    "pd.set_option('display.max_columns', None)\n",
    "data_union = pd.read_csv('Datasets/homicidios-victimas.csv')\n",
    "data_union.head(6)"
   ]
  },
  {
   "cell_type": "markdown",
   "metadata": {},
   "source": [
    "Realizaremos la revisión del DataFrame con nuestro modulo Herramientas."
   ]
  },
  {
   "cell_type": "code",
   "execution_count": 3,
   "metadata": {},
   "outputs": [
    {
     "data": {
      "text/html": [
       "<div>\n",
       "<style scoped>\n",
       "    .dataframe tbody tr th:only-of-type {\n",
       "        vertical-align: middle;\n",
       "    }\n",
       "\n",
       "    .dataframe tbody tr th {\n",
       "        vertical-align: top;\n",
       "    }\n",
       "\n",
       "    .dataframe thead th {\n",
       "        text-align: right;\n",
       "    }\n",
       "</style>\n",
       "<table border=\"1\" class=\"dataframe\">\n",
       "  <thead>\n",
       "    <tr style=\"text-align: right;\">\n",
       "      <th></th>\n",
       "      <th>Nombre</th>\n",
       "      <th>Tipos de Datos Únicos</th>\n",
       "      <th>% de Valores No Nulos</th>\n",
       "      <th>% de Valores Nulos</th>\n",
       "      <th>Cantidad de Valores Nulos</th>\n",
       "    </tr>\n",
       "  </thead>\n",
       "  <tbody>\n",
       "    <tr>\n",
       "      <th>0</th>\n",
       "      <td>Id_hecho</td>\n",
       "      <td>[&lt;class 'str'&gt;]</td>\n",
       "      <td>100.00</td>\n",
       "      <td>0.00</td>\n",
       "      <td>0</td>\n",
       "    </tr>\n",
       "    <tr>\n",
       "      <th>1</th>\n",
       "      <td>Nro_victimas</td>\n",
       "      <td>[&lt;class 'int'&gt;]</td>\n",
       "      <td>100.00</td>\n",
       "      <td>0.00</td>\n",
       "      <td>0</td>\n",
       "    </tr>\n",
       "    <tr>\n",
       "      <th>2</th>\n",
       "      <td>Anio</td>\n",
       "      <td>[&lt;class 'int'&gt;]</td>\n",
       "      <td>100.00</td>\n",
       "      <td>0.00</td>\n",
       "      <td>0</td>\n",
       "    </tr>\n",
       "    <tr>\n",
       "      <th>3</th>\n",
       "      <td>Mes</td>\n",
       "      <td>[&lt;class 'str'&gt;]</td>\n",
       "      <td>100.00</td>\n",
       "      <td>0.00</td>\n",
       "      <td>0</td>\n",
       "    </tr>\n",
       "    <tr>\n",
       "      <th>4</th>\n",
       "      <td>Dia</td>\n",
       "      <td>[&lt;class 'int'&gt;]</td>\n",
       "      <td>100.00</td>\n",
       "      <td>0.00</td>\n",
       "      <td>0</td>\n",
       "    </tr>\n",
       "    <tr>\n",
       "      <th>5</th>\n",
       "      <td>Hora</td>\n",
       "      <td>[&lt;class 'int'&gt;]</td>\n",
       "      <td>100.00</td>\n",
       "      <td>0.00</td>\n",
       "      <td>0</td>\n",
       "    </tr>\n",
       "    <tr>\n",
       "      <th>6</th>\n",
       "      <td>Lugar_hecho</td>\n",
       "      <td>[&lt;class 'str'&gt;]</td>\n",
       "      <td>100.00</td>\n",
       "      <td>0.00</td>\n",
       "      <td>0</td>\n",
       "    </tr>\n",
       "    <tr>\n",
       "      <th>7</th>\n",
       "      <td>Tipo_calle</td>\n",
       "      <td>[&lt;class 'str'&gt;]</td>\n",
       "      <td>100.00</td>\n",
       "      <td>0.00</td>\n",
       "      <td>0</td>\n",
       "    </tr>\n",
       "    <tr>\n",
       "      <th>8</th>\n",
       "      <td>Calle</td>\n",
       "      <td>[&lt;class 'str'&gt;]</td>\n",
       "      <td>100.00</td>\n",
       "      <td>0.00</td>\n",
       "      <td>0</td>\n",
       "    </tr>\n",
       "    <tr>\n",
       "      <th>9</th>\n",
       "      <td>Altura</td>\n",
       "      <td>[&lt;class 'float'&gt;]</td>\n",
       "      <td>18.81</td>\n",
       "      <td>81.19</td>\n",
       "      <td>574</td>\n",
       "    </tr>\n",
       "    <tr>\n",
       "      <th>10</th>\n",
       "      <td>Cruce</td>\n",
       "      <td>[&lt;class 'str'&gt;]</td>\n",
       "      <td>100.00</td>\n",
       "      <td>0.00</td>\n",
       "      <td>0</td>\n",
       "    </tr>\n",
       "    <tr>\n",
       "      <th>11</th>\n",
       "      <td>Direccion_normalizada</td>\n",
       "      <td>[&lt;class 'str'&gt;]</td>\n",
       "      <td>100.00</td>\n",
       "      <td>0.00</td>\n",
       "      <td>0</td>\n",
       "    </tr>\n",
       "    <tr>\n",
       "      <th>12</th>\n",
       "      <td>Comuna</td>\n",
       "      <td>[&lt;class 'int'&gt;]</td>\n",
       "      <td>100.00</td>\n",
       "      <td>0.00</td>\n",
       "      <td>0</td>\n",
       "    </tr>\n",
       "    <tr>\n",
       "      <th>13</th>\n",
       "      <td>Xy_plana</td>\n",
       "      <td>[&lt;class 'str'&gt;]</td>\n",
       "      <td>100.00</td>\n",
       "      <td>0.00</td>\n",
       "      <td>0</td>\n",
       "    </tr>\n",
       "    <tr>\n",
       "      <th>14</th>\n",
       "      <td>Long_x</td>\n",
       "      <td>[&lt;class 'str'&gt;]</td>\n",
       "      <td>100.00</td>\n",
       "      <td>0.00</td>\n",
       "      <td>0</td>\n",
       "    </tr>\n",
       "    <tr>\n",
       "      <th>15</th>\n",
       "      <td>Lat_y</td>\n",
       "      <td>[&lt;class 'str'&gt;]</td>\n",
       "      <td>100.00</td>\n",
       "      <td>0.00</td>\n",
       "      <td>0</td>\n",
       "    </tr>\n",
       "    <tr>\n",
       "      <th>16</th>\n",
       "      <td>Participantes</td>\n",
       "      <td>[&lt;class 'str'&gt;]</td>\n",
       "      <td>100.00</td>\n",
       "      <td>0.00</td>\n",
       "      <td>0</td>\n",
       "    </tr>\n",
       "    <tr>\n",
       "      <th>17</th>\n",
       "      <td>Victima</td>\n",
       "      <td>[&lt;class 'str'&gt;]</td>\n",
       "      <td>100.00</td>\n",
       "      <td>0.00</td>\n",
       "      <td>0</td>\n",
       "    </tr>\n",
       "    <tr>\n",
       "      <th>18</th>\n",
       "      <td>Acusado</td>\n",
       "      <td>[&lt;class 'str'&gt;]</td>\n",
       "      <td>100.00</td>\n",
       "      <td>0.00</td>\n",
       "      <td>0</td>\n",
       "    </tr>\n",
       "    <tr>\n",
       "      <th>19</th>\n",
       "      <td>Rol</td>\n",
       "      <td>[&lt;class 'str'&gt;]</td>\n",
       "      <td>100.00</td>\n",
       "      <td>0.00</td>\n",
       "      <td>0</td>\n",
       "    </tr>\n",
       "    <tr>\n",
       "      <th>20</th>\n",
       "      <td>Sexo</td>\n",
       "      <td>[&lt;class 'str'&gt;]</td>\n",
       "      <td>100.00</td>\n",
       "      <td>0.00</td>\n",
       "      <td>0</td>\n",
       "    </tr>\n",
       "    <tr>\n",
       "      <th>21</th>\n",
       "      <td>Edad</td>\n",
       "      <td>[&lt;class 'int'&gt;]</td>\n",
       "      <td>100.00</td>\n",
       "      <td>0.00</td>\n",
       "      <td>0</td>\n",
       "    </tr>\n",
       "    <tr>\n",
       "      <th>22</th>\n",
       "      <td>Fecha_fallecimiento</td>\n",
       "      <td>[&lt;class 'str'&gt;]</td>\n",
       "      <td>100.00</td>\n",
       "      <td>0.00</td>\n",
       "      <td>0</td>\n",
       "    </tr>\n",
       "  </tbody>\n",
       "</table>\n",
       "</div>"
      ],
      "text/plain": [
       "                   Nombre Tipos de Datos Únicos  % de Valores No Nulos  \\\n",
       "0                Id_hecho       [<class 'str'>]                 100.00   \n",
       "1            Nro_victimas       [<class 'int'>]                 100.00   \n",
       "2                    Anio       [<class 'int'>]                 100.00   \n",
       "3                     Mes       [<class 'str'>]                 100.00   \n",
       "4                     Dia       [<class 'int'>]                 100.00   \n",
       "5                    Hora       [<class 'int'>]                 100.00   \n",
       "6             Lugar_hecho       [<class 'str'>]                 100.00   \n",
       "7              Tipo_calle       [<class 'str'>]                 100.00   \n",
       "8                   Calle       [<class 'str'>]                 100.00   \n",
       "9                  Altura     [<class 'float'>]                  18.81   \n",
       "10                  Cruce       [<class 'str'>]                 100.00   \n",
       "11  Direccion_normalizada       [<class 'str'>]                 100.00   \n",
       "12                 Comuna       [<class 'int'>]                 100.00   \n",
       "13               Xy_plana       [<class 'str'>]                 100.00   \n",
       "14                 Long_x       [<class 'str'>]                 100.00   \n",
       "15                  Lat_y       [<class 'str'>]                 100.00   \n",
       "16          Participantes       [<class 'str'>]                 100.00   \n",
       "17                Victima       [<class 'str'>]                 100.00   \n",
       "18                Acusado       [<class 'str'>]                 100.00   \n",
       "19                    Rol       [<class 'str'>]                 100.00   \n",
       "20                   Sexo       [<class 'str'>]                 100.00   \n",
       "21                   Edad       [<class 'int'>]                 100.00   \n",
       "22    Fecha_fallecimiento       [<class 'str'>]                 100.00   \n",
       "\n",
       "    % de Valores Nulos  Cantidad de Valores Nulos  \n",
       "0                 0.00                          0  \n",
       "1                 0.00                          0  \n",
       "2                 0.00                          0  \n",
       "3                 0.00                          0  \n",
       "4                 0.00                          0  \n",
       "5                 0.00                          0  \n",
       "6                 0.00                          0  \n",
       "7                 0.00                          0  \n",
       "8                 0.00                          0  \n",
       "9                81.19                        574  \n",
       "10                0.00                          0  \n",
       "11                0.00                          0  \n",
       "12                0.00                          0  \n",
       "13                0.00                          0  \n",
       "14                0.00                          0  \n",
       "15                0.00                          0  \n",
       "16                0.00                          0  \n",
       "17                0.00                          0  \n",
       "18                0.00                          0  \n",
       "19                0.00                          0  \n",
       "20                0.00                          0  \n",
       "21                0.00                          0  \n",
       "22                0.00                          0  "
      ]
     },
     "execution_count": 3,
     "metadata": {},
     "output_type": "execute_result"
    }
   ],
   "source": [
    "Herr.analizar_datos(data_union)"
   ]
  },
  {
   "cell_type": "markdown",
   "metadata": {},
   "source": [
    "Previo a empezar a hacer las visualizaciones, se debe tratar la columna altura, revisaremos algunos registros aleatorios para ver si se encuentra algún patrón de referencia."
   ]
  },
  {
   "cell_type": "code",
   "execution_count": 4,
   "metadata": {},
   "outputs": [
    {
     "data": {
      "text/html": [
       "<div>\n",
       "<style scoped>\n",
       "    .dataframe tbody tr th:only-of-type {\n",
       "        vertical-align: middle;\n",
       "    }\n",
       "\n",
       "    .dataframe tbody tr th {\n",
       "        vertical-align: top;\n",
       "    }\n",
       "\n",
       "    .dataframe thead th {\n",
       "        text-align: right;\n",
       "    }\n",
       "</style>\n",
       "<table border=\"1\" class=\"dataframe\">\n",
       "  <thead>\n",
       "    <tr style=\"text-align: right;\">\n",
       "      <th></th>\n",
       "      <th>Id_hecho</th>\n",
       "      <th>Nro_victimas</th>\n",
       "      <th>Anio</th>\n",
       "      <th>Mes</th>\n",
       "      <th>Dia</th>\n",
       "      <th>Hora</th>\n",
       "      <th>Lugar_hecho</th>\n",
       "      <th>Tipo_calle</th>\n",
       "      <th>Calle</th>\n",
       "      <th>Altura</th>\n",
       "      <th>Cruce</th>\n",
       "      <th>Direccion_normalizada</th>\n",
       "    </tr>\n",
       "  </thead>\n",
       "  <tbody>\n",
       "    <tr>\n",
       "      <th>0</th>\n",
       "      <td>2016-0001</td>\n",
       "      <td>1</td>\n",
       "      <td>2016</td>\n",
       "      <td>Enero</td>\n",
       "      <td>1</td>\n",
       "      <td>4</td>\n",
       "      <td>AV PIEDRA BUENA Y AV FERNANDEZ DE LA CRUZ</td>\n",
       "      <td>AVENIDA</td>\n",
       "      <td>PIEDRA BUENA AV.</td>\n",
       "      <td>NaN</td>\n",
       "      <td>FERNANDEZ DE LA CRUZ, F., GRAL. AV.</td>\n",
       "      <td>PIEDRA BUENA AV. y FERNANDEZ DE LA CRUZ, F., G...</td>\n",
       "    </tr>\n",
       "    <tr>\n",
       "      <th>1</th>\n",
       "      <td>2016-0002</td>\n",
       "      <td>1</td>\n",
       "      <td>2016</td>\n",
       "      <td>Enero</td>\n",
       "      <td>2</td>\n",
       "      <td>1</td>\n",
       "      <td>AV GRAL PAZ  Y AV DE LOS CORRALES</td>\n",
       "      <td>AUTOPISTA</td>\n",
       "      <td>PAZ, GRAL. AV.</td>\n",
       "      <td>NaN</td>\n",
       "      <td>DE LOS CORRALES AV.</td>\n",
       "      <td>PAZ, GRAL. AV. y DE LOS CORRALES AV.</td>\n",
       "    </tr>\n",
       "    <tr>\n",
       "      <th>2</th>\n",
       "      <td>2016-0003</td>\n",
       "      <td>1</td>\n",
       "      <td>2016</td>\n",
       "      <td>Enero</td>\n",
       "      <td>3</td>\n",
       "      <td>7</td>\n",
       "      <td>AV ENTRE RIOS 2034</td>\n",
       "      <td>AVENIDA</td>\n",
       "      <td>ENTRE RIOS AV.</td>\n",
       "      <td>2034.0</td>\n",
       "      <td>No_data</td>\n",
       "      <td>ENTRE RIOS AV. 2034</td>\n",
       "    </tr>\n",
       "    <tr>\n",
       "      <th>3</th>\n",
       "      <td>2016-0004</td>\n",
       "      <td>1</td>\n",
       "      <td>2016</td>\n",
       "      <td>Enero</td>\n",
       "      <td>10</td>\n",
       "      <td>0</td>\n",
       "      <td>AV LARRAZABAL Y GRAL VILLEGAS CONRADO</td>\n",
       "      <td>AVENIDA</td>\n",
       "      <td>LARRAZABAL AV.</td>\n",
       "      <td>NaN</td>\n",
       "      <td>VILLEGAS, CONRADO, GRAL.</td>\n",
       "      <td>LARRAZABAL AV. y VILLEGAS, CONRADO, GRAL.</td>\n",
       "    </tr>\n",
       "    <tr>\n",
       "      <th>4</th>\n",
       "      <td>2016-0005</td>\n",
       "      <td>1</td>\n",
       "      <td>2016</td>\n",
       "      <td>Enero</td>\n",
       "      <td>21</td>\n",
       "      <td>5</td>\n",
       "      <td>AV SAN JUAN Y PRESIDENTE LUIS SAENZ PEÑA</td>\n",
       "      <td>AVENIDA</td>\n",
       "      <td>SAN JUAN AV.</td>\n",
       "      <td>NaN</td>\n",
       "      <td>SAENZ PE?A, LUIS, PRES.</td>\n",
       "      <td>SAN JUAN AV. y SAENZ PEÃ‘A, LUIS, PRES.</td>\n",
       "    </tr>\n",
       "    <tr>\n",
       "      <th>5</th>\n",
       "      <td>2016-0008</td>\n",
       "      <td>1</td>\n",
       "      <td>2016</td>\n",
       "      <td>Enero</td>\n",
       "      <td>24</td>\n",
       "      <td>18</td>\n",
       "      <td>AV 27 DE FEBRERO Y AV ESCALADA</td>\n",
       "      <td>AVENIDA</td>\n",
       "      <td>27 DE FEBRERO AV.</td>\n",
       "      <td>NaN</td>\n",
       "      <td>ESCALADA AV.</td>\n",
       "      <td>27 DE FEBRERO AV. y ESCALADA AV.</td>\n",
       "    </tr>\n",
       "    <tr>\n",
       "      <th>6</th>\n",
       "      <td>2016-0009</td>\n",
       "      <td>1</td>\n",
       "      <td>2016</td>\n",
       "      <td>Enero</td>\n",
       "      <td>24</td>\n",
       "      <td>19</td>\n",
       "      <td>NOGOYA Y JOAQUIN V. GONZALES</td>\n",
       "      <td>CALLE</td>\n",
       "      <td>NOGOYA</td>\n",
       "      <td>NaN</td>\n",
       "      <td>GONZALEZ, JOAQUIN V.</td>\n",
       "      <td>NOGOYA y GONZALEZ, JOAQUIN V.</td>\n",
       "    </tr>\n",
       "    <tr>\n",
       "      <th>7</th>\n",
       "      <td>2016-0010</td>\n",
       "      <td>1</td>\n",
       "      <td>2016</td>\n",
       "      <td>Enero</td>\n",
       "      <td>29</td>\n",
       "      <td>15</td>\n",
       "      <td>AV GENERAL PAZ Y AV DE LOS CORRALES</td>\n",
       "      <td>AUTOPISTA</td>\n",
       "      <td>PAZ, GRAL. AV.</td>\n",
       "      <td>NaN</td>\n",
       "      <td>DE LOS CORRALES AV.</td>\n",
       "      <td>PAZ, GRAL. AV. y DE LOS CORRALES AV.</td>\n",
       "    </tr>\n",
       "    <tr>\n",
       "      <th>8</th>\n",
       "      <td>2016-0012</td>\n",
       "      <td>1</td>\n",
       "      <td>2016</td>\n",
       "      <td>Febrero</td>\n",
       "      <td>8</td>\n",
       "      <td>1</td>\n",
       "      <td>AV BELGRANO Y BERNARDO DE IRIGOYEN</td>\n",
       "      <td>AVENIDA</td>\n",
       "      <td>BELGRANO AV.</td>\n",
       "      <td>NaN</td>\n",
       "      <td>IRIGOYEN, BERNARDO DE</td>\n",
       "      <td>BELGRANO AV. e IRIGOYEN, BERNARDO DE</td>\n",
       "    </tr>\n",
       "    <tr>\n",
       "      <th>9</th>\n",
       "      <td>2016-0013</td>\n",
       "      <td>1</td>\n",
       "      <td>2016</td>\n",
       "      <td>Febrero</td>\n",
       "      <td>10</td>\n",
       "      <td>11</td>\n",
       "      <td>AV ENTRE RIOS 1366</td>\n",
       "      <td>AVENIDA</td>\n",
       "      <td>ENTRE RIOS AV.</td>\n",
       "      <td>1366.0</td>\n",
       "      <td>No_data</td>\n",
       "      <td>ENTRE RIOS AV. 1366</td>\n",
       "    </tr>\n",
       "  </tbody>\n",
       "</table>\n",
       "</div>"
      ],
      "text/plain": [
       "    Id_hecho  Nro_victimas  Anio      Mes  Dia  Hora  \\\n",
       "0  2016-0001             1  2016    Enero    1     4   \n",
       "1  2016-0002             1  2016    Enero    2     1   \n",
       "2  2016-0003             1  2016    Enero    3     7   \n",
       "3  2016-0004             1  2016    Enero   10     0   \n",
       "4  2016-0005             1  2016    Enero   21     5   \n",
       "5  2016-0008             1  2016    Enero   24    18   \n",
       "6  2016-0009             1  2016    Enero   24    19   \n",
       "7  2016-0010             1  2016    Enero   29    15   \n",
       "8  2016-0012             1  2016  Febrero    8     1   \n",
       "9  2016-0013             1  2016  Febrero   10    11   \n",
       "\n",
       "                                 Lugar_hecho Tipo_calle              Calle  \\\n",
       "0  AV PIEDRA BUENA Y AV FERNANDEZ DE LA CRUZ    AVENIDA   PIEDRA BUENA AV.   \n",
       "1          AV GRAL PAZ  Y AV DE LOS CORRALES  AUTOPISTA     PAZ, GRAL. AV.   \n",
       "2                         AV ENTRE RIOS 2034    AVENIDA     ENTRE RIOS AV.   \n",
       "3      AV LARRAZABAL Y GRAL VILLEGAS CONRADO    AVENIDA     LARRAZABAL AV.   \n",
       "4  AV SAN JUAN Y PRESIDENTE LUIS SAENZ PEÑA     AVENIDA       SAN JUAN AV.   \n",
       "5             AV 27 DE FEBRERO Y AV ESCALADA    AVENIDA  27 DE FEBRERO AV.   \n",
       "6               NOGOYA Y JOAQUIN V. GONZALES      CALLE             NOGOYA   \n",
       "7        AV GENERAL PAZ Y AV DE LOS CORRALES  AUTOPISTA     PAZ, GRAL. AV.   \n",
       "8         AV BELGRANO Y BERNARDO DE IRIGOYEN    AVENIDA       BELGRANO AV.   \n",
       "9                         AV ENTRE RIOS 1366    AVENIDA     ENTRE RIOS AV.   \n",
       "\n",
       "   Altura                                Cruce  \\\n",
       "0     NaN  FERNANDEZ DE LA CRUZ, F., GRAL. AV.   \n",
       "1     NaN                  DE LOS CORRALES AV.   \n",
       "2  2034.0                              No_data   \n",
       "3     NaN             VILLEGAS, CONRADO, GRAL.   \n",
       "4     NaN              SAENZ PE?A, LUIS, PRES.   \n",
       "5     NaN                         ESCALADA AV.   \n",
       "6     NaN                 GONZALEZ, JOAQUIN V.   \n",
       "7     NaN                  DE LOS CORRALES AV.   \n",
       "8     NaN                IRIGOYEN, BERNARDO DE   \n",
       "9  1366.0                              No_data   \n",
       "\n",
       "                               Direccion_normalizada  \n",
       "0  PIEDRA BUENA AV. y FERNANDEZ DE LA CRUZ, F., G...  \n",
       "1               PAZ, GRAL. AV. y DE LOS CORRALES AV.  \n",
       "2                                ENTRE RIOS AV. 2034  \n",
       "3          LARRAZABAL AV. y VILLEGAS, CONRADO, GRAL.  \n",
       "4            SAN JUAN AV. y SAENZ PEÃ‘A, LUIS, PRES.  \n",
       "5                   27 DE FEBRERO AV. y ESCALADA AV.  \n",
       "6                      NOGOYA y GONZALEZ, JOAQUIN V.  \n",
       "7               PAZ, GRAL. AV. y DE LOS CORRALES AV.  \n",
       "8               BELGRANO AV. e IRIGOYEN, BERNARDO DE  \n",
       "9                                ENTRE RIOS AV. 1366  "
      ]
     },
     "execution_count": 4,
     "metadata": {},
     "output_type": "execute_result"
    }
   ],
   "source": [
    "data_union.iloc[:10,:12]"
   ]
  },
  {
   "cell_type": "markdown",
   "metadata": {},
   "source": [
    "Se encontró que los siniestros que tienen altura no tienen cruce y viceversa. Procederemos a eliminar la columna 'altura', ya que contiene muchos valores nulos y no aporta un valor significativo. En cambio, la columna 'cruce' nos proporciona más información. La modificaremos para representar los valores \"con cruce\" y \"sin cruce\", haciéndola más fácil de visualizar."
   ]
  },
  {
   "cell_type": "code",
   "execution_count": 5,
   "metadata": {},
   "outputs": [],
   "source": [
    "data_union = data_union.drop(columns='Altura',axis=1)"
   ]
  },
  {
   "cell_type": "code",
   "execution_count": 6,
   "metadata": {},
   "outputs": [],
   "source": [
    "data_union['Cruce'] = data_union['Cruce'].replace('No_data','Sin_cruce')\n",
    "data_union['Cruce'] = np.where(data_union['Cruce'] != 'Sin_cruce','Con_cruce',data_union['Cruce'])"
   ]
  },
  {
   "cell_type": "markdown",
   "metadata": {},
   "source": [
    "### Análisis de ``Nro_victimas``"
   ]
  },
  {
   "cell_type": "code",
   "execution_count": 7,
   "metadata": {},
   "outputs": [
    {
     "data": {
      "image/png": "[encoded data removed]",
      "text/plain": [
       "<Figure size 640x480 with 1 Axes>"
      ]
     },
     "metadata": {},
     "output_type": "display_data"
    }
   ],
   "source": [
    "sns.countplot(data=data_union,x='Nro_victimas',hue='Nro_victimas',palette='viridis')\n",
    "plt.title('Total de víctimas por siniestro')\n",
    "plt.ylabel('Cantidad')\n",
    "plt.xlabel('Número de víctimas')\n",
    "plt.show()"
   ]
  },
  {
   "cell_type": "markdown",
   "metadata": {},
   "source": [
    "Analizaremos la proporción que representa cada barra con respecto al total y veremos la cantidad exacta de datos para cada valor presente. Para ello utilizaremos una función del módulo Herramientas."
   ]
  },
  {
   "cell_type": "code",
   "execution_count": 8,
   "metadata": {},
   "outputs": [
    {
     "name": "stdout",
     "output_type": "stream",
     "text": [
      "Los valores de Nro_victimas:\n",
      "1    668\n",
      "2     36\n",
      "3      3\n",
      "\n",
      "El porcentaje que representa cada valor:\n",
      "1    94.48\n",
      "2     5.09\n",
      "3     0.42\n"
     ]
    }
   ],
   "source": [
    "Herr.cantidad_porcentaje(data_union,'Nro_victimas')"
   ]
  },
  {
   "cell_type": "markdown",
   "metadata": {},
   "source": [
    "La información proporcionada por este gráfico junto con los porcentajes es la siguiente:\n",
    "\n",
    "* El 94% indica que muere una sola persona por siniestro.\n",
    "* Se observa que solo hay tres valores en cuanto a la cantidad de personas fallecidas en un solo accidente: 1, 2 y 3 personas fallecidas.  \n",
    "\n",
    "Se eligió un gráfico de tipo countplot dado que hay pocos valores a representar, y queríamos conocer la frecuencia de ocurrencia en cantidades de cada valor.\n"
   ]
  },
  {
   "cell_type": "markdown",
   "metadata": {},
   "source": [
    "### Análisis de ``Anio``"
   ]
  },
  {
   "cell_type": "markdown",
   "metadata": {},
   "source": [
    "Se decidio agrupar por año a la cantidad de víctimas para que resulte mas fácil la comprensión de la visualización."
   ]
  },
  {
   "cell_type": "code",
   "execution_count": 9,
   "metadata": {},
   "outputs": [
    {
     "data": {
      "text/plain": [
       "Anio\n",
       "2018    160\n",
       "2017    155\n",
       "2016    147\n",
       "2019    105\n",
       "2021     96\n",
       "2020     86\n",
       "Name: Nro_victimas, dtype: int64"
      ]
     },
     "execution_count": 9,
     "metadata": {},
     "output_type": "execute_result"
    }
   ],
   "source": [
    "cant_fall_anio = data_union.groupby(by='Anio')['Nro_victimas'].sum().sort_values(ascending=False)\n",
    "cant_fall_anio"
   ]
  },
  {
   "cell_type": "code",
   "execution_count": 10,
   "metadata": {},
   "outputs": [
    {
     "data": {
      "image/png": "[encoded data removed]",
      "text/plain": [
       "<Figure size 640x480 with 1 Axes>"
      ]
     },
     "metadata": {},
     "output_type": "display_data"
    }
   ],
   "source": [
    "sns.lineplot(y=cant_fall_anio.values,x=cant_fall_anio.index,color='blue',marker='o',markerfacecolor='red')\n",
    "plt.title('Cantidad de fallecidos por año')\n",
    "plt.xlabel('Año')\n",
    "plt.ylabel('Cantidad de fallecidos')\n",
    "plt.show()"
   ]
  },
  {
   "cell_type": "markdown",
   "metadata": {},
   "source": [
    "Analizaremos la proporción que representa cada punto con respecto al total y veremos la cantidad exacta de datos para cada año. Para ello utilizaremos una función del módulo Herramientas."
   ]
  },
  {
   "cell_type": "code",
   "execution_count": 11,
   "metadata": {},
   "outputs": [
    {
     "name": "stdout",
     "output_type": "stream",
     "text": [
      "Los valores de Anio:\n",
      "2018    148\n",
      "2016    143\n",
      "2017    137\n",
      "2019    103\n",
      "2021     96\n",
      "2020     80\n",
      "\n",
      "El porcentaje que representa cada valor:\n",
      "2018    20.93\n",
      "2016    20.23\n",
      "2017    19.38\n",
      "2019    14.57\n",
      "2021    13.58\n",
      "2020    11.32\n"
     ]
    }
   ],
   "source": [
    "Herr.cantidad_porcentaje(data_union,'Anio')"
   ]
  },
  {
   "cell_type": "markdown",
   "metadata": {},
   "source": [
    "La información proporcionada por este gráfico junto con los porcentajes es la siguiente:\n",
    "\n",
    "* El año 2018 destaca como el año con la mayor cantidad de personas fallecidas, representando el 20.93% del total. \n",
    "* En los tres años siguientes al 2018, se observa una reducción de al menos un 6% en estas muertes, y en el 2020 se registra una disminución de hasta el 9%. Es posible que esta reducción en 2020 esté relacionada con el contexto mundial del COVID-19, que llevó a restricciones en la circulación de vehículos particulares.  \n",
    "\n",
    "Se optó por un gráfico de tipo lineplot porque este permite visualizar de manera clara la evolución de la variable \"Nro_victimas\" a lo largo de los años."
   ]
  },
  {
   "cell_type": "markdown",
   "metadata": {},
   "source": [
    "### Análisis de ``Nro_victimas``"
   ]
  },
  {
   "cell_type": "markdown",
   "metadata": {},
   "source": [
    "Analizaremos la proporción que representa cada barra con respecto al total y veremos la cantidad exacta de datos para cada valor presente. Para ello utilizaremos una función del módulo Herramientas."
   ]
  },
  {
   "cell_type": "code",
   "execution_count": 12,
   "metadata": {},
   "outputs": [
    {
     "name": "stdout",
     "output_type": "stream",
     "text": [
      "Los valores de Nro_victimas:\n",
      "1    668\n",
      "2     36\n",
      "3      3\n",
      "\n",
      "El porcentaje que representa cada valor:\n",
      "1    94.48\n",
      "2     5.09\n",
      "3     0.42\n"
     ]
    }
   ],
   "source": [
    "Herr.cantidad_porcentaje(data_union,'Nro_victimas')"
   ]
  },
  {
   "cell_type": "markdown",
   "metadata": {},
   "source": [
    "### Análisis de ``Nro_victimas``"
   ]
  },
  {
   "cell_type": "markdown",
   "metadata": {},
   "source": [
    "Analizaremos la proporción que representa cada barra con respecto al total y veremos la cantidad exacta de datos para cada valor presente. Para ello utilizaremos una función del módulo Herramientas."
   ]
  },
  {
   "cell_type": "code",
   "execution_count": 13,
   "metadata": {},
   "outputs": [
    {
     "name": "stdout",
     "output_type": "stream",
     "text": [
      "Los valores de Nro_victimas:\n",
      "1    668\n",
      "2     36\n",
      "3      3\n",
      "\n",
      "El porcentaje que representa cada valor:\n",
      "1    94.48\n",
      "2     5.09\n",
      "3     0.42\n"
     ]
    }
   ],
   "source": [
    "Herr.cantidad_porcentaje(data_union,'Nro_victimas')"
   ]
  },
  {
   "cell_type": "markdown",
   "metadata": {},
   "source": [
    "### Análisis de ``Nro_victimas``"
   ]
  },
  {
   "cell_type": "markdown",
   "metadata": {},
   "source": [
    "Analizaremos la proporción que representa cada barra con respecto al total y veremos la cantidad exacta de datos para cada valor presente. Para ello utilizaremos una función del módulo Herramientas."
   ]
  },
  {
   "cell_type": "code",
   "execution_count": 14,
   "metadata": {},
   "outputs": [
    {
     "name": "stdout",
     "output_type": "stream",
     "text": [
      "Los valores de Nro_victimas:\n",
      "1    668\n",
      "2     36\n",
      "3      3\n",
      "\n",
      "El porcentaje que representa cada valor:\n",
      "1    94.48\n",
      "2     5.09\n",
      "3     0.42\n"
     ]
    }
   ],
   "source": [
    "Herr.cantidad_porcentaje(data_union,'Nro_victimas')"
   ]
  },
  {
   "cell_type": "markdown",
   "metadata": {},
   "source": [
    "### Análisis de ``Nro_victimas``"
   ]
  },
  {
   "cell_type": "markdown",
   "metadata": {},
   "source": [
    "Analizaremos la proporción que representa cada barra con respecto al total y veremos la cantidad exacta de datos para cada valor presente. Para ello utilizaremos una función del módulo Herramientas."
   ]
  },
  {
   "cell_type": "code",
   "execution_count": 15,
   "metadata": {},
   "outputs": [
    {
     "name": "stdout",
     "output_type": "stream",
     "text": [
      "Los valores de Nro_victimas:\n",
      "1    668\n",
      "2     36\n",
      "3      3\n",
      "\n",
      "El porcentaje que representa cada valor:\n",
      "1    94.48\n",
      "2     5.09\n",
      "3     0.42\n"
     ]
    }
   ],
   "source": [
    "Herr.cantidad_porcentaje(data_union,'Nro_victimas')"
   ]
  },
  {
   "cell_type": "markdown",
   "metadata": {},
   "source": [
    "### Análisis de ``Nro_victimas``"
   ]
  },
  {
   "cell_type": "markdown",
   "metadata": {},
   "source": [
    "Analizaremos la proporción que representa cada barra con respecto al total y veremos la cantidad exacta de datos para cada valor presente. Para ello utilizaremos una función del módulo Herramientas."
   ]
  },
  {
   "cell_type": "code",
   "execution_count": 16,
   "metadata": {},
   "outputs": [
    {
     "name": "stdout",
     "output_type": "stream",
     "text": [
      "Los valores de Nro_victimas:\n",
      "1    668\n",
      "2     36\n",
      "3      3\n",
      "\n",
      "El porcentaje que representa cada valor:\n",
      "1    94.48\n",
      "2     5.09\n",
      "3     0.42\n"
     ]
    }
   ],
   "source": [
    "Herr.cantidad_porcentaje(data_union,'Nro_victimas')"
   ]
  },
  {
   "cell_type": "markdown",
   "metadata": {},
   "source": [
    "### Análisis de ``Nro_victimas``"
   ]
  },
  {
   "cell_type": "markdown",
   "metadata": {},
   "source": [
    "Analizaremos la proporción que representa cada barra con respecto al total y veremos la cantidad exacta de datos para cada valor presente. Para ello utilizaremos una función del módulo Herramientas."
   ]
  },
  {
   "cell_type": "code",
   "execution_count": 17,
   "metadata": {},
   "outputs": [
    {
     "name": "stdout",
     "output_type": "stream",
     "text": [
      "Los valores de Nro_victimas:\n",
      "1    668\n",
      "2     36\n",
      "3      3\n",
      "\n",
      "El porcentaje que representa cada valor:\n",
      "1    94.48\n",
      "2     5.09\n",
      "3     0.42\n"
     ]
    }
   ],
   "source": [
    "Herr.cantidad_porcentaje(data_union,'Nro_victimas')"
   ]
  },
  {
   "cell_type": "markdown",
   "metadata": {},
   "source": [
    "### Análisis de ``Nro_victimas``"
   ]
  },
  {
   "cell_type": "markdown",
   "metadata": {},
   "source": [
    "Analizaremos la proporción que representa cada barra con respecto al total y veremos la cantidad exacta de datos para cada valor presente. Para ello utilizaremos una función del módulo Herramientas."
   ]
  },
  {
   "cell_type": "code",
   "execution_count": 18,
   "metadata": {},
   "outputs": [
    {
     "name": "stdout",
     "output_type": "stream",
     "text": [
      "Los valores de Nro_victimas:\n",
      "1    668\n",
      "2     36\n",
      "3      3\n",
      "\n",
      "El porcentaje que representa cada valor:\n",
      "1    94.48\n",
      "2     5.09\n",
      "3     0.42\n"
     ]
    }
   ],
   "source": [
    "Herr.cantidad_porcentaje(data_union,'Nro_victimas')"
   ]
  },
  {
   "cell_type": "markdown",
   "metadata": {},
   "source": [
    "### Análisis de ``Nro_victimas``"
   ]
  },
  {
   "cell_type": "markdown",
   "metadata": {},
   "source": [
    "Analizaremos la proporción que representa cada barra con respecto al total y veremos la cantidad exacta de datos para cada valor presente. Para ello utilizaremos una función del módulo Herramientas."
   ]
  },
  {
   "cell_type": "code",
   "execution_count": 19,
   "metadata": {},
   "outputs": [
    {
     "name": "stdout",
     "output_type": "stream",
     "text": [
      "Los valores de Nro_victimas:\n",
      "1    668\n",
      "2     36\n",
      "3      3\n",
      "\n",
      "El porcentaje que representa cada valor:\n",
      "1    94.48\n",
      "2     5.09\n",
      "3     0.42\n"
     ]
    }
   ],
   "source": [
    "Herr.cantidad_porcentaje(data_union,'Nro_victimas')"
   ]
  },
  {
   "cell_type": "markdown",
   "metadata": {},
   "source": [
    "### Análisis de ``Nro_victimas``"
   ]
  },
  {
   "cell_type": "markdown",
   "metadata": {},
   "source": [
    "Analizaremos la proporción que representa cada barra con respecto al total y veremos la cantidad exacta de datos para cada valor presente. Para ello utilizaremos una función del módulo Herramientas."
   ]
  },
  {
   "cell_type": "code",
   "execution_count": 20,
   "metadata": {},
   "outputs": [
    {
     "name": "stdout",
     "output_type": "stream",
     "text": [
      "Los valores de Nro_victimas:\n",
      "1    668\n",
      "2     36\n",
      "3      3\n",
      "\n",
      "El porcentaje que representa cada valor:\n",
      "1    94.48\n",
      "2     5.09\n",
      "3     0.42\n"
     ]
    }
   ],
   "source": [
    "Herr.cantidad_porcentaje(data_union,'Nro_victimas')"
   ]
  },
  {
   "cell_type": "markdown",
   "metadata": {},
   "source": [
    "### Análisis de ``Nro_victimas``"
   ]
  },
  {
   "cell_type": "markdown",
   "metadata": {},
   "source": [
    "Analizaremos la proporción que representa cada barra con respecto al total y veremos la cantidad exacta de datos para cada valor presente. Para ello utilizaremos una función del módulo Herramientas."
   ]
  },
  {
   "cell_type": "code",
   "execution_count": 21,
   "metadata": {},
   "outputs": [
    {
     "name": "stdout",
     "output_type": "stream",
     "text": [
      "Los valores de Nro_victimas:\n",
      "1    668\n",
      "2     36\n",
      "3      3\n",
      "\n",
      "El porcentaje que representa cada valor:\n",
      "1    94.48\n",
      "2     5.09\n",
      "3     0.42\n"
     ]
    }
   ],
   "source": [
    "Herr.cantidad_porcentaje(data_union,'Nro_victimas')"
   ]
  },
  {
   "cell_type": "markdown",
   "metadata": {},
   "source": [
    "### Análisis de ``Nro_victimas``"
   ]
  },
  {
   "cell_type": "markdown",
   "metadata": {},
   "source": [
    "Analizaremos la proporción que representa cada barra con respecto al total y veremos la cantidad exacta de datos para cada valor presente. Para ello utilizaremos una función del módulo Herramientas."
   ]
  },
  {
   "cell_type": "code",
   "execution_count": 22,
   "metadata": {},
   "outputs": [
    {
     "name": "stdout",
     "output_type": "stream",
     "text": [
      "Los valores de Nro_victimas:\n",
      "1    668\n",
      "2     36\n",
      "3      3\n",
      "\n",
      "El porcentaje que representa cada valor:\n",
      "1    94.48\n",
      "2     5.09\n",
      "3     0.42\n"
     ]
    }
   ],
   "source": [
    "Herr.cantidad_porcentaje(data_union,'Nro_victimas')"
   ]
  },
  {
   "cell_type": "markdown",
   "metadata": {},
   "source": [
    "### Análisis de ``Nro_victimas``"
   ]
  },
  {
   "cell_type": "markdown",
   "metadata": {},
   "source": [
    "Analizaremos la proporción que representa cada barra con respecto al total y veremos la cantidad exacta de datos para cada valor presente. Para ello utilizaremos una función del módulo Herramientas."
   ]
  },
  {
   "cell_type": "code",
   "execution_count": 23,
   "metadata": {},
   "outputs": [
    {
     "name": "stdout",
     "output_type": "stream",
     "text": [
      "Los valores de Nro_victimas:\n",
      "1    668\n",
      "2     36\n",
      "3      3\n",
      "\n",
      "El porcentaje que representa cada valor:\n",
      "1    94.48\n",
      "2     5.09\n",
      "3     0.42\n"
     ]
    }
   ],
   "source": [
    "Herr.cantidad_porcentaje(data_union,'Nro_victimas')"
   ]
  },
  {
   "cell_type": "markdown",
   "metadata": {},
   "source": [
    "### Análisis de ``Nro_victimas``"
   ]
  },
  {
   "cell_type": "markdown",
   "metadata": {},
   "source": [
    "Analizaremos la proporción que representa cada barra con respecto al total y veremos la cantidad exacta de datos para cada valor presente. Para ello utilizaremos una función del módulo Herramientas."
   ]
  },
  {
   "cell_type": "code",
   "execution_count": 24,
   "metadata": {},
   "outputs": [
    {
     "name": "stdout",
     "output_type": "stream",
     "text": [
      "Los valores de Nro_victimas:\n",
      "1    668\n",
      "2     36\n",
      "3      3\n",
      "\n",
      "El porcentaje que representa cada valor:\n",
      "1    94.48\n",
      "2     5.09\n",
      "3     0.42\n"
     ]
    }
   ],
   "source": [
    "Herr.cantidad_porcentaje(data_union,'Nro_victimas')"
   ]
  },
  {
   "cell_type": "markdown",
   "metadata": {},
   "source": [
    "### Análisis de ``Nro_victimas``"
   ]
  },
  {
   "cell_type": "markdown",
   "metadata": {},
   "source": [
    "Analizaremos la proporción que representa cada barra con respecto al total y veremos la cantidad exacta de datos para cada valor presente. Para ello utilizaremos una función del módulo Herramientas."
   ]
  },
  {
   "cell_type": "code",
   "execution_count": 25,
   "metadata": {},
   "outputs": [
    {
     "name": "stdout",
     "output_type": "stream",
     "text": [
      "Los valores de Nro_victimas:\n",
      "1    668\n",
      "2     36\n",
      "3      3\n",
      "\n",
      "El porcentaje que representa cada valor:\n",
      "1    94.48\n",
      "2     5.09\n",
      "3     0.42\n"
     ]
    }
   ],
   "source": [
    "Herr.cantidad_porcentaje(data_union,'Nro_victimas')"
   ]
  },
  {
   "cell_type": "markdown",
   "metadata": {},
   "source": [
    "### Análisis de ``Nro_victimas``"
   ]
  },
  {
   "cell_type": "markdown",
   "metadata": {},
   "source": [
    "Analizaremos la proporción que representa cada barra con respecto al total y veremos la cantidad exacta de datos para cada valor presente. Para ello utilizaremos una función del módulo Herramientas."
   ]
  },
  {
   "cell_type": "code",
   "execution_count": 26,
   "metadata": {},
   "outputs": [
    {
     "name": "stdout",
     "output_type": "stream",
     "text": [
      "Los valores de Nro_victimas:\n",
      "1    668\n",
      "2     36\n",
      "3      3\n",
      "\n",
      "El porcentaje que representa cada valor:\n",
      "1    94.48\n",
      "2     5.09\n",
      "3     0.42\n"
     ]
    }
   ],
   "source": [
    "Herr.cantidad_porcentaje(data_union,'Nro_victimas')"
   ]
  },
  {
   "cell_type": "markdown",
   "metadata": {},
   "source": [
    "### Análisis de ``Nro_victimas``"
   ]
  },
  {
   "cell_type": "markdown",
   "metadata": {},
   "source": [
    "Analizaremos la proporción que representa cada barra con respecto al total y veremos la cantidad exacta de datos para cada valor presente. Para ello utilizaremos una función del módulo Herramientas."
   ]
  },
  {
   "cell_type": "code",
   "execution_count": 27,
   "metadata": {},
   "outputs": [
    {
     "name": "stdout",
     "output_type": "stream",
     "text": [
      "Los valores de Nro_victimas:\n",
      "1    668\n",
      "2     36\n",
      "3      3\n",
      "\n",
      "El porcentaje que representa cada valor:\n",
      "1    94.48\n",
      "2     5.09\n",
      "3     0.42\n"
     ]
    }
   ],
   "source": [
    "Herr.cantidad_porcentaje(data_union,'Nro_victimas')"
   ]
  },
  {
   "cell_type": "markdown",
   "metadata": {},
   "source": [
    "### Análisis de ``Nro_victimas``"
   ]
  },
  {
   "cell_type": "markdown",
   "metadata": {},
   "source": [
    "Analizaremos la proporción que representa cada barra con respecto al total y veremos la cantidad exacta de datos para cada valor presente. Para ello utilizaremos una función del módulo Herramientas."
   ]
  },
  {
   "cell_type": "code",
   "execution_count": 28,
   "metadata": {},
   "outputs": [
    {
     "name": "stdout",
     "output_type": "stream",
     "text": [
      "Los valores de Nro_victimas:\n",
      "1    668\n",
      "2     36\n",
      "3      3\n",
      "\n",
      "El porcentaje que representa cada valor:\n",
      "1    94.48\n",
      "2     5.09\n",
      "3     0.42\n"
     ]
    }
   ],
   "source": [
    "Herr.cantidad_porcentaje(data_union,'Nro_victimas')"
   ]
  },
  {
   "cell_type": "markdown",
   "metadata": {},
   "source": [
    "### Análisis de ``Nro_victimas``"
   ]
  },
  {
   "cell_type": "markdown",
   "metadata": {},
   "source": [
    "Analizaremos la proporción que representa cada barra con respecto al total y veremos la cantidad exacta de datos para cada valor presente. Para ello utilizaremos una función del módulo Herramientas."
   ]
  },
  {
   "cell_type": "code",
   "execution_count": 29,
   "metadata": {},
   "outputs": [
    {
     "name": "stdout",
     "output_type": "stream",
     "text": [
      "Los valores de Nro_victimas:\n",
      "1    668\n",
      "2     36\n",
      "3      3\n",
      "\n",
      "El porcentaje que representa cada valor:\n",
      "1    94.48\n",
      "2     5.09\n",
      "3     0.42\n"
     ]
    }
   ],
   "source": [
    "Herr.cantidad_porcentaje(data_union,'Nro_victimas')"
   ]
  },
  {
   "cell_type": "markdown",
   "metadata": {},
   "source": [
    "### Análisis de ``Nro_victimas``"
   ]
  },
  {
   "cell_type": "markdown",
   "metadata": {},
   "source": [
    "Analizaremos la proporción que representa cada barra con respecto al total y veremos la cantidad exacta de datos para cada valor presente. Para ello utilizaremos una función del módulo Herramientas."
   ]
  },
  {
   "cell_type": "code",
   "execution_count": 30,
   "metadata": {},
   "outputs": [
    {
     "name": "stdout",
     "output_type": "stream",
     "text": [
      "Los valores de Nro_victimas:\n",
      "1    668\n",
      "2     36\n",
      "3      3\n",
      "\n",
      "El porcentaje que representa cada valor:\n",
      "1    94.48\n",
      "2     5.09\n",
      "3     0.42\n"
     ]
    }
   ],
   "source": [
    "Herr.cantidad_porcentaje(data_union,'Nro_victimas')"
   ]
  },
  {
   "cell_type": "code",
   "execution_count": null,
   "metadata": {},
   "outputs": [],
   "source": []
  },
  {
   "cell_type": "code",
   "execution_count": null,
   "metadata": {},
   "outputs": [],
   "source": []
  },
  {
   "cell_type": "code",
   "execution_count": null,
   "metadata": {},
   "outputs": [],
   "source": []
  },
  {
   "cell_type": "code",
   "execution_count": null,
   "metadata": {},
   "outputs": [],
   "source": []
  },
  {
   "cell_type": "code",
   "execution_count": null,
   "metadata": {},
   "outputs": [],
   "source": []
  },
  {
   "cell_type": "code",
   "execution_count": null,
   "metadata": {},
   "outputs": [],
   "source": []
  },
  {
   "cell_type": "code",
   "execution_count": null,
   "metadata": {},
   "outputs": [],
   "source": []
  },
  {
   "cell_type": "code",
   "execution_count": null,
   "metadata": {},
   "outputs": [],
   "source": []
  },
  {
   "cell_type": "code",
   "execution_count": null,
   "metadata": {},
   "outputs": [],
   "source": []
  },
  {
   "cell_type": "code",
   "execution_count": null,
   "metadata": {},
   "outputs": [],
   "source": []
  },
  {
   "cell_type": "markdown",
   "metadata": {},
   "source": [
    "Se puede notar que el año con mayor cantidad de accidentes es el año 2018, con 142 fallecidos, seguido por 2016 con diferencia de un solo fallecimiento. Estos dos años juntos representan más del 40% de los datos."
   ]
  },
  {
   "cell_type": "markdown",
   "metadata": {},
   "source": []
  }
 ],
 "metadata": {
  "kernelspec": {
   "display_name": "Python 3",
   "language": "python",
   "name": "python3"
  },
  "language_info": {
   "codemirror_mode": {
    "name": "ipython",
    "version": 3
   },
   "file_extension": ".py",
   "mimetype": "text/x-python",
   "name": "python",
   "nbconvert_exporter": "python",
   "pygments_lexer": "ipython3",
   "version": "3.11.4"
  }
 },
 "nbformat": 4,
 "nbformat_minor": 2
}
