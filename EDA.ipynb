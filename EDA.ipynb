{
 "cells": [
  {
   "cell_type": "code",
   "execution_count": null,
   "metadata": {},
   "outputs": [],
   "source": []
  },
  {
   "cell_type": "markdown",
   "metadata": {},
   "source": [
    "Se puede notar que el año con mayor cantidad de accidentes es el año 2018, con 142 fallecidos, seguido por 2016 con diferencia de un solo fallecimiento. Estos dos años juntos representan más del 40% de los datos."
   ]
  },
  {
   "cell_type": "markdown",
   "metadata": {},
   "source": [
    "Se observa que solo hay tres valores en cuanto a cantidad de personas fallecidas en un solo accidente: 1, 2 y 3 personas fallecidas. La gran mayoría de los datos, es decir, un 97% de los datos, muere una sola persona."
   ]
  },
  {
   "cell_type": "markdown",
   "metadata": {},
   "source": []
  }
 ],
 "metadata": {
  "language_info": {
   "name": "python"
  }
 },
 "nbformat": 4,
 "nbformat_minor": 2
}
